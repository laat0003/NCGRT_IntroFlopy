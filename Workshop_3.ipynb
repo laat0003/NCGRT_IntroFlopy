{
 "cells": [
  {
   "cell_type": "markdown",
   "id": "c72e3590-f8ea-44c4-8ebe-526e42bdc679",
   "metadata": {},
   "source": [
    "# Workshop 3\r\n",
    "\n",
    "Hi and welcome to th ethirdd workshop. This session will focus o nboundary conditions, specifically list type boundary conditions. Some boundary conditions also allow for specifying arrays but we will cover that in the next session along with other array style input packages. You will also be introduced to use and configuration of time series files plus use and configuration of observation files. Additionally, we will introduce specifying auxliary variables as either mutipliers or for transport modelling.  \n",
    "\n",
    "As before please make sure you have the MF6io.pdf document open while working through this notebook because it will show you the model input file strucure for the specific boundary/package that you are creating and provides a more complete reference of the different options available. py."
   ]
  },
  {
   "cell_type": "markdown",
   "id": "956b521d-3850-44d0-b8ab-991340c75776",
   "metadata": {},
   "source": [
    "# Build a simple steady-state structured model"
   ]
  },
  {
   "cell_type": "code",
   "execution_count": null,
   "id": "934d9e56-90c7-48b5-b79b-0a6073f4ffee",
   "metadata": {},
   "outputs": [],
   "source": []
  },
  {
   "cell_type": "markdown",
   "id": "35cc73b8-eacd-44f6-bbb0-2660e9950c52",
   "metadata": {},
   "source": [
    "# A note on stress periods, stress period data and grid type\n",
    "speak here about boundary conditions being active after single stress period specification. Also talk about the significance of the stress period dictionary and cell selection. Also mention the change in node id depending on grid type being used."
   ]
  },
  {
   "cell_type": "markdown",
   "id": "cda037be-21c5-4ced-bb27-3457ce1d961d",
   "metadata": {},
   "source": [
    "# Assign a constant head (First type BC)"
   ]
  },
  {
   "cell_type": "code",
   "execution_count": null,
   "id": "27b04630-e36f-46c6-bd51-1155258d3bbb",
   "metadata": {},
   "outputs": [],
   "source": []
  },
  {
   "cell_type": "markdown",
   "id": "62ab2dc5-6c63-4338-9f4b-895fb237b586",
   "metadata": {},
   "source": [
    "# Check by plotting the modelgrid"
   ]
  },
  {
   "cell_type": "code",
   "execution_count": null,
   "id": "f9e30e01-aefa-4836-95d8-b0d7d14a9151",
   "metadata": {},
   "outputs": [],
   "source": []
  },
  {
   "cell_type": "markdown",
   "id": "23ea1d89-a696-4899-9802-6c4991d505a9",
   "metadata": {},
   "source": [
    "# Assign a constant flux boundary (Second type BC)"
   ]
  },
  {
   "cell_type": "code",
   "execution_count": null,
   "id": "2980f21b-98c0-4b26-985e-58ed3f0aa4fe",
   "metadata": {},
   "outputs": [],
   "source": []
  },
  {
   "cell_type": "markdown",
   "id": "7049843a-4bd5-4fc2-909c-2412cc830f45",
   "metadata": {},
   "source": [
    "# Check by plotting the modelgrid"
   ]
  },
  {
   "cell_type": "code",
   "execution_count": null,
   "id": "6b3d780d-b11d-4b91-90f1-19b7cc30dfd4",
   "metadata": {},
   "outputs": [],
   "source": []
  },
  {
   "cell_type": "markdown",
   "id": "86039852-628b-4d2e-9c00-98c70b52e159",
   "metadata": {},
   "source": [
    "# Assign a head dependent flux boundary (Third type BC)"
   ]
  },
  {
   "cell_type": "code",
   "execution_count": 1,
   "id": "685a78f6-574b-4945-a737-b34604aec917",
   "metadata": {},
   "outputs": [],
   "source": [
    "# "
   ]
  },
  {
   "cell_type": "markdown",
   "id": "aacca1c1-6740-4c56-aa48-3b250e2ae9c0",
   "metadata": {},
   "source": [
    "# Check by plotting the modelgrid"
   ]
  },
  {
   "cell_type": "code",
   "execution_count": null,
   "id": "4b1e3e58-f7ff-4bd5-9550-416c07956eae",
   "metadata": {},
   "outputs": [],
   "source": []
  },
  {
   "cell_type": "code",
   "execution_count": null,
   "id": "a94ef334-e62f-4560-bd59-9aeb2577b47a",
   "metadata": {},
   "outputs": [],
   "source": []
  }
 ],
 "metadata": {
  "kernelspec": {
   "display_name": "Python 3 (ipykernel)",
   "language": "python",
   "name": "python3"
  },
  "language_info": {
   "codemirror_mode": {
    "name": "ipython",
    "version": 3
   },
   "file_extension": ".py",
   "mimetype": "text/x-python",
   "name": "python",
   "nbconvert_exporter": "python",
   "pygments_lexer": "ipython3",
   "version": "3.10.12"
  }
 },
 "nbformat": 4,
 "nbformat_minor": 5
}
