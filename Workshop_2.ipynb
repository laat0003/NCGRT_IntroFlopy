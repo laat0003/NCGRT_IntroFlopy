{
 "cells": [
  {
   "cell_type": "markdown",
   "id": "1a075fa9-b701-408a-875b-88ccde8a7f48",
   "metadata": {},
   "source": [
    "# Workshop 2\n",
    "\n",
    "Hi and welcome to the second workshop. This session will focus on spatial discretisation and introduce you to the Flopy modelgrid object, which is used for exporting model information in various formats. Modflow-6 includes 3-types of grid discretisation namely structured (DIS), vertices (DISV) and unstructured (DISU) that we will explore with Flopy. Also included in this workshop will be an introduction to using Gridgen to build a quadtree refined model mesh. There are some optional dependencies for Flopy that you will need to have installed in your environment otherwise you may not be able to execute some parts of the workshop."
   ]
  }
 ],
 "metadata": {
  "kernelspec": {
   "display_name": "Python 3 (ipykernel)",
   "language": "python",
   "name": "python3"
  },
  "language_info": {
   "codemirror_mode": {
    "name": "ipython",
    "version": 3
   },
   "file_extension": ".py",
   "mimetype": "text/x-python",
   "name": "python",
   "nbconvert_exporter": "python",
   "pygments_lexer": "ipython3",
   "version": "3.10.12"
  }
 },
 "nbformat": 4,
 "nbformat_minor": 5
}
