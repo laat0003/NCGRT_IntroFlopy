{
 "cells": [
  {
   "cell_type": "markdown",
   "id": "86776014-3339-4669-9182-4ee0d0657387",
   "metadata": {},
   "source": [
    "# Workshop 3\r\n",
    "\n",
    "Hi and welcome to t  ethirdd workshop. This session will focu o  nboundary conditions, specifically list type boundary conditions. Some boundary conditions also allow for specifying arrays but we will cover that in the next session along with other array style input packages. You will also be introduced to use and configuration of time series files plus use and configuration of observation files. Additionally, we will introduce specifying auxliary variables as either mutipliers or for transport modelling.  \n",
    "\n",
    "As before please make sure you have the MF6io.pdf document open while working through this notebook because it will show you the model input file strucure for the specific boundary/package that you are creating and provides a more complete reference of the different options available. py."
   ]
  },
  {
   "cell_type": "markdown",
   "id": "c3804a7d-3e8a-429b-a985-80869403a3c8",
   "metadata": {},
   "source": [
    "# Imports first"
   ]
  },
  {
   "cell_type": "code",
   "execution_count": 19,
   "id": "d9bbe270-7652-4eb0-850b-2dc9ac5cab30",
   "metadata": {},
   "outputs": [
    {
     "name": "stdout",
     "output_type": "stream",
     "text": [
      "Pandas version = 2.1.1\n",
      "Numpy version = 1.26.0\n",
      "Flopy version = 3.4.3\n",
      "Matplotlib version = 3.8.0\n"
     ]
    }
   ],
   "source": [
    "import os\n",
    "import sys\n",
    "import shutil\n",
    "import platform\n",
    "import pandas as pd\n",
    "import numpy as np\n",
    "import matplotlib\n",
    "import matplotlib.pyplot as plt\n",
    "import flopy\n",
    "\n",
    "print(f\"Pandas version = {pd.__version__}\")\n",
    "print(f\"Numpy version = {np.__version__}\")\n",
    "print(f\"Flopy version = {flopy.__version__}\")\n",
    "print(f\"Matplotlib version = {matplotlib.__version__}\")"
   ]
  },
  {
   "cell_type": "markdown",
   "id": "956b521d-3850-44d0-b8ab-991340c75776",
   "metadata": {},
   "source": [
    "# Build a simple steady-state structured model"
   ]
  },
  {
   "cell_type": "code",
   "execution_count": 20,
   "id": "934d9e56-90c7-48b5-b79b-0a6073f4ffee",
   "metadata": {},
   "outputs": [],
   "source": [
    "# Setup some folders\n",
    "ws3 = os.path.join('workshop_3') # here we are making a path not creating the folder\n",
    "gis_f = os.path.join(ws3,'GIS') # creating a sub-directory path for our gis input/output\n",
    "model_f = os.path.join(ws3,'model') # creating a sub-directory path for our model input/output\n",
    "plots_f = os.path.join(ws3,'plots') # creating a sub-directory path for our plots\n",
    "for path in [ws3,gis_f,model_f,plots_f]:\n",
    "    if os.path.exists(path): # here we are asking if the path exists on the computer. \n",
    "        shutil.rmtree(path)# if it does exist, delete it and all the files in it\n",
    "        os.mkdir(path) # then remake it\n",
    "    else:\n",
    "        os.mkdir(path) # if it doesn't exist then make the folder\n",
    "\n",
    "#Build some basic model objects\n",
    "simulation_name = 'MySim' # setting a name for our simulation\n",
    "sim = flopy.mf6.MFSimulation(sim_name=simulation_name, sim_ws=model_f, exe_name='mf6') # for a no frills mfsim.nam file\n",
    "tdis = flopy.mf6.ModflowTdis(sim) # for the MySim.tdis file, recall this sets a single steady-state stress period\n",
    "ims = flopy.mf6.ModflowIms(sim) # for the MySim.ims file, recall this sets up IMS as 'SIMPLE'\n",
    "model_name = 'flow' # setting a name for our model\n",
    "gwf = flopy.mf6.ModflowGwf(sim, modelname=model_name, save_flows=True) # for the flow.nam file\n",
    "\n",
    "# Recall that there are default values applied to whatever you don't specify. \n",
    "# What esle should have been specified? Check your mf6io.pdf document.\n",
    "# Make sure you are aware of the default entries that Flopy uses when you don't specify something for a package.\n",
    "# REMEBER\n",
    "# *** as the modeller it is your responsibility to check your input files ***\n",
    "nrow = 20\n",
    "ncol = 20\n",
    "dis = flopy.mf6.ModflowGwfdis(gwf, nrow=nrow, ncol=ncol) # why not just specify the values in here directly? Why use ncol=ncol?"
   ]
  },
  {
   "cell_type": "markdown",
   "id": "6f15445e-5263-40bd-b544-07f5443f092a",
   "metadata": {},
   "source": [
    "# Taking a look at things"
   ]
  },
  {
   "cell_type": "code",
   "execution_count": 21,
   "id": "31bb087d-2f7b-4114-9a66-2bfa07de5ae9",
   "metadata": {},
   "outputs": [
    {
     "name": "stdout",
     "output_type": "stream",
     "text": [
      "No CRS information for writing a .prj file.\n",
      "Supply an valid coordinate system reference to the attached modelgrid object or .export() method.\n",
      "No CRS information for writing a .prj file.\n",
      "Supply an valid coordinate system reference to the attached modelgrid object or .export() method.\n"
     ]
    },
    {
     "name": "stderr",
     "output_type": "stream",
     "text": [
      "C:\\ProgramData\\miniconda3\\envs\\model_env\\lib\\site-packages\\flopy\\export\\shapefile_utils.py:307: UserWarning: Failed to get data for delc array, dis package\n",
      "  warn(\n",
      "C:\\ProgramData\\miniconda3\\envs\\model_env\\lib\\site-packages\\flopy\\export\\shapefile_utils.py:307: UserWarning: Failed to get data for delr array, dis package\n",
      "  warn(\n",
      "C:\\ProgramData\\miniconda3\\envs\\model_env\\lib\\site-packages\\flopy\\export\\shapefile_utils.py:318: UserWarning: Failed to get data for idomain array, dis package\n",
      "  warn(\n",
      "C:\\ProgramData\\miniconda3\\envs\\model_env\\lib\\site-packages\\flopy\\mf6\\mfbase.py:467: DeprecationWarning: package_key_dict has been deprecated, use package_type_dict instead\n",
      "  warnings.warn(\n"
     ]
    },
    {
     "data": {
      "image/png": "[encoded data removed]",
      "text/plain": [
       "<Figure size 500x500 with 1 Axes>"
      ]
     },
     "metadata": {},
     "output_type": "display_data"
    }
   ],
   "source": [
    "# Lets get a modelgrid object and have a look at the grid\n",
    "mg = gwf.modelgrid\n",
    "\n",
    "# create a figure to save to our plots folder\n",
    "fig,ax = plt.subplots(figsize=(5,5)) # we are creating a figure object here so that we can dictate size\n",
    "mg.plot(ax=ax)\n",
    "ax.ticklabel_format(style='plain') # test what happens if you don't use this switch\n",
    "ax.set_title('DIS Model Grid')\n",
    "ax.set_xlabel('Eastings')\n",
    "ax.set_ylabel('Northings')\n",
    "# lets save it to our plots folder\n",
    "figname = os.path.join(plots_f,'DIS_model_grid.png') # note use of the plots folder path.\n",
    "# If you want to change the file format then change the extension from .png to pdf or just do both\n",
    "fig.savefig(figname,dpi=300)\n",
    "figname = os.path.join(plots_f,'DIS_model_grid.pdf')\n",
    "fig.savefig(figname,dpi=300) \n",
    "\n",
    "# While we are here we can export it as a shapefile too.\n",
    "dis.export(os.path.join(gis_f,'dis.shp'))\n",
    "# ignore the warnings"
   ]
  },
  {
   "cell_type": "markdown",
   "id": "a5fee4b3-8129-4ff5-b8ff-910b4fddf0bd",
   "metadata": {},
   "source": [
    "# The stress period data dictionary\n",
    "This is arguably the most important part of setting up boundary conditions. Once you grasp how to use and build the information needed in the stress period dictionary, the setup of a basic boundary conditions becomes reasonably straight forward. Whatever variables you see in the MF6io.pdf document between BEGIN PERIOD X and END PERIOD X will have to included in the dictionary. A dictionary is not always necessary as will be demonstrated but learning how to use them will be of benefit when it comes to setting up more complex versions of the same boundary. Boundary conditions are specific to a model so the model object must exist and be provided. Check the options block of whatever boundary condition you want to setup in the MF6io.pdf. Most of the settings in the options block are set with simple entries like option = \"True\", option= None, option = string, option = list_of_strings or option = integer etc. Check the Flopy defaults for each option and make sure you understand what it means to turn different settings on or off."
   ]
  },
  {
   "cell_type": "markdown",
   "id": "ddfc4cbb-9219-4e6a-8dd5-f8c73d2e0da4",
   "metadata": {},
   "source": [
    "# Active or Inactive\n",
    "You need to pay special attention to how the specifc boundary you are configuring is made active or inactive. This varies for some bounadries and is noted in the MF6io.pdf document, so please be sure to read the specifics for the boubdary you are working on. For the boundaries we will demonstrate in this workshop they are active from the first stress period you designate and will remain active untill explicitly deactivated in a subsequent stress period. If you don't designate a stress period in which a bounadry condition should first activate then Flopy assumes you want the boundary active througout the entire simualtion. You should always check your package input file before running your model anyway to ensure that everything is correct."
   ]
  },
  {
   "cell_type": "markdown",
   "id": "ec6d7d65-ed74-4c3d-bce8-68082d246088",
   "metadata": {},
   "source": [
    "# Assign a constant head (First type BC)\n",
    "To begin with we will asign a first type boundary because it is relativley simple and then we will demonstrate all the different boundary condition features offered in MF6."
   ]
  },
  {
   "cell_type": "code",
   "execution_count": 22,
   "id": "f99d18ba-47e5-4124-8e4b-2dbeee56f071",
   "metadata": {},
   "outputs": [],
   "source": [
    "# Assigning a constant head bounadry to specific model cells to be active all the time.\n",
    "\n",
    "chd = flopy.mf6.ModflowGwfchd(gwf, stress_period_data=[[(0, 0, 0), 10.],\n",
    "                                                       [(0, 19, 19), 8.]])\n",
    "\n",
    "# which model cells were assigned? what value were they given?\n",
    "# recall we have a structured model so what do the numbers in the tuples represent?\n",
    "# If this were a DISV grid, how would this input change?\n",
    "# What if it was DISU?"
   ]
  },
  {
   "cell_type": "markdown",
   "id": "22b9a8a1-ad57-437f-9393-d888a4ca55a1",
   "metadata": {},
   "source": [
    "# Writing your boundary condition package\n",
    "If you want to be able to write your input file on its own then you need to name the object. What I am refering to here ist the \"chd = \" part. You can instantiate the object without doing this and it will still work. We have been assigning names to the objects all along because it allows us to easily access the built in methods for that object. You've seen how we write a simulation before in Workshop 1. Writing the simulation will write all the model files you've created so far but here we only wan't the CHD package file we just created."
   ]
  },
  {
   "cell_type": "code",
   "execution_count": 23,
   "id": "715f3163-aad3-4197-8e06-f46dd755045c",
   "metadata": {},
   "outputs": [
    {
     "name": "stdout",
     "output_type": "stream",
     "text": [
      "INFORMATION: maxbound in ('gwf6', 'chd', 'dimensions') changed to 2 based on size of stress_period_data\n"
     ]
    }
   ],
   "source": [
    "chd.write()\n",
    "# note that it will determine what value needs to be assigned to the maxbound variable \n",
    "# based on the information you provide in your stress_period_data.\n",
    "\n",
    "# Look for the file in your model folder and open it using your referred text editor or use the box below"
   ]
  },
  {
   "cell_type": "code",
   "execution_count": 24,
   "id": "33e356b7-f321-4c7f-ae1f-6179da2f536d",
   "metadata": {},
   "outputs": [
    {
     "name": "stdout",
     "output_type": "stream",
     "text": [
      "# File generated by Flopy version 3.4.3 on 10/08/2023 at 11:11:55.\n",
      "BEGIN options\n",
      "END options\n",
      "\n",
      "BEGIN dimensions\n",
      "  MAXBOUND  2\n",
      "END dimensions\n",
      "\n",
      "BEGIN period  1\n",
      "  1 1 1      10.00000000\n",
      "  1 20 20       8.00000000\n",
      "END period  1\n",
      "\n"
     ]
    }
   ],
   "source": [
    "_ = [print(line.rstrip()) for line in open(os.path.join(model_f,f\"{model_name}.chd\"))]\n",
    "# note the name of the input file will be the model name followed by the package Ftype acronym. "
   ]
  },
  {
   "cell_type": "markdown",
   "id": "f54e817d-8e63-494f-b488-852b2fbf62d5",
   "metadata": {},
   "source": [
    "# Plotting the boundary to check it\n",
    "It is always a good idea to visually check that the cells you intended to set the boundary on are correct. You can do this by plotting the model grid and also plotting a specific boundary condition."
   ]
  },
  {
   "cell_type": "code",
   "execution_count": 25,
   "id": "a55326fe-f365-4646-92ce-82c141abbdb5",
   "metadata": {},
   "outputs": [
    {
     "data": {
      "image/png": "[encoded data removed]",
      "text/plain": [
       "<Figure size 700x500 with 1 Axes>"
      ]
     },
     "metadata": {},
     "output_type": "display_data"
    }
   ],
   "source": [
    "# Use the same method we applied previously in Workshop 2 to plot the modelgrid using a MapView object\n",
    "# remeber the sequence of steps\n",
    "# 1. Get modelgrid\n",
    "# 2. Create figure instance\n",
    "# 3. Create Mapview object\n",
    "# 4. Tell the Mapview object what you want to plot\n",
    "# 5. Modify your figure and axes to your preferred settings\n",
    "# Note the line used to plot the bounadry condition\n",
    "\n",
    "# Lets get a modelgrid object and have a look at the grid\n",
    "mg = gwf.modelgrid\n",
    "\n",
    "# create a figure instance to save to our plots folder\n",
    "fig,ax = plt.subplots(figsize=(7,5)) # we are creating a figure object here so that we can dictate size note there are mutiple ways to do this\n",
    "\n",
    "# Create the mapview object of the modelgrid and tell it to use the axes we created with our figure\n",
    "pmv = flopy.plot.PlotMapView(modelgrid=mg, ax=ax) # note by not specifying a layer here it will assume layer 1\n",
    "\n",
    "# say that you want the Mapview object to plot the grid with linewidth = 0.3 and colour the lines black\n",
    "pmv.plot_grid(ax=ax, lw=0.3, color=\"black\")\n",
    "\n",
    "# Now I also want to plot the boundary condition so I specify the package object to plot\n",
    "pmv.plot_bc(package=chd)\n",
    "\n",
    "\n",
    "ax.set_title('CHD Boundary Cells')\n",
    "ax.set_xlabel('Eastings')\n",
    "ax.set_ylabel('Northings')\n",
    "# lets save it to our plots folder\n",
    "figname = os.path.join(plots_f,'CHD_bounadry_cells.png') # note use of the plots folder path.\n",
    "# If you want to change the file format then change the extension from .png to pdf or just do both\n",
    "fig.savefig(figname,dpi=300)\n",
    "figname = os.path.join(plots_f,'CHD_bounadry_cells.pdf')\n",
    "fig.savefig(figname,dpi=300) "
   ]
  },
  {
   "cell_type": "markdown",
   "id": "f2f311b0-603d-4e09-9fb8-2cd6bc47124a",
   "metadata": {},
   "source": [
    "There are other options available when plotting a boundary condition that we will explore later. This includeds specifying the layer you wish to view if you have a multi-layer model, specifying a stress period if you have boundary conditions that vary between active and inactive during your simualtion, changing the colour of the plotted boundary and if you want to plot all boundaries."
   ]
  },
  {
   "cell_type": "markdown",
   "id": "5c40ceee-6993-4486-bcf8-7b687e8adac2",
   "metadata": {},
   "source": [
    "# Selecting cells for a bounadry condition\n",
    "The first example demonstaarted how to select individual cells in a stuctured grid but we may also want to assign a boundary condition along the edge of a model grid. Selecting model cells to assign a boundary condition to is half the battle so having different methods for selecting cells is goignt o help you a lot. We'll stick with our structured grid for now and look at selecting cells using some list comprehensions. We are going to assign our boundaries down the left and right side of our model as oppsed to the corners. This means we need to build our stress period dictionary a little bit differently."
   ]
  },
  {
   "cell_type": "code",
   "execution_count": 26,
   "id": "394e080f-ca56-4138-80cd-61efdeb1466f",
   "metadata": {},
   "outputs": [
    {
     "data": {
      "text/plain": [
       "[(0, 0, 0),\n",
       " (0, 1, 0),\n",
       " (0, 2, 0),\n",
       " (0, 3, 0),\n",
       " (0, 4, 0),\n",
       " (0, 5, 0),\n",
       " (0, 6, 0),\n",
       " (0, 7, 0),\n",
       " (0, 8, 0),\n",
       " (0, 9, 0),\n",
       " (0, 10, 0),\n",
       " (0, 11, 0),\n",
       " (0, 12, 0),\n",
       " (0, 13, 0),\n",
       " (0, 14, 0),\n",
       " (0, 15, 0),\n",
       " (0, 16, 0),\n",
       " (0, 17, 0),\n",
       " (0, 18, 0),\n",
       " (0, 19, 0)]"
      ]
     },
     "execution_count": 26,
     "metadata": {},
     "output_type": "execute_result"
    }
   ],
   "source": [
    "# lets first get rid of our existing chd object\n",
    "del chd \n",
    "\n",
    "# We only have one layer so if using l,r,c it means that we always have l=1 (or 0 for zero based)\n",
    "l=0\n",
    "# If we are on the left boundary then c is always 1 (or 0 for zero based) \n",
    "c = 0\n",
    "# this means that the only variable we need to loop over is r\n",
    "left_bound_nodes = [(l,r,c) for r in range(nrow)]\n",
    "# lets take a look at it\n",
    "left_bound_nodes"
   ]
  },
  {
   "cell_type": "markdown",
   "id": "fab215ac-e62a-466d-9eec-915cad531e9b",
   "metadata": {},
   "source": [
    "So that sorts out the nodes but the stress period dictionay needs more information than that. We also need to specify the value of the the constant head in those cells. Each entry in the period block of the input file needs to provided to Flopy as a list with the node id first then the rest of the boundary information, which is the constant head value in this case."
   ]
  },
  {
   "cell_type": "code",
   "execution_count": 27,
   "id": "3a8fee51-7701-46ae-a757-26efa5e02759",
   "metadata": {},
   "outputs": [
    {
     "data": {
      "text/plain": [
       "[[(0, 0, 0), 10.0],\n",
       " [(0, 1, 0), 10.0],\n",
       " [(0, 2, 0), 10.0],\n",
       " [(0, 3, 0), 10.0],\n",
       " [(0, 4, 0), 10.0],\n",
       " [(0, 5, 0), 10.0],\n",
       " [(0, 6, 0), 10.0],\n",
       " [(0, 7, 0), 10.0],\n",
       " [(0, 8, 0), 10.0],\n",
       " [(0, 9, 0), 10.0],\n",
       " [(0, 10, 0), 10.0],\n",
       " [(0, 11, 0), 10.0],\n",
       " [(0, 12, 0), 10.0],\n",
       " [(0, 13, 0), 10.0],\n",
       " [(0, 14, 0), 10.0],\n",
       " [(0, 15, 0), 10.0],\n",
       " [(0, 16, 0), 10.0],\n",
       " [(0, 17, 0), 10.0],\n",
       " [(0, 18, 0), 10.0],\n",
       " [(0, 19, 0), 10.0]]"
      ]
     },
     "execution_count": 27,
     "metadata": {},
     "output_type": "execute_result"
    }
   ],
   "source": [
    "# Now we just add on the rest of the information that we want to include in the list comprehension and make each loop provide a list.\n",
    "left_bound_stress_period_block = [[(l,r,c),10.] for r in range(nrow)]\n",
    "left_bound_stress_period_block\n",
    "# note what you produced is a list of lists evidenced by the leading and trailing double brackets"
   ]
  },
  {
   "cell_type": "code",
   "execution_count": 28,
   "id": "5ca4dcda-6fad-4f86-8f17-f335b4a01894",
   "metadata": {},
   "outputs": [
    {
     "data": {
      "text/plain": [
       "[[(0, 0, 19), 8.0],\n",
       " [(0, 1, 19), 8.0],\n",
       " [(0, 2, 19), 8.0],\n",
       " [(0, 3, 19), 8.0],\n",
       " [(0, 4, 19), 8.0],\n",
       " [(0, 5, 19), 8.0],\n",
       " [(0, 6, 19), 8.0],\n",
       " [(0, 7, 19), 8.0],\n",
       " [(0, 8, 19), 8.0],\n",
       " [(0, 9, 19), 8.0],\n",
       " [(0, 10, 19), 8.0],\n",
       " [(0, 11, 19), 8.0],\n",
       " [(0, 12, 19), 8.0],\n",
       " [(0, 13, 19), 8.0],\n",
       " [(0, 14, 19), 8.0],\n",
       " [(0, 15, 19), 8.0],\n",
       " [(0, 16, 19), 8.0],\n",
       " [(0, 17, 19), 8.0],\n",
       " [(0, 18, 19), 8.0],\n",
       " [(0, 19, 19), 8.0]]"
      ]
     },
     "execution_count": 28,
     "metadata": {},
     "output_type": "execute_result"
    }
   ],
   "source": [
    "# but we also need it for the right boundary so lets do the same thing here\n",
    "# c on the right boundary is the number of columns minus one for zero base\n",
    "c = ncol-1\n",
    "right_bound_stress_period_block = [[(l,r,c),8.] for r in range(nrow)]\n",
    "right_bound_stress_period_block"
   ]
  },
  {
   "cell_type": "code",
   "execution_count": 29,
   "id": "8e8224ff-646a-4927-9e16-2fee6be03a00",
   "metadata": {},
   "outputs": [
    {
     "data": {
      "text/plain": [
       "[[(0, 0, 19), 8.0],\n",
       " [(0, 1, 19), 8.0],\n",
       " [(0, 2, 19), 8.0],\n",
       " [(0, 3, 19), 8.0],\n",
       " [(0, 4, 19), 8.0],\n",
       " [(0, 5, 19), 8.0],\n",
       " [(0, 6, 19), 8.0],\n",
       " [(0, 7, 19), 8.0],\n",
       " [(0, 8, 19), 8.0],\n",
       " [(0, 9, 19), 8.0],\n",
       " [(0, 10, 19), 8.0],\n",
       " [(0, 11, 19), 8.0],\n",
       " [(0, 12, 19), 8.0],\n",
       " [(0, 13, 19), 8.0],\n",
       " [(0, 14, 19), 8.0],\n",
       " [(0, 15, 19), 8.0],\n",
       " [(0, 16, 19), 8.0],\n",
       " [(0, 17, 19), 8.0],\n",
       " [(0, 18, 19), 8.0],\n",
       " [(0, 19, 19), 8.0],\n",
       " [(0, 0, 0), 10.0],\n",
       " [(0, 1, 0), 10.0],\n",
       " [(0, 2, 0), 10.0],\n",
       " [(0, 3, 0), 10.0],\n",
       " [(0, 4, 0), 10.0],\n",
       " [(0, 5, 0), 10.0],\n",
       " [(0, 6, 0), 10.0],\n",
       " [(0, 7, 0), 10.0],\n",
       " [(0, 8, 0), 10.0],\n",
       " [(0, 9, 0), 10.0],\n",
       " [(0, 10, 0), 10.0],\n",
       " [(0, 11, 0), 10.0],\n",
       " [(0, 12, 0), 10.0],\n",
       " [(0, 13, 0), 10.0],\n",
       " [(0, 14, 0), 10.0],\n",
       " [(0, 15, 0), 10.0],\n",
       " [(0, 16, 0), 10.0],\n",
       " [(0, 17, 0), 10.0],\n",
       " [(0, 18, 0), 10.0],\n",
       " [(0, 19, 0), 10.0]]"
      ]
     },
     "execution_count": 29,
     "metadata": {},
     "output_type": "execute_result"
    }
   ],
   "source": [
    "# We need our left and right boundaries incorporated into a single list for the stress period dictionary so lets unpack them\n",
    "stress_period_list = [*right_bound_stress_period_block,*left_bound_stress_period_block]\n",
    "stress_period_list"
   ]
  },
  {
   "cell_type": "code",
   "execution_count": 30,
   "id": "e8981d76-e501-4157-af51-e0fe414aeec2",
   "metadata": {},
   "outputs": [
    {
     "name": "stdout",
     "output_type": "stream",
     "text": [
      "INFORMATION: maxbound in ('gwf6', 'chd', 'dimensions') changed to 40 based on size of stress_period_data\n",
      "# File generated by Flopy version 3.4.3 on 10/08/2023 at 11:11:55.\n",
      "BEGIN options\n",
      "END options\n",
      "\n",
      "BEGIN dimensions\n",
      "  MAXBOUND  2\n",
      "END dimensions\n",
      "\n",
      "BEGIN period  1\n",
      "  1 1 1      10.00000000\n",
      "  1 20 20       8.00000000\n",
      "END period  1\n",
      "\n"
     ]
    }
   ],
   "source": [
    "# Now we can build our new CHD bounadry but this time we provide our list as an object name\n",
    "chd = flopy.mf6.ModflowGwfchd(gwf, stress_period_data=stress_period_list)\n",
    "# write it\n",
    "chd.write()\n",
    "# Look at the file\n",
    "_ = [print(line.rstrip()) for line in open(os.path.join(model_f,f\"{model_name}.chd\"))]"
   ]
  },
  {
   "cell_type": "code",
   "execution_count": 31,
   "id": "8c7c9814-4d3f-49da-8916-b52c5d15fecc",
   "metadata": {},
   "outputs": [
    {
     "data": {
      "image/png": "[encoded data removed]",
      "text/plain": [
       "<Figure size 700x500 with 1 Axes>"
      ]
     },
     "metadata": {},
     "output_type": "display_data"
    }
   ],
   "source": [
    "# Then plot it to have a better look\n",
    "\n",
    "# Lets get a modelgrid object and have a look at the grid\n",
    "mg = gwf.modelgrid\n",
    "\n",
    "# create a figure instance to save to our plots folder\n",
    "fig,ax = plt.subplots(figsize=(7,5)) # we are creating a figure object here so that we can dictate size note there are mutiple ways to do this\n",
    "\n",
    "# Create the mapview object of the modelgrid and tell it to use the axes we created with our figure\n",
    "pmv = flopy.plot.PlotMapView(modelgrid=mg, ax=ax) # note by not specifying a layer here it will assume layer 1\n",
    "\n",
    "# say that you want the Mapview object to plot the grid with linewidth = 0.3 and colour the lines black\n",
    "pmv.plot_grid(ax=ax, lw=0.3, color=\"black\")\n",
    "\n",
    "# Now I also want to plot the boundary condition so I specify the package object to plot\n",
    "pmv.plot_bc(package=chd)\n",
    "\n",
    "\n",
    "ax.set_title('CHD Boundary Cells')\n",
    "ax.set_xlabel('Eastings')\n",
    "ax.set_ylabel('Northings')\n",
    "# lets save it to our plots folder\n",
    "figname = os.path.join(plots_f,'CHD_bounadry_cells_LR.png') # note use of the plots folder path.\n",
    "# If you want to change the file format then change the extension from .png to pdf or just do both\n",
    "fig.savefig(figname,dpi=300)\n",
    "figname = os.path.join(plots_f,'CHD_bounadry_cells_LR.pdf')\n",
    "fig.savefig(figname,dpi=300) "
   ]
  },
  {
   "cell_type": "markdown",
   "id": "291b4c93-6630-4cf7-a7e5-fad6547ef2af",
   "metadata": {},
   "source": [
    "# But wait there is a problem here\n",
    "Take a look at the model object. There are two boundary packages assigned to the model object even though we deleted the first chd object and used the same object name. MF6 allows mutiples of the same bounday type to be used. Previous versions of model only allowed one instance of each boundary package. Look at the default naming convetion used by flopy when you have mutiple instances of the same package. You can overule this through the options block, which we will do shortly but first we need to fix our extra chd package option."
   ]
  },
  {
   "cell_type": "code",
   "execution_count": 33,
   "id": "fd681fde-b9c8-42d4-8a85-8dbec52e463a",
   "metadata": {},
   "outputs": [
    {
     "data": {
      "text/plain": [
       "name = flow\n",
       "model_type = gwf6\n",
       "version = mf6\n",
       "model_relative_path = .\n",
       "\n",
       "###################\n",
       "Package dis\n",
       "###################\n",
       "\n",
       "package_name = dis\n",
       "filename = flow.dis\n",
       "package_type = dis\n",
       "model_or_simulation_package = model\n",
       "model_name = flow\n",
       "\n",
       "\n",
       "###################\n",
       "Package chd_0\n",
       "###################\n",
       "\n",
       "package_name = chd_0\n",
       "filename = flow.chd\n",
       "package_type = chd\n",
       "model_or_simulation_package = model\n",
       "model_name = flow\n",
       "\n",
       "\n",
       "###################\n",
       "Package chd_1\n",
       "###################\n",
       "\n",
       "package_name = chd_1\n",
       "filename = flow_0.chd\n",
       "package_type = chd\n",
       "model_or_simulation_package = model\n",
       "model_name = flow\n",
       "\n"
      ]
     },
     "execution_count": 33,
     "metadata": {},
     "output_type": "execute_result"
    }
   ],
   "source": [
    "gwf"
   ]
  },
  {
   "cell_type": "code",
   "execution_count": 38,
   "id": "fff30e84-0d13-4bb0-8e1f-86eb56350682",
   "metadata": {},
   "outputs": [
    {
     "name": "stdout",
     "output_type": "stream",
     "text": [
      "['DIS', 'CHD_0', 'CHD_1']\n",
      "['DIS', 'CHD_1']\n"
     ]
    }
   ],
   "source": [
    "print(gwf.get_package_list())\n",
    "gwf.remove_package(\"CHD_0\")\n",
    "print(gwf.get_package_list())\n",
    "# but which one did we keep?"
   ]
  },
  {
   "cell_type": "code",
   "execution_count": 39,
   "id": "1ef7ed56-ae5d-462d-99d3-c7ca98595f59",
   "metadata": {
    "scrolled": true
   },
   "outputs": [
    {
     "data": {
      "image/png": "[encoded data removed]",
      "text/plain": [
       "<Figure size 700x500 with 1 Axes>"
      ]
     },
     "metadata": {},
     "output_type": "display_data"
    }
   ],
   "source": [
    "# check by plotting to be sure\n",
    "# Lets get a modelgrid object and have a look at the grid\n",
    "mg = gwf.modelgrid\n",
    "\n",
    "# create a figure instance to save to our plots folder\n",
    "fig,ax = plt.subplots(figsize=(7,5)) # we are creating a figure object here so that we can dictate size note there are mutiple ways to do this\n",
    "\n",
    "# Create the mapview object of the modelgrid and tell it to use the axes we created with our figure\n",
    "pmv = flopy.plot.PlotMapView(modelgrid=mg, ax=ax) # note by not specifying a layer here it will assume layer 1\n",
    "\n",
    "# say that you want the Mapview object to plot the grid with linewidth = 0.3 and colour the lines black\n",
    "pmv.plot_grid(ax=ax, lw=0.3, color=\"black\")\n",
    "\n",
    "# Now I also want to plot the boundary condition so I specify the package object to plot\n",
    "pmv.plot_bc(package=chd)\n",
    "\n",
    "\n",
    "ax.set_title('CHD Boundary Cells')\n",
    "ax.set_xlabel('Eastings')\n",
    "ax.set_ylabel('Northings')\n",
    "# lets save it to our plots folder\n",
    "figname = os.path.join(plots_f,'CHD_bounadry_cells_LR.png') # note use of the plots folder path.\n",
    "# If you want to change the file format then change the extension from .png to pdf or just do both\n",
    "fig.savefig(figname,dpi=300)\n",
    "figname = os.path.join(plots_f,'CHD_bounadry_cells_LR.pdf')\n",
    "fig.savefig(figname,dpi=300) "
   ]
  },
  {
   "cell_type": "code",
   "execution_count": 42,
   "id": "4b83267c-cddb-487e-a3a3-d26221e136a7",
   "metadata": {},
   "outputs": [
    {
     "name": "stdout",
     "output_type": "stream",
     "text": [
      "[]\n"
     ]
    }
   ],
   "source": [
    "# Lets delete the old input files and re-write our package\n",
    "_ = [os.remove(os.path.join(model_f,x)) for x in os.listdir(model_f)]\n",
    "# for x in os.listdir(model_f) means give me all the names of the files in the model folder\n",
    "# os.remove(os.path.join(model_f,x)) means remove the file at the path given by os.path.join(model_f,x) \n",
    "\n",
    "print(os.listdir(model_f)) # should be an empty list"
   ]
  },
  {
   "cell_type": "code",
   "execution_count": 44,
   "id": "f3d23157-de12-4d43-a40b-64f4e23d15cb",
   "metadata": {},
   "outputs": [
    {
     "name": "stdout",
     "output_type": "stream",
     "text": [
      "['flow_0.chd']\n"
     ]
    }
   ],
   "source": [
    "# now write our model file\n",
    "chd.write()\n",
    "\n",
    "# but which file name will it use now?\n",
    "print(os.listdir(model_f))"
   ]
  },
  {
   "cell_type": "code",
   "execution_count": 46,
   "id": "df68911e-7e01-4992-8845-d1dd3a554eb7",
   "metadata": {},
   "outputs": [
    {
     "name": "stdout",
     "output_type": "stream",
     "text": [
      "# File generated by Flopy version 3.4.3 on 10/08/2023 at 11:54:39.\n",
      "BEGIN options\n",
      "END options\n",
      "\n",
      "BEGIN dimensions\n",
      "  MAXBOUND  40\n",
      "END dimensions\n",
      "\n",
      "BEGIN period  1\n",
      "  1 1 20       8.00000000\n",
      "  1 2 20       8.00000000\n",
      "  1 3 20       8.00000000\n",
      "  1 4 20       8.00000000\n",
      "  1 5 20       8.00000000\n",
      "  1 6 20       8.00000000\n",
      "  1 7 20       8.00000000\n",
      "  1 8 20       8.00000000\n",
      "  1 9 20       8.00000000\n",
      "  1 10 20       8.00000000\n",
      "  1 11 20       8.00000000\n",
      "  1 12 20       8.00000000\n",
      "  1 13 20       8.00000000\n",
      "  1 14 20       8.00000000\n",
      "  1 15 20       8.00000000\n",
      "  1 16 20       8.00000000\n",
      "  1 17 20       8.00000000\n",
      "  1 18 20       8.00000000\n",
      "  1 19 20       8.00000000\n",
      "  1 20 20       8.00000000\n",
      "  1 1 1      10.00000000\n",
      "  1 2 1      10.00000000\n",
      "  1 3 1      10.00000000\n",
      "  1 4 1      10.00000000\n",
      "  1 5 1      10.00000000\n",
      "  1 6 1      10.00000000\n",
      "  1 7 1      10.00000000\n",
      "  1 8 1      10.00000000\n",
      "  1 9 1      10.00000000\n",
      "  1 10 1      10.00000000\n",
      "  1 11 1      10.00000000\n",
      "  1 12 1      10.00000000\n",
      "  1 13 1      10.00000000\n",
      "  1 14 1      10.00000000\n",
      "  1 15 1      10.00000000\n",
      "  1 16 1      10.00000000\n",
      "  1 17 1      10.00000000\n",
      "  1 18 1      10.00000000\n",
      "  1 19 1      10.00000000\n",
      "  1 20 1      10.00000000\n",
      "END period  1\n",
      "\n"
     ]
    }
   ],
   "source": [
    "# Look at the file\n",
    "_ = [print(line.rstrip()) for line in open(os.path.join(model_f,'flow_0.chd'))]"
   ]
  },
  {
   "cell_type": "code",
   "execution_count": null,
   "id": "55cf6ef7-6ec3-4b8c-903a-734d5fe7655c",
   "metadata": {},
   "outputs": [],
   "source": []
  },
  {
   "cell_type": "code",
   "execution_count": null,
   "id": "48f3f3a2-34aa-4e93-978d-9350e611fc59",
   "metadata": {},
   "outputs": [],
   "source": []
  },
  {
   "cell_type": "code",
   "execution_count": null,
   "id": "75fb459b-5a63-48ea-a9fd-50fdeff6da43",
   "metadata": {},
   "outputs": [],
   "source": []
  },
  {
   "cell_type": "code",
   "execution_count": null,
   "id": "4f5cd850-1107-42d5-9287-2fa8da860e12",
   "metadata": {},
   "outputs": [],
   "source": [
    "ic = flopy.mf6.ModflowGwfic(gwf)\n",
    "npf = flopy.mf6.ModflowGwfnpf(gwf, save_specific_discharge=True)\n",
    "chd = flopy.mf6.ModflowGwfchd(gwf, stress_period_data=[[(0, 0, 0), 1.],\n",
    "                                                       [(0, 9, 9), 0.]])\n",
    "budget_file = name + '.bud'\n",
    "head_file = name + '.hds'\n",
    "oc = flopy.mf6.ModflowGwfoc(gwf,\n",
    "                            budget_filerecord=budget_file,\n",
    "                            head_filerecord=head_file,\n",
    "                            saverecord=[('HEAD', 'ALL'), ('BUDGET', 'ALL')])\n",
    "sim.write_simulation()\n",
    "sim.run_simulation()\n",
    "\n",
    "head = gwf.output.head().get_data()\n",
    "bud = gwf.output.budget()\n",
    "\n",
    "spdis = bud.get_data(text='DATA-SPDIS')[0]\n",
    "qx, qy, qz = flopy.utils.postprocessing.get_specific_discharge(spdis, gwf)\n",
    "pmv = flopy.plot.PlotMapView(gwf)\n",
    "pmv.plot_array(head)\n",
    "pmv.plot_grid(colors='white')\n",
    "pmv.contour_array(head, levels=[.2, .4, .6, .8], linewidths=3.)\n",
    "pmv.plot_vector(qx, qy, normalize=True, color=\"white\")"
   ]
  },
  {
   "cell_type": "code",
   "execution_count": null,
   "id": "cfce1e60-8391-41d5-984a-1a35420ef611",
   "metadata": {},
   "outputs": [],
   "source": [
    "# A note on stress periods, stress period data and grid type\n",
    "speak here about boundary conditions being active after single stress period specification. Also talk about the significance of the stress period dictionary and cell selection. Also mention the change in node id depending on grid type being used."
   ]
  },
  {
   "cell_type": "code",
   "execution_count": null,
   "id": "27b04630-e36f-46c6-bd51-1155258d3bbb",
   "metadata": {},
   "outputs": [],
   "source": []
  },
  {
   "cell_type": "markdown",
   "id": "62ab2dc5-6c63-4338-9f4b-895fb237b586",
   "metadata": {},
   "source": [
    "# Check by plotting the modelgrid"
   ]
  },
  {
   "cell_type": "code",
   "execution_count": null,
   "id": "f9e30e01-aefa-4836-95d8-b0d7d14a9151",
   "metadata": {},
   "outputs": [],
   "source": []
  },
  {
   "cell_type": "markdown",
   "id": "23ea1d89-a696-4899-9802-6c4991d505a9",
   "metadata": {},
   "source": [
    "# Assign a constant flux boundary (Second type BC)"
   ]
  },
  {
   "cell_type": "code",
   "execution_count": null,
   "id": "2980f21b-98c0-4b26-985e-58ed3f0aa4fe",
   "metadata": {},
   "outputs": [],
   "source": []
  },
  {
   "cell_type": "markdown",
   "id": "7049843a-4bd5-4fc2-909c-2412cc830f45",
   "metadata": {},
   "source": [
    "# Check by plotting the modelgrid"
   ]
  },
  {
   "cell_type": "code",
   "execution_count": null,
   "id": "6b3d780d-b11d-4b91-90f1-19b7cc30dfd4",
   "metadata": {},
   "outputs": [],
   "source": []
  },
  {
   "cell_type": "markdown",
   "id": "86039852-628b-4d2e-9c00-98c70b52e159",
   "metadata": {},
   "source": [
    "# Assign a head dependent flux boundary (Third type BC)"
   ]
  },
  {
   "cell_type": "code",
   "execution_count": 1,
   "id": "685a78f6-574b-4945-a737-b34604aec917",
   "metadata": {},
   "outputs": [],
   "source": [
    "# "
   ]
  },
  {
   "cell_type": "markdown",
   "id": "aacca1c1-6740-4c56-aa48-3b250e2ae9c0",
   "metadata": {},
   "source": [
    "# Check by plotting the modelgrid"
   ]
  },
  {
   "cell_type": "code",
   "execution_count": null,
   "id": "4b1e3e58-f7ff-4bd5-9550-416c07956eae",
   "metadata": {},
   "outputs": [],
   "source": []
  },
  {
   "cell_type": "code",
   "execution_count": null,
   "id": "a94ef334-e62f-4560-bd59-9aeb2577b47a",
   "metadata": {},
   "outputs": [],
   "source": []
  }
 ],
 "metadata": {
  "kernelspec": {
   "display_name": "Python 3 (ipykernel)",
   "language": "python",
   "name": "python3"
  },
  "language_info": {
   "codemirror_mode": {
    "name": "ipython",
    "version": 3
   },
   "file_extension": ".py",
   "mimetype": "text/x-python",
   "name": "python",
   "nbconvert_exporter": "python",
   "pygments_lexer": "ipython3",
   "version": "3.10.12"
  }
 },
 "nbformat": 4,
 "nbformat_minor": 5
}
