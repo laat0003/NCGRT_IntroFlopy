{
 "cells": [
  {
   "cell_type": "markdown",
   "id": "cede6dce-3d52-480c-b93d-e4ba06fa04ae",
   "metadata": {},
   "source": [
    "# Workshop 2\n",
    "\n",
    "Hi and welcome to the second workshop. This session will focus on spatial discretisation and introduce you to the Flopy modelgrid object, which is used for exporting model information in various formats. Modflow-6 includes 3-types of grid discretisation namely structured (DIS), vertices (DISV) and unstructured (DISU) that we will explore with Flopy. Also included in this workshop will be an introduction to using Gridgen (get it [here](https://github.com/MODFLOW-USGS/executables)) to build a quadtree refined model mesh. There are some optional dependencies for Flopy that you will need to have installed in your environment otherwise you may not be able to execute some parts of the workshop.\n",
    "\n",
    "Go to this [webpage](https://flopy.readthedocs.io/en/latest/md/optional_dependencies.html) to find a list of all Flopy optional dependencies. You will need pyshp, shapely, rasterio (with rasterstats and affine) and scipy."
   ]
  },
  {
   "cell_type": "markdown",
   "id": "5d9f654f-3b32-422d-8d51-ed7b6eafacd2",
   "metadata": {},
   "source": [
    "# A structured model grid\n",
    "The structured model grid discretizes space into layers (z), rows (x), and columns (y). This is identical to what was used in all previous versions of MODFLOW excluding MODFLOW-USG. An important difference however is that those previous versions of MODFLOW used finite-differences while MODFLOW-6 uses control-volume finite-differences (also used by MODFLOW-USG). The benefit of using structured grids is it will always satisfy the assumptions of the control-volume finite-difference method. While the other grid types can violate the assumption which leads to some error in the solution. You can read more about this in the MODFLOW-6 user manual (note this is ***not*** the mf6io.pdf document). "
   ]
  },
  {
   "cell_type": "markdown",
   "id": "18cec81e-c1db-48ad-ba04-9e3deeb644a8",
   "metadata": {},
   "source": [
    "# Imports"
   ]
  },
  {
   "cell_type": "code",
   "execution_count": null,
   "id": "33dd346e-502b-430c-a641-9d8c414a3ef1",
   "metadata": {},
   "outputs": [],
   "source": [
    "import os\n",
    "import sys\n",
    "import shutil\n",
    "import platform\n",
    "import pandas as pd\n",
    "import numpy as np\n",
    "import matplotlib\n",
    "import matplotlib.pyplot as plt\n",
    "import flopy\n",
    "\n",
    "print(f\"Pandas version = {pd.__version__}\")\n",
    "print(f\"Numpy version = {np.__version__}\")\n",
    "print(f\"Flopy version = {flopy.__version__}\")\n",
    "print(f\"Matplotlib version = {matplotlib.__version__}\")"
   ]
  },
  {
   "cell_type": "markdown",
   "id": "651c9483-c0c0-42c8-8fc4-db26590116f1",
   "metadata": {},
   "source": [
    "# Folders"
   ]
  },
  {
   "cell_type": "code",
   "execution_count": null,
   "id": "0692cc7d-8d28-4ef2-bfae-93420f1feb31",
   "metadata": {},
   "outputs": [],
   "source": [
    "# Setup some folders\n",
    "ws2 = os.path.join('workshop_2') # here we are making a path not creating the folder\n",
    "gis_f = os.path.join(ws2,'GIS') # creating a sub-directory path for our gis input/output\n",
    "model_f = os.path.join(ws2,'model') # creating a sub-directory path for our model input/output\n",
    "plots_f = os.path.join(ws2,'plots') # creating a sub-directory path for our plots\n",
    "for path in [ws2,gis_f,model_f,plots_f]:\n",
    "    if os.path.exists(path): # here we are asking if the path exists on the computer. \n",
    "        shutil.rmtree(path)# if it does exist, delete it and all the files in it\n",
    "        os.mkdir(path) # then remake it\n",
    "    else:\n",
    "        os.mkdir(path) # if it doesn't exist then make the folder"
   ]
  },
  {
   "cell_type": "markdown",
   "id": "d64af3a1-5428-4332-b377-5099a3d238e5",
   "metadata": {},
   "source": [
    "# Setup basic simulation level objects\n",
    "\n",
    "For the purposes of this demonstration we don't need anything more than the basic simualtion level objects. I am assuming that you completed the previous workshop, which means you know what the followiing block of code is doing. If not, consider doing the first workshop. We will change these objects as we explore other grids. "
   ]
  },
  {
   "cell_type": "code",
   "execution_count": null,
   "id": "fd5656a6-c2cf-48cd-8c4d-1c3d1520f230",
   "metadata": {},
   "outputs": [],
   "source": [
    "simulation_name = 'MySim' # setting a name for our simulation\n",
    "sim = flopy.mf6.MFSimulation(sim_name=simulation_name, sim_ws=model_f, exe_name='mf6') # for a no frills mfsim.nam file\n",
    "tdis = flopy.mf6.ModflowTdis(sim) # for the MySim.tdis file, recall this sets a single steady-state stress period\n",
    "ims = flopy.mf6.ModflowIms(sim) # for the MySim.ims file, recall this sets up IMS as 'SIMPLE'\n",
    "model_name = 'flow' # setting a name for our model\n",
    "gwf = flopy.mf6.ModflowGwf(sim, modelname=model_name, save_flows=True) # for the flow.nam file"
   ]
  },
  {
   "cell_type": "markdown",
   "id": "dd097dbe-787b-43f7-bb77-979e375a162c",
   "metadata": {},
   "source": [
    "# Input blocks for the strcutured discretisation input file\n",
    "\n",
    "Take a look at the mf6io.pdf document for the DIS input file. There are three input blocks, OPTIONS (common for most input files), DIMENSIONS and GRIDDATA. We will explore how to change entries in the DIMENSIONS and  GRIDDATA blocks first plus provide brief descriptions of what these settings mean. You are encouraged to read the document for more detail if required. The OPTIONS block will be discussed in more detail later."
   ]
  },
  {
   "cell_type": "markdown",
   "id": "0bcbe475-b97a-490e-a701-1dc163119b08",
   "metadata": {},
   "source": [
    "# Building a uniform spaced three layer DIS object\n",
    "Terminology used:\r\n",
    "* node = the model cell centre where the solution is calculated\r\n",
    "* model cell = refers to the set of rectilinear shapes that enclose the node\r\n",
    "\r\n",
    "Points to note with structured grids:\r\n",
    "1. Each layer will be identical to the next in terms of node location. Think about what this means for each model cell.\r\n",
    "2. Layers can have variable top and bottom elevations that don't need to be thesame \r\n"
   ]
  },
  {
   "cell_type": "code",
   "execution_count": null,
   "id": "6e1f45a8-9225-4da5-a272-42d4f83114f2",
   "metadata": {},
   "outputs": [],
   "source": [
    "# A simple uniform single layer grid\n",
    "nlay = 3 # the number of layers we want\n",
    "nrow = 3 # you guesssed it, the number of rows we want\n",
    "ncol = 3 # the number of columns we want\n",
    "delr = 1 # our row spacing\n",
    "delc = 1 # our column spacing\n",
    "top = 1 # the top elevation of each model cell\n",
    "bot = 0 # the bottom elevation of each model cell\n",
    "dis = flopy.mf6.ModflowGwfdis(gwf,nlay=nlay,nrow=nrow,ncol=ncol,delr=delr,delc=delc,top=top,botm=bot) # creating the dis object"
   ]
  },
  {
   "cell_type": "markdown",
   "id": "b25fa27c-8ecb-46ac-8694-7bec22bc1dc5",
   "metadata": {},
   "source": [
    "# Now we can build a modelgrid object\n",
    "\n",
    "I find it useful to think of the modelgrid object as a frame will be used to guide further processing. You can retrieve information about your grid too as will be demonstrated."
   ]
  },
  {
   "cell_type": "code",
   "execution_count": null,
   "id": "18786317-d4cf-47d0-810e-8992eb2e01e3",
   "metadata": {},
   "outputs": [],
   "source": [
    "mg = gwf.modelgrid # note that the model grid object is specific to the model"
   ]
  },
  {
   "cell_type": "markdown",
   "id": "a61bd23c-bebe-479f-b1fe-d5697baa3b74",
   "metadata": {},
   "source": [
    "# Plotting the modelgrid"
   ]
  },
  {
   "cell_type": "code",
   "execution_count": null,
   "id": "f509a438-f017-4e43-bc68-728a32725f1f",
   "metadata": {},
   "outputs": [],
   "source": [
    "mg.plot() # gives you a basic view of the grid top down looking at layer 1"
   ]
  },
  {
   "cell_type": "code",
   "execution_count": null,
   "id": "88273059-14c6-4185-8309-984d8f6a55d4",
   "metadata": {},
   "outputs": [],
   "source": [
    "type(mg) # checking the type of mg"
   ]
  },
  {
   "cell_type": "code",
   "execution_count": null,
   "id": "8a43d81c-7e11-40c4-a55c-7a0ea0ac393b",
   "metadata": {},
   "outputs": [],
   "source": [
    "# What is the difference between the botm in the dis object versus the botm in the mg object?\n",
    "print(type(dis.botm),'\\n',dis.botm) \n",
    "print(type(mg.botm),'\\n', mg.botm)\n",
    "# Are they different? One is a flopy specific data structure the other is a numpy array"
   ]
  },
  {
   "cell_type": "markdown",
   "id": "25d1f461-b19b-49f7-98d6-e2b702db015f",
   "metadata": {},
   "source": [
    "They represent the same thing. Lets write the simulation and have a closer look at the dis input file."
   ]
  },
  {
   "cell_type": "code",
   "execution_count": null,
   "id": "9be5b504-7afe-4680-82bc-96777ed57e65",
   "metadata": {},
   "outputs": [],
   "source": [
    "sim.write_simulation()"
   ]
  },
  {
   "cell_type": "code",
   "execution_count": null,
   "id": "4f1ca4e5-9840-4756-ab7a-d17d53869be3",
   "metadata": {},
   "outputs": [],
   "source": [
    "_ = [print(line.rstrip()) for line in open(os.path.join(model_f,\"flow.dis\"))]\n",
    "# You should see the three input blocks that we discussed earlier."
   ]
  },
  {
   "cell_type": "code",
   "execution_count": null,
   "id": "f5c02adc-8e0d-433d-85c5-73e81b9bc772",
   "metadata": {},
   "outputs": [],
   "source": [
    "# What is the shape of the array storing the cell bottoms?\n",
    "np.shape(mg.botm) # this should be in sequence l,r,c or nlay, nrow, ncol"
   ]
  },
  {
   "cell_type": "markdown",
   "id": "89e85e0b-9d68-4cd1-963b-55032602ea73",
   "metadata": {},
   "source": [
    "# Does this grid make sense?\n",
    "\n",
    "If you were to continue with this grid as your model, what would happen? You could complete constructing the model and get to the point where you run the simulation and it will likely fail. Some layers have zero thickness. Flopy is happy to create a discretisation file with zero thickness layers because that is what you asked for. As the modeller, ***it is your responsibility to check your input files***. Do not presume that because Flopy executed without error that your input files are fine. Flopy is a tool to help you create those files – it can still produce input files that will cause your model to fail. "
   ]
  },
  {
   "cell_type": "code",
   "execution_count": null,
   "id": "74c2868f-60dd-4d8c-87d9-913360362a00",
   "metadata": {},
   "outputs": [],
   "source": [
    "# check the layer thickness via the model grid object\n",
    "mg.cell_thickness"
   ]
  },
  {
   "cell_type": "code",
   "execution_count": null,
   "id": "211247d8-c224-4023-a7fd-fbae296f27af",
   "metadata": {},
   "outputs": [],
   "source": [
    "# Or check if there are any cells with zero or less thickness\n",
    "test = mg.cell_thickness<=0.0 # will create a boolean array, that is, an array of True and False\n",
    "test.any() # If any instances of True exist in the boolean array test. In other words do I have a cell with less than zero thickness"
   ]
  },
  {
   "cell_type": "markdown",
   "id": "7fc931ef-f68f-451c-bd89-fb571dcbd93c",
   "metadata": {},
   "source": [
    "# Different layer elevations plus row and column spacing \n",
    "\n",
    "In order to set up a structured grid with variable row and column spacing and/or layer elevations we have to provide the dis object with lists or arrays instead of scalars for delr, delc, top and bottom."
   ]
  },
  {
   "cell_type": "code",
   "execution_count": null,
   "id": "20547d72-4e81-4727-91cb-1a6b88aa9ab3",
   "metadata": {},
   "outputs": [],
   "source": [
    "# remove previous gwf, dis and mg objects\n",
    "del gwf\n",
    "del dis\n",
    "del mg\n",
    "# We'll stick with the same grid we had previously but change how we input delr, delc, top and bot\n",
    "# A simple uniform single layer grid\n",
    "nlay = 3 # the number of layers we want\n",
    "nrow = 3 # you guesssed it, the number of rows we want\n",
    "ncol = 5 # the number of columns changing this.\n",
    "delr = [x/2 for x in range(1,6)] # our row spacing !!! WHAAAT but don't we only have 3 rows\n",
    "delc = [x*1.1 for x in range(1,4)] # our column spacing !!! WHAAAT but we have 5 columns\n",
    "# delr is spacing ALONG a row, NOT spacing between rows therefore the number of elements of delr = ncol\n",
    "# delc is spacing ALONG a column, NOT spacing between columns therefore the number of elements of delc = nrow\n",
    "print(delr)\n",
    "print(delc)"
   ]
  },
  {
   "cell_type": "code",
   "execution_count": null,
   "id": "42af3c07-6455-4f62-88fc-42c34b5360ad",
   "metadata": {},
   "outputs": [],
   "source": [
    "# This is a simple way to create an array with different layer elevations\n",
    "my_bots_layer1 = np.ones((1,nrow,ncol))*2.0 \n",
    "# np.ones((1,3,3)) creates an 2D 3x3 array filled with ones, I then mutiply this by 2.0 to get my layer bottom elevations\n",
    "# there are simpler ways to do this but we will use this same method with other Flopy packages in subsequent workshops \n",
    "my_bots_layer2 = np.ones((1,nrow,ncol))*1.5 \n",
    "my_bots_layer3 = np.ones((1,nrow,ncol))*1.0 \n",
    "# now the dis object will want a single 3D array and we currently have three 2D arrays so we need to \"stack\" them\n",
    "all_my_bots = np.vstack((my_bots_layer1,my_bots_layer2,my_bots_layer3)) # this combines the 2D arrays into a 3D\n",
    "all_my_bots"
   ]
  },
  {
   "cell_type": "code",
   "execution_count": null,
   "id": "8d9f35ca-5b61-4109-a089-e36d014802eb",
   "metadata": {},
   "outputs": [],
   "source": [
    "# Use the same approach to assign the tops ensuring they are greater than layer 1 bottoms\n",
    "top = np.ones((1,nrow,ncol))*3.0 \n",
    "top"
   ]
  },
  {
   "cell_type": "code",
   "execution_count": null,
   "id": "ba22cd1e-8b34-469b-94c8-1b687874a8f8",
   "metadata": {},
   "outputs": [],
   "source": [
    "# build a new gwf object\n",
    "gwf = flopy.mf6.ModflowGwf(sim, modelname=model_name, save_flows=True) # for the flow.nam file\n",
    "# build our new dis object\n",
    "dis = flopy.mf6.ModflowGwfdis(gwf,nlay=nlay,nrow=nrow,ncol=ncol,delr=delr,delc=delc,top=top,botm=all_my_bots) # creating the dis object"
   ]
  },
  {
   "cell_type": "code",
   "execution_count": null,
   "id": "02e80df1-3a09-456b-936c-9c04e8d8ab0a",
   "metadata": {},
   "outputs": [],
   "source": [
    "# Because we changed dis we need to reset what mg is\n",
    "mg = gwf.modelgrid"
   ]
  },
  {
   "cell_type": "code",
   "execution_count": null,
   "id": "8acc042e-7b2f-40fb-931e-9bab221c1399",
   "metadata": {},
   "outputs": [],
   "source": [
    "# now look at model grid\n",
    "mg.plot() # recall that this is viewing the grid from the top"
   ]
  },
  {
   "cell_type": "code",
   "execution_count": null,
   "id": "1a1c68e9-60f8-4ea4-a9cf-71d765dbe237",
   "metadata": {},
   "outputs": [],
   "source": [
    "# Or check if there are any cells with zero or less thickness\n",
    "test = mg.cell_thickness<=0.0 # will create a boolean array, that is, an array of True and False\n",
    "test.any() # If any instances of True exist in the boolean array test. In other words do I have a cell with less than zero thickness"
   ]
  },
  {
   "cell_type": "markdown",
   "id": "64036c70-2c96-4836-96b2-4e5e18db60b8",
   "metadata": {},
   "source": [
    "# The idomain array\n",
    "The idomain array is used to deactivate model cells that are part of the grid. Idomain arrays are used with all three types of model grids in Modflow-6. The structured grid allows for the creation of rectangular grids but if your system boundaries don't align with the rectangle then you may want to deactivate those cells. The idomain array therefore has the same number of elements in it as your complete model grid. Values of one indicate active model cells while values of zero are inactive cells. Previous versions of MODFLOW used an array called IBOUND to achieve the same thing. The IBOUND array could also include negative numbers to represent fixed head locations. MODFLOW-6 does not specify fixed heads in this manner. Negative numbers still deactivate the cell but also trigger the formation of a vertical pass through connection, that is, the first active cell above the cell with a negative idomain value will be connected to the first active cell below. If you don't specify an idomain array the default is that all model grid cells are active."
   ]
  },
  {
   "cell_type": "code",
   "execution_count": null,
   "id": "77b1529f-8d02-42ef-a4e2-3e9ec34daa9a",
   "metadata": {},
   "outputs": [],
   "source": [
    "my_idom = np.ones((nlay,nrow,ncol)) # creates an array with all ones so all active cells\n",
    "print('\\nall active\\n',my_idom)\n",
    "# deactivate all layers at cell (3,3)\n",
    "for x in range(nlay): # loop through the layer index\n",
    "    my_idom[x,2,2]=0 # set the value at row,col = 3,3 to zero. \n",
    "# Note zero based indexing in Python means that 2,2 = 3,3 in the input file\n",
    "print('\\ndeactivate lower right corner\\n',my_idom)\n",
    "# Now deactivate (2,1,1) and link (1,1,1) to (3,1,1)\n",
    "my_idom[1,0,0]=-1\n",
    "print('\\nalso deactivate upper left corner in layer 2 only plus add vertical pass through\\n',my_idom)"
   ]
  },
  {
   "cell_type": "code",
   "execution_count": null,
   "id": "b44c94b5-c5aa-4d16-aa46-1425e5403190",
   "metadata": {},
   "outputs": [],
   "source": [
    "# delete the previous dis and mg objects\n",
    "del dis\n",
    "del mg\n",
    "# create a new dis object but this time pass in the idomain array\n",
    "dis = flopy.mf6.ModflowGwfdis(gwf,nlay=nlay,nrow=nrow,ncol=ncol,\n",
    "                              delr=delr,delc=delc,top=top,\n",
    "                              botm=all_my_bots, idomain=my_idom) # creating the dis object"
   ]
  },
  {
   "cell_type": "code",
   "execution_count": null,
   "id": "9cc71ba7-365e-43c5-8c50-88ce7934be6c",
   "metadata": {},
   "outputs": [],
   "source": [
    "# create the model grid object and plot it note the idomain array is not reflected in the plot of the modelgrid.\n",
    "mg = gwf.modelgrid\n",
    "mg.plot()"
   ]
  },
  {
   "cell_type": "markdown",
   "id": "8a8f374c-05ed-4692-9a10-49b8db0dc7b8",
   "metadata": {},
   "source": [
    "# Where are my nodes exactly\n",
    "The model nodes in addition to the cell vertices are given co-orodinates that are determined from the lower left corner of the grid. This is clearly evident in the plot above where the lower left corner is 0,0"
   ]
  },
  {
   "cell_type": "code",
   "execution_count": null,
   "id": "df80440f-2421-4698-b5d0-20e2321865f7",
   "metadata": {},
   "outputs": [],
   "source": [
    "# How to get a list of node coordinates\n",
    "xcc = mg.get_xcellcenters_for_layer(0) # the zero here is for layer1\n",
    "ycc = mg.get_ycellcenters_for_layer(0)\n",
    "# now we combine them to form tuples of x and y\n",
    "coords = list(zip(xcc.flatten(),ycc.flatten()))\n",
    "coords\n",
    "# look carefully at the list. The first entry is the top left node location. Which one is the lower left?"
   ]
  },
  {
   "cell_type": "markdown",
   "id": "207e7958-5a57-4168-b589-ec6214d69415",
   "metadata": {},
   "source": [
    "# Projecting the grid into space\n",
    "\n",
    "Perhaps you want to configure your grid to represent an area to discretise for the purpose of building a groundwater model. You may want to project the grid onto a map so that it can be viewed in a GIS. The XORIGIN and YORIGIN variables in the options block of all three types of spatial discretization files facilitate this. Lets use the same information to build a new dis object but provide values for the XORIGIN and YORIGIN."
   ]
  },
  {
   "cell_type": "code",
   "execution_count": null,
   "id": "3efce369-f08e-4abe-a92c-e82878457509",
   "metadata": {},
   "outputs": [],
   "source": [
    "# first delete the previous dis and mg objects\n",
    "del dis\n",
    "del mg\n",
    "# now rebuild dis. Note we still have all our other variables available in memory \n",
    "# so we don't need to redefine values for variables.\n",
    "dis = flopy.mf6.ModflowGwfdis(gwf,nlay=nlay,nrow=nrow,ncol=ncol,\n",
    "                              delr=delr,delc=delc,top=top,\n",
    "                              botm=all_my_bots, idomain=my_idom,\n",
    "                             xorigin=100.0, yorigin=50.0) # creating the dis object"
   ]
  },
  {
   "cell_type": "code",
   "execution_count": null,
   "id": "989a95af-e79c-42f4-a3ab-415af83ed890",
   "metadata": {},
   "outputs": [],
   "source": [
    "# get a new modelgrid object\n",
    "mg = gwf.modelgrid\n",
    "mg.plot() # take a look at the values on the 'axes' now."
   ]
  },
  {
   "cell_type": "code",
   "execution_count": null,
   "id": "e76c231d-bd35-46b5-9eb9-ea4ba93dd250",
   "metadata": {},
   "outputs": [],
   "source": [
    "# What are the node new coordinates\n",
    "xcc = mg.get_xcellcenters_for_layer(0) # the zero here is for layer1\n",
    "ycc = mg.get_ycellcenters_for_layer(0)\n",
    "coords = list(zip(xcc.flatten(),ycc.flatten()))\n",
    "coords\n",
    "# So what are the xorigin and yorigin variables doing exactly."
   ]
  },
  {
   "cell_type": "markdown",
   "id": "ebf507ea-9a28-4d70-83da-47fe249d137e",
   "metadata": {},
   "source": [
    "# Rotating the grid\n",
    "\n",
    "In addition to using the XORIGIN and YORIGIN settings for your grid, you cal also rotate it in space."
   ]
  },
  {
   "cell_type": "code",
   "execution_count": null,
   "id": "99e1ef72-a8c0-4b80-9eb0-32fadc19758e",
   "metadata": {},
   "outputs": [],
   "source": [
    "# first delete the previous dis and mg objects\n",
    "del dis\n",
    "del mg\n",
    "# now rebuild dis. Note we still have all our other variables available in memory \n",
    "# so we don't need to redefine values for variables.\n",
    "dis = flopy.mf6.ModflowGwfdis(gwf,nlay=nlay,nrow=nrow,ncol=ncol,\n",
    "                              delr=delr,delc=delc,top=top,\n",
    "                              botm=all_my_bots, idomain=my_idom,\n",
    "                             xorigin=100.0, yorigin=50.0,\n",
    "                             angrot=30) # rotate 60 degrees around the x axis"
   ]
  },
  {
   "cell_type": "code",
   "execution_count": null,
   "id": "2b592d6d-3af8-46f9-9bb5-9741b2f2b96e",
   "metadata": {},
   "outputs": [],
   "source": [
    "# get a new modelgrid object\n",
    "mg = gwf.modelgrid\n",
    "mg.plot() # take a look at the values on the 'axes' now."
   ]
  },
  {
   "cell_type": "code",
   "execution_count": null,
   "id": "9eb32c98-df70-4ab4-b741-34e2c23443d0",
   "metadata": {},
   "outputs": [],
   "source": [
    "# What are the node new coordinates\n",
    "xcc = mg.get_xcellcenters_for_layer(0) # the zero here is for layer1\n",
    "ycc = mg.get_ycellcenters_for_layer(0)\n",
    "coords = list(zip(xcc.flatten(),ycc.flatten()))\n",
    "coords"
   ]
  },
  {
   "cell_type": "markdown",
   "id": "3ac48b97-6547-4d87-be36-ccf7b42e666e",
   "metadata": {},
   "source": [
    "# An applied example\n",
    "\n",
    "In this example you will be provided with a polygon shape file representing a model domain. You will have to build a strcutured grid with uniform 100 m x 100 m cells that encomapses the domain, then refine your grid down to 25 m x 25 m cells around two pumping wells whose locations are provided using a point shapefile. We will be exporting the grid as a shapefile so that we can see if we are projecting and sizing our grid correctly."
   ]
  },
  {
   "cell_type": "code",
   "execution_count": null,
   "id": "3d5d1952-72ef-4968-a844-92bb3dd09b65",
   "metadata": {},
   "outputs": [],
   "source": [
    "# First we clear all the existing Flopy objects\n",
    "for obj in [sim,tdis,ims,gwf,dis,mg]:\n",
    " del obj"
   ]
  },
  {
   "cell_type": "code",
   "execution_count": null,
   "id": "f4499e4f-d239-4644-b3cd-24e3ac7a3633",
   "metadata": {},
   "outputs": [],
   "source": [
    "# you have to copy the shape files you need to your GIS subdirectory in your workshop_2 folder\n",
    "# the files are located in a folder called files located in the same folder that the notebook is running.\n",
    "\n",
    "# create a path to the folder\n",
    "fpath=os.path.join('files')\n",
    "# the files are named sgrid_poly.shp and sgrid_points.shp but the shp files are not the only files you need to load \n",
    "# into a GIS. So we need to get all the files that have the same names.\n",
    "flist = [x for x in os.listdir(fpath) if (x.startswith('sgrid_poly')) or (x.startswith('sgrid_points'))] \n",
    "print(flist)\n",
    "# Now we need to copy those files over to \n",
    "for fyl in flist:\n",
    "    shutil.copyfile(os.path.join(fpath,fyl),os.path.join(gis_f,fyl))\n",
    "# take a look in your workshop GIS folder to see if the files were copied"
   ]
  },
  {
   "cell_type": "markdown",
   "id": "f455896a-ba8b-4014-9c43-1f38255bd7ba",
   "metadata": {},
   "source": [
    "# Follow these steps\n",
    "1. Launch your prefered GIS program\n",
    "2. Load the shape files (check one of the prj files for the projection information)\n",
    "3. Figure out the coordinates needed for the lower left of your model grid \n",
    "4. Build a basic simualtion including a model object (hint you can copy and paste from a previous cell)\n",
    "5. Work out how many rows and columns you will need to cover the polygon (don't worry about refining for now or top and botm)\n",
    "6. Build your structured dis object (hint length units need to be specified as 'meters')"
   ]
  },
  {
   "cell_type": "code",
   "execution_count": null,
   "id": "0a1669b6-ea17-4ac7-9a0a-c779ddbccff0",
   "metadata": {},
   "outputs": [],
   "source": [
    "simulation_name = 'MySim' # setting a name for our simulation\n",
    "sim = flopy.mf6.MFSimulation(sim_name=simulation_name, sim_ws=model_f, exe_name='mf6') # for a no frills mfsim.nam file\n",
    "tdis = flopy.mf6.ModflowTdis(sim) # for the MySim.tdis file, recall this sets a single steady-state stress period\n",
    "ims = flopy.mf6.ModflowIms(sim) # for the MySim.ims file, recall this sets up IMS as 'SIMPLE'\n",
    "model_name = 'flow' # setting a name for our model\n",
    "gwf = flopy.mf6.ModflowGwf(sim, modelname=model_name, save_flows=True) # for the flow.nam file"
   ]
  },
  {
   "cell_type": "code",
   "execution_count": null,
   "id": "23ebe46d-ba18-47e9-87f9-735c5db34b89",
   "metadata": {},
   "outputs": [],
   "source": [
    "nlay = 1\n",
    "nrow = 24\n",
    "ncol = 124\n",
    "delc = 100.0\n",
    "delr = 100.0\n",
    "top = 1.0\n",
    "botm = 0.0\n",
    "x = 686825.7084327207412571\n",
    "y = 7440206.9828847106546164\n",
    "dis = flopy.mf6.ModflowGwfdis(gwf,nlay=nlay,nrow=nrow,ncol=ncol,\n",
    "                              delr=delr,delc=delc,top=top,\n",
    "                              botm=botm, xorigin=x, yorigin=y) # creating the dis object"
   ]
  },
  {
   "cell_type": "markdown",
   "id": "dd034287-ab52-4e9c-befc-5e866a50cda4",
   "metadata": {},
   "source": [
    "# Exporting the grid as a shape file\n",
    "Use the line below to export your grid as a shapefile to the sub-directory for GIS that you made earlier."
   ]
  },
  {
   "cell_type": "code",
   "execution_count": null,
   "id": "8308034c-5c34-49b3-93e4-f493bf2cd480",
   "metadata": {},
   "outputs": [],
   "source": [
    "# this assumes you named your instance of the flopy.mf6.ModflowGwfdis class,'dis'\n",
    "dis.export(os.path.join(gis_f,'dis.shp')) # ignore the warnings\n",
    "# Check yor GIS folder for the exported shape file"
   ]
  },
  {
   "cell_type": "code",
   "execution_count": null,
   "id": "62b78bd2-782c-4689-9cba-8bedefb29e03",
   "metadata": {},
   "outputs": [],
   "source": [
    "# lets take a quick look at our nodes\n",
    "mg = gwf.modelgrid\n",
    "xcc = mg.get_xcellcenters_for_layer(0) # the zero here is for layer1\n",
    "ycc = mg.get_ycellcenters_for_layer(0)\n",
    "coords = list(zip(xcc.flatten(),ycc.flatten()))\n",
    "coords"
   ]
  },
  {
   "cell_type": "code",
   "execution_count": null,
   "id": "bbdb0c0c-5707-4e67-b555-478a06d87d36",
   "metadata": {},
   "outputs": [],
   "source": [
    "# Write a new simulation\n",
    "sim.write_simulation()"
   ]
  },
  {
   "cell_type": "code",
   "execution_count": null,
   "id": "f2c9bb3b-c82d-4f8b-b117-09fad0ac790e",
   "metadata": {},
   "outputs": [],
   "source": [
    "# Now look at the flow.dis input file\n",
    "_ = [print(line.rstrip()) for line in open(os.path.join(model_f,\"flow.dis\"))]"
   ]
  },
  {
   "cell_type": "markdown",
   "id": "d260cfd5-7fd4-4a9b-a0a1-d3464739a64f",
   "metadata": {},
   "source": [
    "# Refinement: \n",
    "Consider the following issues associated with manual refinement of a structured grid\n",
    "\n",
    "1. You will need to know how many new rows and columns are going to be added when you refine\n",
    "2. You will need to know which rows and columns have different delr or delc"
   ]
  },
  {
   "cell_type": "code",
   "execution_count": null,
   "id": "ae5386af-f663-43f8-a19a-885cd7919ab7",
   "metadata": {},
   "outputs": [],
   "source": [
    "# There is an MS-Excel worksheet included in the files folder that will provide you with some assitance\n",
    "# Can you see how we came up with these numbers?\n",
    "new_nrow = 36\n",
    "new_ncol = 142\n",
    "new_delr = np.ones((new_nrow))*100\n",
    "new_delr[10:26] = 25.0 # note the last index is not included in the modification\n",
    "new_delc = np.ones((new_ncol))*100\n",
    "new_delc[37:49] = 25.0 # note the last index is not included in the modification\n",
    "new_delc[81:93] = 25.0 # note the last index is not included in the modification"
   ]
  },
  {
   "cell_type": "code",
   "execution_count": null,
   "id": "d24596c0-d24b-4c84-bc56-e74a7ea9562d",
   "metadata": {},
   "outputs": [],
   "source": [
    "# rebuild the new dis object and export the grid as a shape file\n",
    "x = 686825.7084327207412571\n",
    "y = 7440206.9828847106546164\n",
    "dis = flopy.mf6.ModflowGwfdis(gwf,nlay=nlay,\n",
    "                              nrow=new_nrow,\n",
    "                              ncol=new_ncol,\n",
    "                              delr=new_delc,\n",
    "                              delc=new_delr,\n",
    "                              top=top,\n",
    "                              botm=botm,\n",
    "                              xorigin=x,\n",
    "                              yorigin=y) # creating the dis object\n",
    "dis.export(os.path.join(gis_f,'dis_refine1.shp')) # ignore the warnings"
   ]
  },
  {
   "cell_type": "code",
   "execution_count": null,
   "id": "f5b8ac09-50cd-471e-ae8d-e7ae00c6753a",
   "metadata": {},
   "outputs": [],
   "source": [
    "# get a modelgrid object and plot the grid\n",
    "mg = gwf.modelgrid\n",
    "fig,ax = plt.subplots(figsize=(20,3)) # we are creating a figure object here so that we can dictate size\n",
    "mg.plot(ax=ax)\n",
    "ax.ticklabel_format(style='plain') # test what happens if you don't use this switch\n",
    "ax.set_title('DIS Model Grid')\n",
    "ax.set_xlabel('Eastings')\n",
    "ax.set_ylabel('Northings')\n",
    "# lets save it to our plots folder\n",
    "figname = os.path.join(plots_f,'DIS_model_grid.png') # note use of the plots folder path.\n",
    "# If you want to change the file format then change the extension from .png to pdf or just do both\n",
    "fig.savefig(figname,dpi=300)\n",
    "figname = os.path.join(plots_f,'DIS_model_grid.pdf')\n",
    "fig.savefig(figname,dpi=300) "
   ]
  },
  {
   "cell_type": "markdown",
   "id": "4e768b83-8b38-489b-8d81-4bd72d32c081",
   "metadata": {},
   "source": [
    "# Using grid intersect to select nodes for idomain\n",
    "\n",
    "We will use Flopy's grid intersect methods with the polygon of the model domain to select the active nodes."
   ]
  },
  {
   "cell_type": "code",
   "execution_count": null,
   "id": "b6ed1c92-b5bc-4917-ad19-c93cfdb5a09b",
   "metadata": {},
   "outputs": [],
   "source": [
    "from flopy.utils import GridIntersect # first import the GridIntersect class\n",
    "from shapely.geometry import Polygon\n",
    "import shapefile"
   ]
  },
  {
   "cell_type": "code",
   "execution_count": null,
   "id": "535df5a1-b093-49fe-bfc2-15ef70f6c4e0",
   "metadata": {},
   "outputs": [],
   "source": [
    "# Now we need to deactivate the model cells that are outside the model domain\n",
    "# start by creating the idomain array\n",
    "idom = np.zeros((nlay,new_nrow,new_ncol))\n",
    "\n",
    "# now we create an intercetion object specifying a method for structured grids\n",
    "ix = GridIntersect(mg, method=\"structured\") # note that we have to pass it a modelgrid object\n",
    "\n",
    "# create a pth to the shapefile\n",
    "shp_path = os.path.join(gis_f,'sgrid_poly.shp')\n",
    "\n",
    "# read in the shapefile\n",
    "sf = shapefile.Reader(shp_path)\n",
    "\n",
    "# Create a shapely polygon object from the points stored in the shapefile\n",
    "poly = Polygon(shell=sf.shape(0).points)"
   ]
  },
  {
   "cell_type": "code",
   "execution_count": null,
   "id": "f1b8e2c8-8e18-4a4c-a4a6-7b80cfa89ff1",
   "metadata": {},
   "outputs": [],
   "source": [
    "result = ix.intersect(poly) # perform the intersection\n",
    "# note the intersection has other information but for now we will only use the cell_ids\n",
    "# we can use the cell ids to set idomain\n",
    "_ = result.cellids"
   ]
  },
  {
   "cell_type": "code",
   "execution_count": null,
   "id": "14baad3a-fcaa-4bc6-8e99-faf1394b64d6",
   "metadata": {},
   "outputs": [],
   "source": [
    "for item in _: # loop through all the selected cell ids\n",
    "    idom[0][item[0]][item[1]] = 1 # make them equal to 1\n",
    "idom"
   ]
  },
  {
   "cell_type": "code",
   "execution_count": null,
   "id": "394d7a65-4f8e-4705-b01c-5df14ae7f75d",
   "metadata": {},
   "outputs": [],
   "source": [
    "# create a new dis object and export the grid as a shape file\n",
    "x = 686825.7084327207412571\n",
    "y = 7440206.9828847106546164\n",
    "dis = flopy.mf6.ModflowGwfdis(gwf,nlay=nlay,\n",
    "                              nrow=new_nrow,\n",
    "                              ncol=new_ncol,\n",
    "                              delr=new_delc,\n",
    "                              delc=new_delr,\n",
    "                              top=top,\n",
    "                              botm=botm,\n",
    "                              xorigin=x,\n",
    "                              yorigin=y,\n",
    "                              idomain=idom) # creating the dis object\n",
    "dis.export(os.path.join(gis_f,'dis_idom.shp')) # ignore the warnings\n",
    "# Note the exported shapefile has the idomain value for each node included so you can check if your \n",
    "# intersection was correct. "
   ]
  },
  {
   "cell_type": "markdown",
   "id": "8b6ac9f9-40ce-4969-adb5-909b4c6fa533",
   "metadata": {},
   "source": [
    "# Points to consider\n",
    "1. Discretization efficiency\n",
    "2. What happens if there are more layers\n",
    "3. Can we do it better?"
   ]
  },
  {
   "cell_type": "markdown",
   "id": "10640f36-9efa-4fac-95d8-5df5d35be6c0",
   "metadata": {},
   "source": [
    "# Discretization by vertices (DISV) and Gridgen\n",
    "\n",
    "The use of control-volume finite-difference facilitates unstructured model grids. Modflow-6 includes two discretization types for this purpose DSIV and DISU. The primary differenrce between the two is that DISU allows for different numbers of nodes/cells in different layers and/or different locations of nodes/cells in different layers. DISV must have the same pattern of nodes and cells in each layer. Instead of (layer, row, column), indexing for nodes, DISV has (layer, node number) while DISU has node number only. You will become more familiar with these differences when we start working with boundary conditions.\n",
    "\n",
    "This allows for more efficient model mesh designs with regards to node numbers. In the following example we will construct a quadtree refined model mesh using Gridgen and Flopy. Gridgen is included in the USGS binaries that you can download from [here](https://github.com/MODFLOW-USGS/executables).\n",
    "\n",
    "A polygon representing a new model domain is provided in addition to all the shape files that Gridgen will need to build the grid for you. These will be copied to your workshop_2 GIS folder. Take a look at the shape files in your preferred GIS program noting the projection from any one of the prj files."
   ]
  },
  {
   "cell_type": "code",
   "execution_count": null,
   "id": "8f2ef991-28b9-4d08-9646-53b9154f39f2",
   "metadata": {},
   "outputs": [],
   "source": [
    "# Copy all the files in the disv_shapefiles subdirectory in files to your GIS folder\n",
    "shp_path = os.path.join('files','disv_shapefiles') # path to shapefiles for this example\n",
    "flist = [x for x in os.listdir(shp_path)] # create a list of all the shapefiels\n",
    "for file in flist:\n",
    "    shutil.copyfile(os.path.join(shp_path,file),os.path.join(gis_f,file)) \n",
    "# Now have a look at all the shape files in your preferred GIS tool."
   ]
  },
  {
   "cell_type": "code",
   "execution_count": null,
   "id": "0a897d5f-a5bd-4e27-9545-1c0b39ff2838",
   "metadata": {},
   "outputs": [],
   "source": [
    "# Create a dummy model and regular grid to use as the base grid for gridgen\n",
    "# You should be familiar with evrything used in this block of code\n",
    "sim_name = \"MySim\"\n",
    "model_name = \"flow\"\n",
    "\n",
    "sim = flopy.mf6.MFSimulation(sim_name=simulation_name, sim_ws=model_f, exe_name='mf6') # for a no frills mfsim.nam file\n",
    "tdis = flopy.mf6.ModflowTdis(sim) # for the MySim.tdis file, recall this sets a single steady-state stress period\n",
    "ims = flopy.mf6.ModflowIms(sim) # for the MySim.ims file, recall this sets up IMS as 'SIMPLE'\n",
    "gwf = flopy.mf6.ModflowGwf(sim, modelname=model_name, save_flows=True) # for the flow.nam file\n",
    "\n",
    "nlay = 3\n",
    "nrow = 34\n",
    "ncol = 44\n",
    "delr = delc = 1280.0 # Why do you think am I choosing this value? It has to do with quadtree refinement.\n",
    "botm = np.zeros((nlay, nrow, ncol))\n",
    "top = np.zeros((1, nrow, ncol)) # note the use of 1. Why?\n",
    "idom = np.ones((nlay, nrow, ncol))\n",
    "botm[0, :, :] = 270.0 # Setting the bottom for layer 1\n",
    "botm[1,:,:] = 200.0 # Setting the bottom for layer 2\n",
    "botm[2,:,:] = -170.0 # Setting the bottom for layer 3\n",
    "top[0,:,:] = 460.0 # Setting the top for layer 1\n",
    "\n",
    "# Note we start with a structured DIS grid despite aiming for a DISV grid.\n",
    "dis = flopy.mf6.ModflowGwfdis(\n",
    "    gwf,\n",
    "    nlay=nlay,\n",
    "    nrow=nrow,\n",
    "    ncol=ncol,\n",
    "    delr=delr,\n",
    "    delc=delc,\n",
    "    top=top,\n",
    "    botm=botm,\n",
    "    xorigin=729425, # new location\n",
    "    yorigin=947000, # new location\n",
    "    length_units='meters',\n",
    "    angrot=0,\n",
    "    idomain = idom\n",
    ")\n",
    "dis.export(os.path.join(gis_f,'disv.shp'))\n",
    "# check that the exported disv shapefile covers the polygon for the model boundary."
   ]
  },
  {
   "cell_type": "markdown",
   "id": "d4eec85d-84ca-4c0f-b3dd-30f9a1f2a769",
   "metadata": {},
   "source": [
    "# Checking for Gridgen on your system"
   ]
  },
  {
   "cell_type": "code",
   "execution_count": null,
   "id": "87d82dfc-4fc2-4944-8509-fc7cb5935d10",
   "metadata": {},
   "outputs": [],
   "source": [
    "from flopy.utils.gridgen import Gridgen\n",
    "gridgen_exe = \"gridgen\"\n",
    "if platform.system() in \"Windows\":\n",
    "    gridgen_exe += \".exe\"\n",
    "gridgen_exe = flopy.which(\"gridgen\")\n",
    "if gridgen_exe is None:\n",
    "    msg = (\n",
    "        \"Warning, gridgen is not in your path. \"\n",
    "        \"When you create the griden object you will need to \"\n",
    "        \"provide a full path to the gridgen binary executable.\"\n",
    "    )\n",
    "    print(msg)\n",
    "else:\n",
    "    print(\"gridgen executable was found at: {}\".format(gridgen_exe))"
   ]
  },
  {
   "cell_type": "markdown",
   "id": "38fb4d4b-6e5a-4926-9d0f-b47e6e9459af",
   "metadata": {},
   "source": [
    "# Using Flopy to run Gridgen"
   ]
  },
  {
   "cell_type": "code",
   "execution_count": null,
   "id": "81ada402-8f9c-4e00-ad40-220b78dcc97d",
   "metadata": {},
   "outputs": [],
   "source": [
    "# create a path to a folder where we will store gridgen files\n",
    "mg = gwf.modelgrid\n",
    "g = Gridgen(mg) # creating the gridgen object and passing in our structured dis object\n",
    "\n",
    "# Here we are just creating paths to the shape files\n",
    "# note that we don't use the .shp extension\n",
    "dam = os.path.join(gis_f,\"dam_buffer\")\n",
    "chanel = os.path.join(gis_f,\"my_channels\")\n",
    "tsf = os.path.join(gis_f,\"tsf_buffer\")\n",
    "wels = os.path.join(gis_f,\"Wells_buffered\")\n",
    "pit1500 = os.path.join(gis_f,\"pits_buffer_1500\")\n",
    "pit1000 = os.path.join(gis_f,\"pits_buffer_1000\")\n",
    "pit500 = os.path.join(gis_f,\"pits_buffer_500\")\n",
    "mod_bnd = os.path.join(gis_f,\"model_bounds\")\n",
    "act_dom = os.path.join(gis_f,\"model_bounds_poly\")\n",
    "\n",
    "# this section adds the shape files to be used as refinement features\n",
    "# We also add an active domain shap eat the end\n",
    "# note we have an increasing order of refinement as we add the features\n",
    "# what cell size does 5 levels of refinement produce if we start from 1280.0 m\n",
    "# we ask for the refinements to be applied in all layers because we will be using disv\n",
    "# what do you think will happen if we only refine in layer 1?\n",
    "\n",
    "g.add_refinement_features(mod_bnd, \"line\", 2, layers=[0,1,2]) # the model boundary, a line feature, refinement level 2, all layers\n",
    "g.add_refinement_features(chanel, \"line\", 3, layers=[0,1,2]) # the ephemeral channels, a line feature, refinement level 3, all layers\n",
    "g.add_refinement_features(wels, \"polygon\", 3, layers=[0,1,2]) # the well bore locations, a polygon feature, refinement level 3, all layers\n",
    "g.add_refinement_features(dam, \"polygon\", 3, layers=[0,1,2]) # the dewater dam, a polygon feature, refinement level 3, all layers\n",
    "g.add_refinement_features(tsf, \"polygon\", 3, layers=[0,1,2]) # the TSF, a polygon feature, refinement level 3, all layers\n",
    "g.add_refinement_features(pit1500, \"polygon\", 3, layers=[0,1,2]) # buffered area around the planned mine pits, a polygon feature, refinement level 3, all layers\n",
    "g.add_refinement_features(pit1000, \"polygon\", 4, layers=[0,1,2]) # buffered area around the planned mine pits, a polygon feature, refinement level 4, all layers\n",
    "g.add_refinement_features(pit500, \"polygon\", 5, layers=[0,1,2]) # buffered area around the planned mine pits, a polygon feature, refinement level 5, all layers\n",
    "g.add_active_domain(act_dom,layers=[0,1,2]) # add the active domain for all layers\n",
    "g.build() # build the grid"
   ]
  },
  {
   "cell_type": "markdown",
   "id": "499e33bc-5d8a-4f7d-be83-667e32d98c78",
   "metadata": {},
   "source": [
    "# Move the new grid shape files to our GIS folder"
   ]
  },
  {
   "cell_type": "code",
   "execution_count": null,
   "id": "72b05db9-c057-45f0-8122-66d91db7c80c",
   "metadata": {},
   "outputs": [],
   "source": [
    "# get a list of the files and copy them to GIS folder\n",
    "grd_files = [file for file in os.listdir('.') if file.startswith(\"qtgrid\")]\n",
    "for file in grd_files:\n",
    "    shutil.copyfile(file,os.path.join(gis_f,file))\n",
    "# note these files don't have any projection but the nodes and vertices are correct \n",
    "# because they were derived from the original structured grid object "
   ]
  },
  {
   "cell_type": "markdown",
   "id": "61b3f7fd-660a-471c-bb27-375e5a453deb",
   "metadata": {},
   "source": [
    "# Get the new grid properties\n",
    "\n",
    "These are needed to build a DISV grid object.\n",
    "    \n",
    "While we are at it lets look at the grid via a modelgrid instance directly. \n",
    "Note this is different to how we were doing it previously where we first built a discretisation object then a modelgrid."
   ]
  },
  {
   "cell_type": "code",
   "execution_count": null,
   "id": "0970b952-1197-4f7c-80ec-fb6babd2c501",
   "metadata": {
    "scrolled": true
   },
   "outputs": [],
   "source": [
    "# get the gridprops for a disv type modelgrid\n",
    "# note this method is for a modelgrid object specifically, there are also methods for discretization objects\n",
    "gridprops_vg = g.get_gridprops_vertexgrid() \n",
    "\n",
    "# create a vertex modelgrid using the gridprops, this is why we used a method to get modelgrid properties\n",
    "vgrid = flopy.discretization.VertexGrid(**gridprops_vg) # You've seen a list unpack before using *list, this is a dictionary unpack using **dict\n",
    "\n",
    "#Call a figure so that we can make a larger plot\n",
    "fig,ax = plt.subplots(figsize=(12,12)) # set a large figure size\n",
    "vgrid.plot(ax=ax) # pass in the axes for the current figure\n",
    "#BAM! Try doing that manually without Gridgen.\n",
    "\n",
    "# Since we already have a figure instance lets save this in our plots folder\n",
    "ax.set_xlabel('Easting')\n",
    "ax.set_ylabel('Northing')\n",
    "plt.title('Model Grid')\n",
    "figname = os.path.join(plots_f,'model_grid.png') # note use of the plots folder path.\n",
    "# If you want to change the file format then change the extension from .png to pdf or just do both\n",
    "fig.savefig(figname,dpi=300)\n",
    "figname = os.path.join(plots_f,'model_grid.pdf')\n",
    "fig.savefig(figname,dpi=300) "
   ]
  },
  {
   "cell_type": "markdown",
   "id": "5038d300-0b46-472d-a50e-8dd22d9c9b78",
   "metadata": {},
   "source": [
    "# Creating a DISV object\n",
    "\n",
    "So far we built a grid with Gridgen and from that we created a modelgrid object but we haven't created a discretisation object for our model just yet. Note if you don't rebuild your model object then you may get an error because it assumes you are trying add another discretisation object."
   ]
  },
  {
   "cell_type": "code",
   "execution_count": null,
   "id": "327dcecd-6b42-4ada-ab27-02e5ab0579ea",
   "metadata": {},
   "outputs": [],
   "source": [
    "del gwf\n",
    "gwf = flopy.mf6.ModflowGwf(sim, modelname=model_name, save_flows=True) # for the flow.nam file\n",
    "\n",
    "# Now lets get the properties for a disv object. Note the method is different and is specific to a disv type object\n",
    "gridprops_disv = g.get_gridprops_disv()\n",
    "\n",
    "# Note use of mf6.ModflowGwfdisv, passing in the model object (gwf) and unpacking the grid properties dictionary\n",
    "disv = flopy.mf6.ModflowGwfdisv(gwf,length_units=\"METERS\", **gridprops_disv)\n",
    "# ignore the warning"
   ]
  },
  {
   "cell_type": "code",
   "execution_count": null,
   "id": "19b1e47e-9313-4629-9175-d769c01b80b0",
   "metadata": {},
   "outputs": [],
   "source": [
    "sim.write_simulation()"
   ]
  },
  {
   "cell_type": "code",
   "execution_count": null,
   "id": "de8163ea-46fa-4e8f-a062-bd2ae2981e03",
   "metadata": {},
   "outputs": [],
   "source": [
    "# Now look at the flow.dis input file\n",
    "_ = [print(line.rstrip()) for line in open(os.path.join(model_f,\"flow.disv\"))] # note the file now ends with .disv instead of .dis"
   ]
  },
  {
   "cell_type": "markdown",
   "id": "46093adc-a7d7-42d7-82b7-040eb8bf74d3",
   "metadata": {},
   "source": [
    "# Gridgen Files\n",
    "\n",
    "Gridgen creates lots of files. Look in the folder where this notebook resides. You will find many files that were created when you ran Gridgen. The files start with similar prefixes either 'qtg.', 'quadtree', '_gridgen' or 'qtgrid'. The 'qtgrid' files are shapefiles that can be used to view your grid in a GIS. The other files contain information about the grid plus the actual input files that Flopy wrote in order to run Gridgen for you. If you are interested in the details of the other files then consider downloading the Gridgen suite [here](https://www.usgs.gov/software/gridgen-program-generating-unstructured-finite-volume-grids) where you can access a copy of the user manual. Note this manual will show you how to create the input files for Gridgen and how to run it form command line. It does not include information on using Gridgen with Flopy. The suite also includes the Gridgen executable but the one linked to earlier, which is provided as part of the USGS groundwater modelling binaries is the one you should be using with Flopy.\n",
    "\n",
    "Lets tidy things up a bit and move the files created by Gridgen into a sub-directory in our workshop folder."
   ]
  },
  {
   "cell_type": "code",
   "execution_count": null,
   "id": "5cf84f74-7276-4705-9fa1-4c3cd2ad1ffa",
   "metadata": {},
   "outputs": [],
   "source": [
    "# make a path to where we want our new folder\n",
    "grid_path = os.path.join(ws2,'Gridgen')\n",
    "# now make the folder by checking if it exists first, deleting it, then making it\n",
    "if os.path.exists(grid_path): # here we are asking if the path exists on the computer. \n",
    "    shutil.rmtree(grid_path)# if it does exist, delete it and all the files in it plus any subdirectories\n",
    "    os.mkdir(grid_path) # then remake it\n",
    "else:\n",
    "    os.mkdir(grid_path) # if it doesn't exist then make the folder\n",
    "# now make a list of all the files we want to move\n",
    "# We will use the start of the different filenames to identify them\n",
    "flist = [] # start with an empty list\n",
    "for pref in ['qtg', 'quadtree', '_gridgen',]: # kick off a for loop with a list of file prefixes\n",
    "    temp_list = [x for x in os.listdir() if x.startswith(pref)] # make a temporary list of the files that start with this loops prefix\n",
    "    flist = [*flist,*temp_list] # unpack the existing list of files and the temporary list of files into the file list\n",
    "# Before we move the files you should check that you haven't included any files you don't want to move.\n",
    "flist"
   ]
  },
  {
   "cell_type": "code",
   "execution_count": null,
   "id": "ddba1b4b-cd05-4e00-8b29-1d9abc2e877a",
   "metadata": {},
   "outputs": [],
   "source": [
    "# If that looks good then we move the files to our new folder\n",
    "for file in flist:\n",
    "    shutil.move(file,grid_path) # note use of move as opposed to copyfile which we used earlier. "
   ]
  },
  {
   "cell_type": "markdown",
   "id": "920d23f3-f182-4574-a1a3-62339fa372b8",
   "metadata": {},
   "source": [
    "# Raster sampling to assign layer elevations to model tops and bottoms\n",
    "\n",
    "If you plan to use interpolated elevations for your aquifer top and bottoms plus a DEM for your model surface then using Flopy's Raster class and methods is very useful. For the sake of brevity we will only do this for the model surface but the same method can be used for all model layers. The approach demonstrated below uses a .tif file that was created in a GIS. In this instance the tif file only has a single band. You can create tif files through interpolation of point data within a GIS if your aim is to create layer elevations."
   ]
  },
  {
   "cell_type": "code",
   "execution_count": null,
   "id": "054de288-0a58-4e38-96f4-af87e32a86f6",
   "metadata": {},
   "outputs": [],
   "source": [
    "# Lets copy the file from the ./files folder to our GIS folder for this workshop\n",
    "fnam = 'filled_dem.tif' # the name of the the tif file we are going to use\n",
    "shutil.copyfile(os.path.join(fpath,fnam),os.path.join(gis_f,fnam))"
   ]
  },
  {
   "cell_type": "code",
   "execution_count": null,
   "id": "507a1eba-530b-4fda-9903-dd77f6c07e28",
   "metadata": {},
   "outputs": [],
   "source": [
    "from flopy.utils import Raster # first import the Raster class\n",
    "mg = gwf.modelgrid # make sure your modelgrid is associated with the current model and it's discretization object\n",
    "topo_fyl = os.path.join(gis_f,'filled_dem.tif') # path to our copied tif file\n",
    "rio1 = Raster.load(topo_fyl) # Load the file \n",
    "rio1.bands # check how many bands"
   ]
  },
  {
   "cell_type": "code",
   "execution_count": null,
   "id": "69b4edbe-d017-4f79-a026-ab6ab58e55c6",
   "metadata": {},
   "outputs": [],
   "source": [
    "# Here is where we sample the raster to the modelgrid \n",
    "top_data = rio1.resample_to_grid(   #using the resample_to_grid method\n",
    "    mg, band=rio1.bands[0], # stipulating the first band in the raster file to be used as the data for sampling\n",
    "    method=\"nearest\" # setting an interpolation method because it is highly unlikley that your model grid nodes will align with the raster data points \n",
    ")\n",
    "print(np.shape(top_data)) # the shape of the array should match a layer in your model. Recall with DISV all layers have the same node pattern \n",
    "top_data\n",
    "#*** WARNING you haven't assigned this to the model yet, you only have the data ***"
   ]
  },
  {
   "cell_type": "code",
   "execution_count": null,
   "id": "e16d7e65-a28b-4319-b77b-7aaef7293c9f",
   "metadata": {},
   "outputs": [],
   "source": [
    "# Here is where we assign the data to the discretization object\n",
    "disv.top.data \n",
    "disv.top = top_data\n",
    "disv.top.data \n",
    "# *** WARNING you've changed the disv object but not the modelgrid ****"
   ]
  },
  {
   "cell_type": "code",
   "execution_count": null,
   "id": "1e11ac8c-bc2e-46a7-b023-466bd4cd9845",
   "metadata": {},
   "outputs": [],
   "source": [
    "# as a precaution whenever you make changes to your discretisation object you should rebuild your modelgrid\n",
    "mg = gwf.modelgrid\n",
    "# this ensures that if you use methods that call on the modelgrid for information then it will be updated"
   ]
  },
  {
   "cell_type": "markdown",
   "id": "90fd5749-752a-477c-91fe-bcbb4a445a24",
   "metadata": {},
   "source": [
    "# Plotting the Raster"
   ]
  },
  {
   "cell_type": "code",
   "execution_count": null,
   "id": "27434235-9012-4c7f-87e8-275f35674f5a",
   "metadata": {},
   "outputs": [],
   "source": [
    "fig = plt.figure(figsize=(8, 5))\n",
    "ax = fig.add_subplot(1, 1, 1, aspect=\"equal\")\n",
    "ax = rio1.plot(ax=ax)\n",
    "plt.colorbar(ax.images[0], aspect=30)\n",
    "ax.set_title('Topography (m)')\n",
    "ax.set_xlabel('Eastings')\n",
    "ax.set_ylabel('Northings')\n",
    "ax.ticklabel_format(style='plain') #  gets rid of the exponent offsets on the axis\n",
    "plt.tight_layout()"
   ]
  },
  {
   "cell_type": "markdown",
   "id": "bdebee27-1fa2-4bb8-af9d-d2d0ab57dae7",
   "metadata": {},
   "source": [
    "# Plotting with the Mapview object\n",
    "\n",
    "Plotting the raster is nice but this doesn't give you the information mapped to the grid for that you need to plot with the Mapview object. We will be using this all the time for viewing model results and input data like boundary conditions."
   ]
  },
  {
   "cell_type": "code",
   "execution_count": null,
   "id": "bb48e750-a2b5-4dab-ac85-8e7a8aeedf50",
   "metadata": {},
   "outputs": [],
   "source": [
    "fig = plt.figure(figsize=(8, 5)) # Creating a figure and axes object plus setting the figure size\n",
    "ax = fig.add_subplot(1, 1, 1, aspect=\"equal\") # setting the aspect for a single plot, aspect keeps the scale of the x and y axes correct \n",
    "# note the 1,1,1 above means 1 row, 1 column, the first plot\n",
    "\n",
    "pmv = flopy.plot.PlotMapView(modelgrid=mg, layer = 0) #creating a mapview object\n",
    "pmv.plot_grid(ax=ax, lw=0.3, color=\"black\") # plot the grid on the axes using linewidths = 0.3 and black lines\n",
    "# Note that the line above is not given an object name, we could have done this if we wanted to\n",
    "map1 = pmv.plot_array(mg.top) # here I am passing in an array from the modelgrid, I could also have used disv.top.data instead\n",
    "# The line above here is assigned an object name because I need to provide it to the line below which creates the colorbar\n",
    "plt.colorbar(map1,aspect=30) # create a colorbar specific to the array that was plotted, \n",
    "# you can control the size of the colorbar with aspect and shrink.\n",
    "ax.set_title('Topography (m)') \n",
    "ax.set_xlabel('Eastings')\n",
    "ax.set_ylabel('Northings')\n",
    "ax.ticklabel_format(style='plain') #  gets rid of the exponent offsets on the axis\n",
    "plt.tight_layout() # reduces the whitespace around the figure so it takes up less space in a document"
   ]
  },
  {
   "cell_type": "markdown",
   "id": "d4326e5c-d3bb-4f0f-963e-0977bf01d34a",
   "metadata": {},
   "source": [
    "# Pinching out layers with IDOMAIN\n",
    "\n",
    "Assume that we assigned elevations to all our layers but they intersect one another. This means that the some of the aquifers don't exist in certain locations. The modelgrid object stores this information as thickness. If the thickness is less than zero then the layer representing that aquifer does not exist according to our interpolation. ***warning*** As a modeller you need to know the difference between interpolation and extrapolation; moreover, you need to think carefully about how much you really know and what is assumption. The code block below simply assigns a negative value to any location where the model thickness is less than zero creating you idomain for pinching out layers.\n",
    "\n",
    "If you don't pinch out a negative thickness cell, MF6 will fail to run and inform you that you have negative thickness. Before you decide to pinch out you need to make sure that layer elevations are correct."
   ]
  },
  {
   "cell_type": "code",
   "execution_count": null,
   "id": "4e138f08-8788-4451-84a0-551b16cb33b2",
   "metadata": {},
   "outputs": [],
   "source": [
    "# Start with the modelgrid thickness\n",
    "thick = mg.cell_thickness\n",
    "# now idomain will be the same shape array as thick so we can use a handy feature of numpy\n",
    "idom = np.ones_like(thick) # creates an array of ones\n",
    "idom[thick<0.0]=-1 # this is basically saying that wherever thick is less than zero make idom equal to -1\n",
    "# in this case we don't have any pinchouts but I included this for completeness"
   ]
  },
  {
   "cell_type": "code",
   "execution_count": null,
   "id": "de4e578f-d50e-44d0-b376-850a69fc1bbb",
   "metadata": {},
   "outputs": [],
   "source": [
    "# then we can assign the is to our disv object\n",
    "disv.idomain = idom\n",
    "# don't forget to rebuild modelgrid now that idom is uppdated\n",
    "mg = gwf.modelgrid"
   ]
  },
  {
   "cell_type": "markdown",
   "id": "5c391f75-6af4-4395-b49f-f41333da29e3",
   "metadata": {},
   "source": [
    "# What about DISU?\n",
    "\n",
    "As mentioned previously Gridgen was originally developed to create DISU type model grids for MODFLOW-USG. We can repeat everyhting we just did but use DISU instead."
   ]
  },
  {
   "cell_type": "code",
   "execution_count": null,
   "id": "5ece60bd-e66d-42f5-8c40-be08d1404f50",
   "metadata": {},
   "outputs": [],
   "source": [
    "# Create a dummy model and regular grid to use as the base grid for gridgen\n",
    "# You should be familiar with evrything used in this block of code\n",
    "sim_name = \"MySim\"\n",
    "model_name = \"flow\"\n",
    "\n",
    "sim = flopy.mf6.MFSimulation(sim_name=simulation_name, sim_ws=model_f, exe_name='mf6') # for a no frills mfsim.nam file\n",
    "tdis = flopy.mf6.ModflowTdis(sim) # for the MySim.tdis file, recall this sets a single steady-state stress period\n",
    "ims = flopy.mf6.ModflowIms(sim) # for the MySim.ims file, recall this sets up IMS as 'SIMPLE'\n",
    "gwf = flopy.mf6.ModflowGwf(sim, modelname=model_name, save_flows=True) # for the flow.nam file\n",
    "\n",
    "nlay = 3\n",
    "nrow = 34\n",
    "ncol = 44\n",
    "delr = delc = 1280.0 # Why do you think am I choosing this value? It has to do with quadtree refinement.\n",
    "botm = np.zeros((nlay, nrow, ncol))\n",
    "top = np.zeros((1, nrow, ncol)) # note the use of 1. Why?\n",
    "idom = np.ones((nlay, nrow, ncol))\n",
    "botm[0, :, :] = 270.0 # Setting the bottom for layer 1\n",
    "botm[1,:,:] = 200.0 # Setting the bottom for layer 2\n",
    "botm[2,:,:] = -170.0 # Setting the bottom for layer 3\n",
    "top[0,:,:] = 460.0 # Setting the top for layer 1\n",
    "\n",
    "# Note we start with a structured DIS grid despite aiming for a DISV grid.\n",
    "dis = flopy.mf6.ModflowGwfdis(\n",
    "    gwf,\n",
    "    nlay=nlay,\n",
    "    nrow=nrow,\n",
    "    ncol=ncol,\n",
    "    delr=delr,\n",
    "    delc=delc,\n",
    "    top=top,\n",
    "    botm=botm,\n",
    "    xorigin=729425, # new location\n",
    "    yorigin=947000, # new location\n",
    "    length_units='meters',\n",
    "    angrot=0,\n",
    "    idomain = idom\n",
    ")\n",
    "dis.export(os.path.join(gis_f,'disv.shp'))\n",
    "# check that the exported disv shapefile covers the polygon for the model boundary.\n",
    "\n",
    "# create a path to a folder where we will store gridgen files\n",
    "mg = gwf.modelgrid\n",
    "g = Gridgen(mg) # creating the gridgen object and passing in our structured dis object\n",
    "\n",
    "# Here we are just creating paths to the shape files\n",
    "# note that we don't use the .shp extension\n",
    "dam = os.path.join(gis_f,\"dam_buffer\")\n",
    "chanel = os.path.join(gis_f,\"my_channels\")\n",
    "tsf = os.path.join(gis_f,\"tsf_buffer\")\n",
    "wels = os.path.join(gis_f,\"Wells_buffered\")\n",
    "pit1500 = os.path.join(gis_f,\"pits_buffer_1500\")\n",
    "pit1000 = os.path.join(gis_f,\"pits_buffer_1000\")\n",
    "pit500 = os.path.join(gis_f,\"pits_buffer_500\")\n",
    "mod_bnd = os.path.join(gis_f,\"model_bounds\")\n",
    "act_dom = os.path.join(gis_f,\"model_bounds_poly\")\n",
    "\n",
    "# this section adds the shape files to be used as refinement features\n",
    "# We also add an active domain shap eat the end\n",
    "# note we have an increasing order of refinement as we add the features\n",
    "# what cell size does 5 levels of refinement produce if we start from 1280.0 m\n",
    "# Here some features are only being refined in layer 1\n",
    "# this will result in different numbers of nodes in subsequent layers\n",
    "\n",
    "g.add_refinement_features(mod_bnd, \"line\", 2, layers=[0,1,2]) # the model boundary, a line feature, refinement level 2, all layers\n",
    "g.add_refinement_features(chanel, \"line\", 3, layers=[0]) # the ephemeral channels, a line feature, refinement level 3, all layers\n",
    "g.add_refinement_features(wels, \"polygon\", 3, layers=[0,1,2]) # the well bore locations, a polygon feature, refinement level 3, all layers\n",
    "g.add_refinement_features(dam, \"polygon\", 3, layers=[0]) # the dewater dam, a polygon feature, refinement level 3, all layers\n",
    "g.add_refinement_features(tsf, \"polygon\", 3, layers=[0]) # the TSF, a polygon feature, refinement level 3, all layers\n",
    "g.add_refinement_features(pit1500, \"polygon\", 3, layers=[0,1,2]) # buffered area around the planned mine pits, a polygon feature, refinement level 3, all layers\n",
    "g.add_refinement_features(pit1000, \"polygon\", 4, layers=[0,1,2]) # buffered area around the planned mine pits, a polygon feature, refinement level 4, all layers\n",
    "g.add_refinement_features(pit500, \"polygon\", 5, layers=[0,1,2]) # buffered area around the planned mine pits, a polygon feature, refinement level 5, all layers\n",
    "g.add_active_domain(act_dom,layers=[0,1,2]) # add the active domain for all layers\n",
    "g.build() # build the grid\n"
   ]
  },
  {
   "cell_type": "code",
   "execution_count": null,
   "id": "101b4437-60aa-4da9-81a8-0625b41f806b",
   "metadata": {},
   "outputs": [],
   "source": [
    "# Where thinga are different\n",
    "# get the gridprops for a disu type grid\n",
    "gridprops_disu = g.get_gridprops_disu6() # there is also a disu5 method which is specific to MODFLOW-USG\n",
    "\n",
    "# Note if we wanted the properties for the modelgrid instead we would use g.get_gridprops_unstructuredgrid()\n",
    "# but in this case we are going for the discretization object"
   ]
  },
  {
   "cell_type": "code",
   "execution_count": null,
   "id": "0748e000-6eb1-48f9-bff7-67f88cbe2a5c",
   "metadata": {},
   "outputs": [],
   "source": [
    "del gwf\n",
    "gwf = flopy.mf6.ModflowGwf(sim, modelname=model_name, save_flows=True) # for the flow.nam file\n",
    "# Note use of mf6.ModflowGwfdisv, passing in the model object (gwf) and unpacking the grid properties dictionary\n",
    "disu = flopy.mf6.ModflowGwfdisu(gwf,length_units=\"METERS\", **gridprops_disu)\n",
    "# ignore the warning\n",
    "# Thats it now you have a DISU\n",
    "# rebuild our modelgrid\n",
    "mg = gwf.modelgrid # this way we don't need to get the grid properties from the Gridgen object"
   ]
  },
  {
   "cell_type": "markdown",
   "id": "950c41be-b47c-44fc-b054-5dcf957df80e",
   "metadata": {},
   "source": [
    "# Different nodes in different \"layers\"\n",
    "\n",
    "The concept of layers is completley absent in a DISU grid. However, our modelgrid still has some \"layer\" information in it via a property called ncpl. NCPL (or number of cells per layer) is implemented in DISV (and in MF-USG DISU). This means you can still pass a \"layer\" to the Mapview object."
   ]
  },
  {
   "cell_type": "code",
   "execution_count": null,
   "id": "9209b2cc-e464-4331-b1f6-55a1b2eee249",
   "metadata": {},
   "outputs": [],
   "source": [
    "# lets look at the ncpl for our current model grid\n",
    "mg.ncpl"
   ]
  },
  {
   "cell_type": "code",
   "execution_count": null,
   "id": "1ac0e26c-712e-4b93-a0cc-60d7cd729cd2",
   "metadata": {},
   "outputs": [],
   "source": [
    "# Note the disu object has no ncpl and the top and borrom arrays are 1D\n",
    "disu"
   ]
  },
  {
   "cell_type": "code",
   "execution_count": null,
   "id": "de9c5fc5-9f7f-4c0a-9a49-f890ae19dae1",
   "metadata": {},
   "outputs": [],
   "source": [
    "# Using Matplotlib subplots to create a mutiple axes figure\n",
    "fig, axs = plt.subplots(nrows = 1, # I want one row\n",
    "                        ncols = 3, # I want three columns\n",
    "                        sharey=True, # they can share the Y-axis to save space\n",
    "                        subplot_kw={'aspect':'equal'}, # Each sub_plot must have aspect = equal to keep x and y ratios consistent\n",
    "                        figsize=(20, 5)) # setting figure size Note had to increase the x dimension here\n",
    "\n",
    "for i,ax in enumerate(axs):\n",
    "    pmv = flopy.plot.PlotMapView(modelgrid=mg, layer = i, ax=ax) #creating a mapview object assigning a specific layer and specifying the axes\n",
    "    pmv.plot_grid(ax=ax, lw=0.3, color=\"black\") # plot the grid on the axes using linewidths = 0.3 and black lines\n",
    "    ax.set_title(f'Model grid Layer {i+1}') \n",
    "    ax.set_xlabel('Eastings')\n",
    "    ax.set_ylabel('Northings')\n",
    "    ax.ticklabel_format(style='plain') #  gets rid of the exponent offsets on the axis\n",
    "plt.tight_layout() # reduces the whitespace around the figure so it takes up less space in a document\n",
    "\n",
    "figname = os.path.join(plots_f,'model_grid_disu.png') # note use of the plots folder path.\n",
    "# If you want to change the file format then change the extension from .png to pdf or just do both\n",
    "fig.savefig(figname,dpi=300)\n",
    "figname = os.path.join(plots_f,'model_grid_disu.pdf')\n",
    "fig.savefig(figname,dpi=300) "
   ]
  },
  {
   "cell_type": "code",
   "execution_count": null,
   "id": "f24676c5-a8a8-4478-b060-38fcf6a92632",
   "metadata": {},
   "outputs": [],
   "source": [
    "# Tidy up again\n",
    "# We clear the existing directory first\n",
    "if os.path.exists(grid_path): # here we are asking if the path exists on the computer. \n",
    "    shutil.rmtree(grid_path)# if it does exist, delete it and all the files in it plus any subdirectories\n",
    "    os.mkdir(grid_path) # then remake it\n",
    "else:\n",
    "    os.mkdir(grid_path) # if it doesn't exist then make the folder\n",
    "flist = [] # start with an empty list\n",
    "for pref in ['qtg', 'quadtree', '_gridgen',]: # kick off a for loop with a list of file prefixes\n",
    "    temp_list = [x for x in os.listdir() if x.startswith(pref)] # make a temporary list of the files that start with this loops prefix\n",
    "    flist = [*flist,*temp_list] # unpack the existing list of files and the temporary list of files into the file list\n",
    "# No need to check now because we did previously\n",
    "for file in flist:\n",
    "    shutil.move(file,grid_path) # note use of move as opposed to copyfile which we used earlier. "
   ]
  },
  {
   "cell_type": "markdown",
   "id": "c057f973-3a90-4012-990b-aa9aef8f51d1",
   "metadata": {},
   "source": [
    "# Layer elevations DISU vs DISV\n",
    "How array type information is stored differs between DISU and DISV. This means we need to do something different when it comes to assigning layer elevations. However, we can exploit the modelgrid objects ncpl to help us out."
   ]
  },
  {
   "cell_type": "code",
   "execution_count": null,
   "id": "b171b185-c225-4bcd-9a65-e06862ac733b",
   "metadata": {},
   "outputs": [],
   "source": [
    "# look at the disu object. Note how the top and bottom arrays are 1D (or list-like). \n",
    "# This is beacuse the concept of layers does not exist in MF6 DISU, they do in MF-USG DISU\n",
    "np.shape(disu.top.data)"
   ]
  },
  {
   "cell_type": "code",
   "execution_count": null,
   "id": "2365af21-11c1-4668-bce5-6a2dd217dced",
   "metadata": {},
   "outputs": [],
   "source": [
    "# Here is where we sample the raster to the modelgrid \n",
    "top_data = rio1.resample_to_grid(   #using the resample_to_grid method\n",
    "    mg, band=rio1.bands[0], # stipulating the first band in the raster file to be used as the data for sampling\n",
    "    method=\"nearest\" # setting an interpolation method because it is highly unlikley that your model grid nodes will align with the raster data points \n",
    ")\n",
    "print(f'top_data shape is {np.shape(top_data)}') # note this array is the same size as all of the nodes in the model because we can't specify a layer.\n",
    "# BUT these elevation will be assigned to all nodes irrespective of layer, so we can'just assign top_data to the disu object.\n",
    "print(f'disu.top.data shape is {np.shape(disu.top.data)}')"
   ]
  },
  {
   "cell_type": "code",
   "execution_count": null,
   "id": "0248253d-c7f2-4b09-b6a3-fff4198128e4",
   "metadata": {},
   "outputs": [],
   "source": [
    "print(disu.top.data)\n",
    "# We can slice according to layers in the ncpl\n",
    "disu.top[0:mg.ncpl[0]] = top_data[0:mg.ncpl[0]] # Note the slices are the same on both sides of the assignment because the array sizes are the same\n",
    "# note also we are changing the disu object directly with the data we just sampled but only a slice of it.\n",
    "# WARNING if you try the same thing using disu.top.data it won't change anything. "
   ]
  },
  {
   "cell_type": "markdown",
   "id": "3ac0660a-8b33-4af7-907f-73d83c6d48d0",
   "metadata": {},
   "source": [
    "That should cover most of what you might want to do with all the different grid types. There are other mesh creation tools like Triangle that have also been included in Flopy. The popular mesh generation utility AlgoMesh is based on Triangle and is a very good piece of software that creates highly optimised model grids but it also requires a license. It works similar to Gridgen but is able to do a whole lot more so well worth checking out if you get the chance. "
   ]
  },
  {
   "cell_type": "markdown",
   "id": "bcff4519-d168-41f4-b781-ebbbc0d5a6a2",
   "metadata": {},
   "source": [
    "# Cross-Section type model grids\n",
    "\n",
    "A cross-section model grid follows the same approach as what you would do for a single layer 2D model. The only difference is that the number of rows becomes one and the number of layers will be whatever you want your vertical resolution to be. Plotting is a little bit different however because it requires the use of Flopy's PlotCrossSection method. The example below steps through creation of a strcutured grid as cross section. Note use of cross-sectional models should ensure that the grid is aligned with the dominant flow path. This means that you will most likely have to rotate the grid.\n",
    "\n",
    "Use of idomain and assigning tops and bottoms follows the same methods demonstrated previously."
   ]
  },
  {
   "cell_type": "code",
   "execution_count": null,
   "id": "e8590e9a-f680-4f1b-adef-09cea1b81482",
   "metadata": {},
   "outputs": [],
   "source": [
    "# Setup a new sim\n",
    "simulation_name = 'MySim' # setting a name for our simulation\n",
    "sim = flopy.mf6.MFSimulation(sim_name=simulation_name, sim_ws=model_f, exe_name='mf6') # for a no frills mfsim.nam file\n",
    "tdis = flopy.mf6.ModflowTdis(sim) # for the MySim.tdis file, recall this sets a single steady-state stress period\n",
    "ims = flopy.mf6.ModflowIms(sim) # for the MySim.ims file, recall this sets up IMS as 'SIMPLE'\n",
    "model_name = 'flow' # setting a name for our model\n",
    "gwf = flopy.mf6.ModflowGwf(sim, modelname=model_name, save_flows=True) # for the flow.nam file"
   ]
  },
  {
   "cell_type": "code",
   "execution_count": null,
   "id": "9ee7d332-d667-425f-afca-c305c60862fa",
   "metadata": {},
   "outputs": [],
   "source": [
    "nlay = 20 # more layers \n",
    "nrow = 1 # one row\n",
    "ncol = 124\n",
    "delc = 1.0 # one meter thickness for our single row\n",
    "delr = 20.0\n",
    "top = 279.0\n",
    "\n",
    "# here I am asking for an array that will have the first value at 270 and the final value at 100\n",
    "# but divided into the same number of layers that I want in my cross section\n",
    "botm = np.linspace(270.,100.,nlay) \n",
    "x = 686825.7084327207412571\n",
    "y = 7440206.9828847106546164\n",
    "angrot = 15 # rotating to align with dominant flow direction\n",
    "dis = flopy.mf6.ModflowGwfdis(gwf,nlay=nlay,nrow=nrow,ncol=ncol,\n",
    "                              delr=delr,delc=delc,top=top,\n",
    "                              botm=botm, xorigin=x, yorigin=y,\n",
    "                              angrot=angrot) # creating the dis object"
   ]
  },
  {
   "cell_type": "code",
   "execution_count": null,
   "id": "3c7844df-63b6-4600-af72-ee3253356c9c",
   "metadata": {},
   "outputs": [],
   "source": [
    "# Lets take a quick look at the dis object\n",
    "dis"
   ]
  },
  {
   "cell_type": "code",
   "execution_count": null,
   "id": "af7a5aa1-98eb-48fa-b550-8e3a26554800",
   "metadata": {},
   "outputs": [],
   "source": [
    "# Now to plot the grid in cross-section \n",
    "# note the PlotCrossSection object is analogous to the Mapview object we used previously.\n",
    "fig = plt.figure(figsize=(10,3))\n",
    "fig.tight_layout()\n",
    "ax = fig.add_subplot(1, 1, 1, aspect=\"equal\")\n",
    "pxs = flopy.plot.PlotCrossSection(model=gwf, ax=ax, line={\"row\": 0}) # this will always be line={\"row\": 0} for a cross section model\n",
    "pxs.plot_grid()\n",
    "ax.set_xlabel(\"x position (m)\")\n",
    "ax.set_ylabel(\"z position (m)\")"
   ]
  },
  {
   "cell_type": "markdown",
   "id": "8df65f6c-3b9a-4850-8465-22b837abc9cc",
   "metadata": {},
   "source": [
    "# Thats all folks\n",
    "\n",
    "Next session will be on boundary conditions but will exclude array style boundaries like recharge and ET. We will introduce stress package observations and time the time series functionality which are both very handy features that are new to MODFLOW."
   ]
  },
  {
   "cell_type": "code",
   "execution_count": null,
   "id": "286d2357-3811-4694-9e2b-739c4e023cf5",
   "metadata": {},
   "outputs": [],
   "source": []
  }
 ],
 "metadata": {
  "kernelspec": {
   "display_name": "Python 3 (ipykernel)",
   "language": "python",
   "name": "python3"
  },
  "language_info": {
   "codemirror_mode": {
    "name": "ipython",
    "version": 3
   },
   "file_extension": ".py",
   "mimetype": "text/x-python",
   "name": "python",
   "nbconvert_exporter": "python",
   "pygments_lexer": "ipython3",
   "version": "3.10.12"
  }
 },
 "nbformat": 4,
 "nbformat_minor": 5
}
