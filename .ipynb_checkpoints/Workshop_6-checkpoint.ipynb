{
 "cells": [
  {
   "cell_type": "markdown",
   "id": "1343339a-a845-4b32-b903-9010f915aeef",
   "metadata": {},
   "source": [
    "# Solute transport and variable-density modelling\r\n",
    "Hi and welcome to workshop six. Fitting all the possible things you can do with solute transport in MF6 in a single session is impossible so we will cover the most commonly applied packages and how to set them up. There is nothing new with regards to how to configure the input data for each package so we will also reference the mf6io.pdf continuously through out the session. This should aid your understanding by filling in the gaps with what won't be demonstrated in here. We will start with the same workshop setup we have been using in each workshop thus far. Then we will construct the Henry Problem, which is a benchmark variable-density problem in groundwater modelling. This will serve as our demonstration model for the complete workshop.\r\n"
   ]
  },
  {
   "cell_type": "code",
   "execution_count": null,
   "id": "d71c303b-563a-4ed5-9e27-5d489c6752e7",
   "metadata": {},
   "outputs": [],
   "source": [
    "import os\n",
    "import sys\n",
    "import shutil\n",
    "import platform\n",
    "import pandas as pd\n",
    "import numpy as np\n",
    "import matplotlib\n",
    "import matplotlib.pyplot as plt\n",
    "import flopy\n",
    "\n",
    "print(f\"Pandas version = {pd.__version__}\")\n",
    "print(f\"Numpy version = {np.__version__}\")\n",
    "print(f\"Flopy version = {flopy.__version__}\")\n",
    "print(f\"Matplotlib version = {matplotlib.__version__}\")"
   ]
  },
  {
   "cell_type": "code",
   "execution_count": null,
   "id": "5d837f4e-5438-481d-bcf2-ae734ed3391e",
   "metadata": {},
   "outputs": [],
   "source": [
    "ws6 = os.path.join('workshop_6') # here we are making a path not creating the folder\n",
    "gis_f = os.path.join(ws6,'GIS') # creating a sub-directory path for our gis input/output\n",
    "model_f = os.path.join(ws6,'model') # creating a sub-directory path for our model input/output\n",
    "plots_f = os.path.join(ws6,'plots') # creating a sub-directory path for our plots\n",
    "for path in [ws6,gis_f,model_f,plots_f]:\n",
    "    if os.path.exists(path): # here we are asking if the path exists on the computer. \n",
    "        shutil.rmtree(path)# if it does exist, delete it and all the files in it\n",
    "        os.mkdir(path) # then remake it\n",
    "    else:\n",
    "        os.mkdir(path) # if it doesn't exist then make the folder"
   ]
  },
  {
   "cell_type": "markdown",
   "id": "f49d2166-9807-4112-a466-9abe03f49432",
   "metadata": {},
   "source": [
    "# The Henry Problem\n",
    "The Henry Problem is a benchmark problem for variable-density modelling codes. It is often the first type of variable-density model that anyone venturing into that space will do. The model itself is relativley simple. A 2D cross-sectional model of a confined aquifer with a constant seaward flux of freshwater from land as the boundary condition on one side of the model and a hydrostatic boundary condition representing the coast on the the other side. Seawater concentrations are assigned to the coastal boundary, which is usually represented as a third-type boundary condition for solutes. This means that flux into the model will be assigned seawater concentrations while flux out of the model will be whatever is calculated by the model."
   ]
  },
  {
   "cell_type": "code",
   "execution_count": null,
   "id": "cbd2a163-ac2b-4e82-b77b-96175bcac7c2",
   "metadata": {},
   "outputs": [],
   "source": [
    "# setup a simulation\n",
    "simulation_name = 'MySim' # setting a name for our simulation\n",
    "sim = flopy.mf6.MFSimulation(sim_name=simulation_name, sim_ws=model_f, exe_name='mf6') # for a no frills mfsim.nam file\n",
    "\n",
    "# setup a tdis\n",
    "pdata = [(0.5,500,1.0)] # one stress period with 500 time steps\n",
    "tdis = flopy.mf6.ModflowTdis(sim,\n",
    "                             time_units=\"seconds\",\n",
    "                             nper=len(pdata),\n",
    "                             perioddata=pdata) # for the MySim.tdis file, recall this sets a single steady-state stress period"
   ]
  },
  {
   "cell_type": "code",
   "execution_count": null,
   "id": "a6f3a159-f669-485c-881a-be48c0d89940",
   "metadata": {},
   "outputs": [],
   "source": [
    "# setup a flow model\n",
    "model_name = 'flow' # setting a name for our model\n",
    "gwf = flopy.mf6.ModflowGwf(sim, modelname=model_name, save_flows=True) # for the flow.nam file"
   ]
  },
  {
   "cell_type": "markdown",
   "id": "260efe27-a933-457c-903a-11c59c6cb4c0",
   "metadata": {},
   "source": [
    "# Multiple IMS instances\r\n",
    "The use of a flow-transport combined model requires multiple IMS instance.sThey are  still assigned to the same simulatio,n but registered to different models. The first IMS instance will be automatically registered to the flow model. When we create the transport modelthe IMS object for that model  will needa seperate instance/objectr bu it will be registered to thee transport model specificall.yPlease note that wWhat is used in the following code block is very similar to the \"SIMPLE\" configuration of solver setting except for some tweaks to the iteration numbers and the convergence criteria.\r\n"
   ]
  },
  {
   "cell_type": "code",
   "execution_count": null,
   "id": "7ba402e4-669d-45bb-adb6-194f2a2e9718",
   "metadata": {},
   "outputs": [],
   "source": [
    "ims = flopy.mf6.ModflowIms(sim,\n",
    "                           filename=f\"{model_name}.ims\", # note specifying filename to align with model not default which aligns with simulation\n",
    "                           print_option=\"ALL\",\n",
    "                           outer_dvclose=1e-10,\n",
    "                           outer_maximum=100,\n",
    "                           inner_maximum=300,\n",
    "                           inner_dvclose=1e-10,\n",
    "                           rcloserecord=1e-6,\n",
    "                           linear_acceleration=\"BICGSTAB\", # note the other option here is the \"CG\" for conjugate gradient\n",
    "                           relaxation_factor=0.97) # used by LU preconditioner - can help convergence # for the MySim.ims file, recall this sets up IMS as 'SIMPLE'"
   ]
  },
  {
   "cell_type": "markdown",
   "id": "2ca6fb40-cc4b-4d51-b4ec-c506e55bdf49",
   "metadata": {},
   "source": [
    "# Grid, properties, initial conditions and output control"
   ]
  },
  {
   "cell_type": "code",
   "execution_count": null,
   "id": "04895267-2e0d-4ae0-8a4e-420a57aab50f",
   "metadata": {},
   "outputs": [],
   "source": [
    "\n",
    "# A cross sectional model so only one row\n",
    "nlay = 40  # Number of layers\n",
    "nrow = 1  # Number of rows\n",
    "ncol = 80  # Number of columns\n",
    "system_length = 2.0  # Length of system ($m$)\n",
    "delr = 0.025  # Column width ($m$)\n",
    "delc = 1.0  # Row width ($m$)\n",
    "delv = 0.025  # Layer thickness\n",
    "top = 1.0  # Top of the model ($m$)\n",
    "botm = [top - k * delv for k in range(1, nlay + 1)] # list comprehension to get bottom elevations ($m$)\n",
    "\n",
    "dis = flopy.mf6.ModflowGwfdis(gwf,\n",
    "                        length_units=\"cm\",\n",
    "                        nlay=nlay,\n",
    "                        nrow=nrow,\n",
    "                        ncol=ncol,\n",
    "                        delr=delr,\n",
    "                        delc=delc,\n",
    "                        top=top,\n",
    "                        botm=botm)\n",
    "\n",
    "npf = flopy.mf6.ModflowGwfnpf(gwf,\n",
    "                        save_specific_discharge=True, # saves x,y,z components of flow so that you can plot flow vectors\n",
    "                        icelltype=0, # confined system\n",
    "                        k=864.0) # Hydraulic conductivity ($m d^{-1}$)\n",
    "\n",
    "ic = flopy.mf6.ModflowGwfic(gwf, strt=1.0) # the actual example has this as the concentartion\n",
    "\n",
    "oc = flopy.mf6.ModflowGwfoc(gwf,\n",
    "                       head_filerecord=f\"{model_name}.hds\",\n",
    "                       budget_filerecord=f\"{model_name}.cbb\",\n",
    "                       saverecord=[(\"HEAD\", \"ALL\"), (\"BUDGET\", \"ALL\")],\n",
    "                       budgetcsv_filerecord='myflowbudget.csv') # adding a budget csv output file for post-processing\n",
    "\n",
    "# get a modelgrid object and plot the grid\n",
    "mg = gwf.modelgrid\n",
    "fig = plt.figure(figsize=(7,3)) # we are creating a figure object here so that we can dictate size\n",
    "ax = fig.add_subplot(1, 1, 1, aspect=\"equal\") # making sure our proportions are kept intact\n",
    "pxs = flopy.plot.PlotCrossSection(model=gwf, ax=ax, line={\"row\": 0})\n",
    "pxs.plot_grid()\n",
    "ax.set_title('DIS Model Grid')\n",
    "ax.set_xlabel('Length')\n",
    "ax.set_ylabel('Height')\n",
    "plt.tight_layout()\n",
    "# lets save it to our plots folder\n",
    "figname = os.path.join(plots_f,'DIS_model_grid.png') # note use of the plots folder path.\n",
    "# If you want to change the file format then change the extension from .png to pdf or just do both\n",
    "fig.savefig(figname,dpi=300)\n",
    "figname = os.path.join(plots_f,'DIS_model_grid.pdf')\n",
    "fig.savefig(figname,dpi=300) "
   ]
  },
  {
   "cell_type": "markdown",
   "id": "ca2fd0bf-a4f1-4ad7-81a9-5bfe94802199",
   "metadata": {},
   "source": [
    "# What? A transient model with no storage.\n",
    "The Henry problem is a steady-state problem; however, you don't arrive at the solution directly but instead creep up on the correct solute distribution and flow field via transient simulation. There will be no change to the flux from the perimeter boundaries and no internal stresses but we cannot run a steady-state flow field because the solutes will affect the density and the density will affect the flow field which will then effect the solutes. Given sufficient iterations and a bit of time the model will achieve a steady-state flow and solute solution characterised by no change in fluid or solute storage with time."
   ]
  },
  {
   "cell_type": "markdown",
   "id": "8d9c7a6d-2775-4472-b079-55020a2bb339",
   "metadata": {},
   "source": [
    "# Setting the ocean boundary\r\n",
    "This is where things will start to change a bit from what we did previously with flow only models. The setup of these boundary conditions represents one of the ways you can setup concentrations in MF6, which is via the auxiliary variables for the stress packages. Here we will use a general head boundary to represent a hydrostatic ocean with a salinity of 35.0 mg/l or 35 kg / 1000 L\r\n"
   ]
  },
  {
   "cell_type": "code",
   "execution_count": null,
   "id": "0bc6c2ff-b4ec-483c-8f03-9b340065a284",
   "metadata": {},
   "outputs": [],
   "source": [
    "ghbcond = 864.0 * delv * delc / (0.5 * delr) # KA/(L*0.5) # why not KA/L\n",
    "ghbspd = [[(k, 0, ncol - 1), top, ghbcond, 35.0] for k in range(nlay)] # 35.0 is an auxiliary variable - care to guess why we use 35.0\n",
    "# so wich side of the model is the ocean?\n",
    "ghb = flopy.mf6.ModflowGwfghb(gwf,\n",
    "                        stress_period_data=ghbspd,\n",
    "                        pname=\"GHB\",               # note the package names are needed later for the transport model linkage\n",
    "                        auxiliary=\"CONCENTRATION\") # note the use of an auxiliary variable for the SSM package - the name can be anything but we will need to use it later"
   ]
  },
  {
   "cell_type": "markdown",
   "id": "16507116-000f-4432-86ee-4a4882424513",
   "metadata": {},
   "source": [
    "# Setting discharge to the ocean\n",
    "The flux from the land to the ocean will be fresh and accordingly be assigned a concentration of zero."
   ]
  },
  {
   "cell_type": "code",
   "execution_count": null,
   "id": "421dbef9-92c5-40c1-96ea-998b004b4dd1",
   "metadata": {},
   "outputs": [],
   "source": [
    "inflow =5.7024\n",
    "# inflow = 2.851\n",
    "\n",
    "welspd = [[(k, 0, 0), inflow / nlay, 0.0] for k in range(nlay)]\n",
    "wel = flopy.mf6.ModflowGwfwel(gwf,\n",
    "                        stress_period_data=welspd,\n",
    "                              pname=\"WEL\",         # note the package names are needed later for the transport model linkage\n",
    "                        auxiliary=\"CONCENTRATION\") # note we use the same name here indicating that the auxiliary variable referes to the same species\n",
    "# what do you think would happen if we used a different variable name? Will flopy still build the package? Will the model still run?"
   ]
  },
  {
   "cell_type": "markdown",
   "id": "e5556bff-34dd-4537-b088-f685bc918451",
   "metadata": {},
   "source": [
    "# Take a look"
   ]
  },
  {
   "cell_type": "code",
   "execution_count": null,
   "id": "39909a37-7699-4a38-a259-eddafdb2d537",
   "metadata": {},
   "outputs": [],
   "source": [
    "# get a modelgrid object and plot the grid\n",
    "mg = gwf.modelgrid\n",
    "fig = plt.figure(figsize=(7,3)) # we are creating a figure object here so that we can dictate size\n",
    "ax = fig.add_subplot(1, 1, 1, aspect=\"equal\") # making sure our proportions are kept intact\n",
    "pxs = flopy.plot.PlotCrossSection(model=gwf, ax=ax, line={\"row\": 0})\n",
    "pxs.plot_grid()\n",
    "pxs.plot_bc(package=wel, color='blue')\n",
    "pxs.plot_bc(package=ghb, color='red')\n",
    "ax.set_title('Model Bounadries')\n",
    "ax.set_xlabel('Length')\n",
    "ax.set_ylabel('Height')\n",
    "plt.tight_layout()\n",
    "# lets save it to our plots folder\n",
    "figname = os.path.join(plots_f,'Model_flow_bounds.png') # note use of the plots folder path.\n",
    "# If you want to change the file format then change the extension from .png to pdf or just do both\n",
    "fig.savefig(figname,dpi=300)\n",
    "figname = os.path.join(plots_f,'Model_flow_bounds.pdf')\n",
    "fig.savefig(figname,dpi=300) "
   ]
  },
  {
   "cell_type": "code",
   "execution_count": null,
   "id": "575c83c6-1279-4ce9-88ef-39dbd9688a59",
   "metadata": {},
   "outputs": [],
   "source": [
    "sim.write_simulation()"
   ]
  },
  {
   "cell_type": "code",
   "execution_count": null,
   "id": "f39a0b59-fdb4-4008-90b2-5efc43294ad0",
   "metadata": {},
   "outputs": [],
   "source": [
    "sim.run_simulation()\n",
    "# have we simulated any transport?"
   ]
  },
  {
   "cell_type": "markdown",
   "id": "b0f7430b-49ec-4558-8f8f-8eb4bdefb5fd",
   "metadata": {},
   "source": [
    "# Checking the flow only simulation"
   ]
  },
  {
   "cell_type": "code",
   "execution_count": null,
   "id": "0a0f7ef8-4e48-4d4f-bc05-b3398be5b5bb",
   "metadata": {},
   "outputs": [],
   "source": [
    "# get the heads \n",
    "# load the heads file\n",
    "headfile = os.path.join(model_f,\"flow.hds\")\n",
    "hds = flopy.utils.binaryfile.HeadFile(headfile)\n",
    "\n",
    "last_step = hds.get_kstpkper()[-1] # how \n",
    "\n",
    "h = hds.get_data(last_step)\n",
    "# get the heads from the final step of the final stress period\n",
    "# get our contour levels using linspace\n",
    "levels = np.linspace(np.min(h),np.max(h),20) # we are setting 20 contours across the compete range of heads in the hds array forthe final step\n",
    "\n",
    "# same as before\n",
    "mg = gwf.modelgrid\n",
    "fig = plt.figure(figsize=(7,3)) # we are creating a figure object here so that we can dictate size\n",
    "ax = fig.add_subplot(1, 1, 1, aspect=\"equal\") # making sure our proportions are kept intact\n",
    "pxs = flopy.plot.PlotCrossSection(model=gwf, ax=ax, line={\"row\": 0})\n",
    "fa = pxs.plot_array(h) \n",
    "colorbar = plt.colorbar(fa, aspect=30, shrink= 0.8) # create a colorbar\n",
    "fc = pxs.contour_array(h,\n",
    "                       levels=levels,\n",
    "                       colors=\"w\",\n",
    "                       linewidths=1.0, \n",
    "                       linestyles=\"-\")\n",
    "plt.clabel(fc, fmt=\"%4.3f\", fontsize=7)\n",
    "ax.set_title('Heads flow only')\n",
    "ax.set_xlabel('Length')\n",
    "ax.set_ylabel('Height')\n",
    "plt.tight_layout()\n",
    "# lets save it to our plots folder\n",
    "figname = os.path.join(plots_f,'Henry_heads_flow_only.png') # note use of the plots folder path.\n",
    "# If you want to change the file format then change the extension from .png to pdf or just do both\n",
    "fig.savefig(figname,dpi=300)\n",
    "figname = os.path.join(plots_f,'Henry_heads_flow_only.pdf')\n",
    "fig.savefig(figname,dpi=300) "
   ]
  },
  {
   "cell_type": "markdown",
   "id": "f72b605f-af93-40ff-8a47-bd5437f912b0",
   "metadata": {},
   "source": [
    "# Water balance\n",
    "This time around we will use the budgetcsv output record that was demonstrated at the end of the workshop 5. Note that we asked for thsi to be saved via the OC package. "
   ]
  },
  {
   "cell_type": "code",
   "execution_count": null,
   "id": "4740179f-1903-4fab-9514-8559da8b560c",
   "metadata": {},
   "outputs": [],
   "source": [
    "budcsv = gwf.output.budgetcsv() # accessing the budgetcsv object\n",
    "nams = budcsv.data.dtype.names # get the names\n",
    "in_nams = [x for x in nams if \"_IN\" in x] # get all the in names\n",
    "prefs = [x.rstrip(\"_IN\") for x in in_nams] # get the prefixes for all the in names\n",
    "out_nams = [x+\"_OUT\" for x in prefs] # get the out names by building them from the prefix names \n",
    "# Note the approach above ensures the order of the prefix, in and out remaine aligned which is needed for the next step.\n",
    "_ = {key:budcsv.data[i]-budcsv.data[o] for key,i,o in zip(prefs,in_nams,out_nams)} # a dictionary comprehension \n",
    "bal_df = pd.DataFrame.from_dict(_) # convert to a pandas dataframe for easy plots\n",
    "# now plot a specific stress period using Pandas dataframe plot methods\n",
    "fig = plt.figure(figsize=(3, 3))\n",
    "ax = fig.add_subplot(1, 1, 1)\n",
    "bal_df.iloc[-1, :].plot(kind=\"bar\", grid=True,ax=ax) # note using stress period number here instead of date\n",
    "plt.ylabel(\"$ML/d$\") # use LaTex style math formatting \n",
    "plt.title(\"Water Balance\")\n",
    "plt.tight_layout()"
   ]
  },
  {
   "cell_type": "markdown",
   "id": "ad3ed80f-c35f-42ab-b880-f5762cb38a2c",
   "metadata": {},
   "source": [
    "# Starting to construct the transport model\r\n",
    "One thing that will become obvious is that the flow and transport models share a lot of the same setup, with transport variants of the same packages. This includes the model object, ims object, and the tdis object.\r\n"
   ]
  },
  {
   "cell_type": "code",
   "execution_count": null,
   "id": "a6f69d0a-f8e2-44cd-9f46-956e7c520c1c",
   "metadata": {},
   "outputs": [],
   "source": [
    "# virtually identical to the flow model object and includes the same option settings \n",
    "# EXCEPT for the object name and class (ModflowGwt)\n",
    "model_name2 = \"trans\"\n",
    "gwt = flopy.mf6.ModflowGwt(sim, modelname=model_name2) # note we pass in the same sim object"
   ]
  },
  {
   "cell_type": "code",
   "execution_count": null,
   "id": "a5ea232f-d5d6-4024-8993-e15a6354f94f",
   "metadata": {},
   "outputs": [],
   "source": [
    "# what does sime look like now\n",
    "sim"
   ]
  },
  {
   "cell_type": "code",
   "execution_count": null,
   "id": "3d0a2439-aceb-475b-8291-2b9c1b51a789",
   "metadata": {},
   "outputs": [],
   "source": [
    "# Same for the IMS no change needed here \n",
    "# EXCEPT for the object name, note class the same here\n",
    "imsgwt = flopy.mf6.ModflowIms(sim,\n",
    "                           filename=f\"{model_name2}.ims\",\n",
    "                           print_option=\"ALL\",\n",
    "                           outer_dvclose=1e-10,\n",
    "                           outer_maximum=100,\n",
    "                           inner_maximum=300,\n",
    "                           inner_dvclose=1e-10,\n",
    "                           rcloserecord=1e-6,\n",
    "                           linear_acceleration=\"BICGSTAB\", # note the other option here is the \"CG\" for conjugate gradient\n",
    "                           relaxation_factor=0.97) # used by LU preconditioner - can help convergence # for the MySim.ims file, recall this sets up IMS as 'SIMPLE'\n",
    "\n",
    "# register register ims package package to the transport model\n",
    "sim.register_ims_package(imsgwt, [gwt.name])"
   ]
  },
  {
   "cell_type": "code",
   "execution_count": null,
   "id": "73025fb7-1b45-448f-b9b3-07ea0a796f7d",
   "metadata": {},
   "outputs": [],
   "source": [
    "# virtually identical to the flow model object and includes the same option settings \n",
    "# EXCEPT for the object name and class (ModflowGwtdis)\n",
    "# note also that we pass in the # pass in the transport model\n",
    "tdist = flopy.mf6.ModflowGwtdis(\n",
    "        gwt,                        \n",
    "        length_units=\"cm\",\n",
    "        nlay=nlay,\n",
    "        nrow=nrow,\n",
    "        ncol=ncol,\n",
    "        delr=delr,\n",
    "        delc=delc,\n",
    "        top=top,\n",
    "        botm=botm)"
   ]
  },
  {
   "cell_type": "markdown",
   "id": "adbb7934-ef36-4008-a2c5-f8c70aa4444c",
   "metadata": {},
   "source": [
    "# Mobile storage and mass transfer (porosity, sorption and decay)\n",
    "All transport models require porosity information so you will always have the is package in your transport model."
   ]
  },
  {
   "cell_type": "code",
   "execution_count": null,
   "id": "1cb2d7bd-21f7-4098-80da-e9282fc3e1e3",
   "metadata": {},
   "outputs": [],
   "source": [
    "# depending on the model this can have way more settings but they are all either string, boolean or float(array).\n",
    "# Check the mf6io.pdf document for the format of this pacakge - only one of these packages can be specified per transport model - but how many transport models can we have? \n",
    "por = flopy.mf6.ModflowGwtmst(gwt, \n",
    "                              porosity=0.35) #  we could also have passed in an array"
   ]
  },
  {
   "cell_type": "markdown",
   "id": "0984be9b-a9f5-4bb7-967b-a4b58c8c7ca4",
   "metadata": {},
   "source": [
    "# Initial concentrations"
   ]
  },
  {
   "cell_type": "code",
   "execution_count": null,
   "id": "e3b39453-c68f-4d38-900c-1b34c489b84b",
   "metadata": {},
   "outputs": [],
   "source": [
    "# inital concentrations\n",
    "ict = flopy.mf6.ModflowGwtic(gwt, \n",
    "                             strt=35.0) # means we start with an aquifer full of seawater -  we could also have passed in an array"
   ]
  },
  {
   "cell_type": "markdown",
   "id": "f3951810-a7c5-4c2b-a0ac-58c870001a79",
   "metadata": {},
   "source": [
    "# Advection"
   ]
  },
  {
   "cell_type": "code",
   "execution_count": null,
   "id": "366ee571-ced4-4841-acdc-65d53971a61e",
   "metadata": {},
   "outputs": [],
   "source": [
    "# the mumerical scheme used to calculate advective transport\n",
    "# check what the other options are.\n",
    "#We will discuss this package in more detail using the MF6io.pdf document.\n",
    "adv = flopy.mf6.ModflowGwtadv(gwt, \n",
    "                              scheme=\"UPSTREAM\")"
   ]
  },
  {
   "cell_type": "markdown",
   "id": "06202fb3-e463-45cc-a3df-94d59324feef",
   "metadata": {},
   "source": [
    "# Dispersion and diffusion\n",
    "We will discuss this package in more detail using the MF6io.pdf document."
   ]
  },
  {
   "cell_type": "code",
   "execution_count": null,
   "id": "ecf47dc1-bfc5-4d34-ac21-cec97e522e1c",
   "metadata": {},
   "outputs": [],
   "source": [
    "# Note the Henry problem does not use dispersion, which would add lots more input\n",
    "# Check the mf6io.pdf document for the format of this pacakge\n",
    "dsp = flopy.mf6.ModflowGwtdsp(gwt, \n",
    "                              diffc=0.57024) # value specific to the Henry Problem"
   ]
  },
  {
   "cell_type": "markdown",
   "id": "f31766f4-8cde-474c-b3fa-aad10f2ba290",
   "metadata": {},
   "source": [
    "# Sink Source Mixing \n",
    "This is where the link between the flow models auxiliary variables and the transport model happens. Note this is specific to this type of bounday condition wherein a concentration is assigned to a flux entering the model and the the model will calculate the concentrations exiting he model. This is sometimes referred to as a \"third type\" soulte boundary. Does it account for dispersive and diffusive flux out of the model? To establish the link with the auxiliary variables in the flow model you have to provide the package and auxilairy variable information. "
   ]
  },
  {
   "cell_type": "code",
   "execution_count": null,
   "id": "2c460be2-ba70-433d-8de5-09f9fac8c000",
   "metadata": {},
   "outputs": [],
   "source": [
    "# We start by creating a list of sources defined by string tuples\n",
    "sourcerecarray = [\n",
    "        (\"GHB\", \"AUX\", \"CONCENTRATION\"), # package name, source type, variable name in the package\n",
    "        (\"WEL\", \"AUX\", \"CONCENTRATION\"), # What other source types are there? Why do they exist? Read the mf6io.pdf document\n",
    "    ]\n",
    "# now w e build the package and pass in the sources\n",
    "ssm =  flopy.mf6.ModflowGwtssm(gwt, \n",
    "                               sources=sourcerecarray)\n",
    "# what happens if I also had recharge in the model but didn't assign it an auxliary variable? Will that cause an error? \n",
    "# any source or sink in the flow modle that isn't listed is assumed to have zero solute concentration flux in \n",
    "# and model calculated concentration flux out"
   ]
  },
  {
   "cell_type": "markdown",
   "id": "b56ff485-4ecd-411b-928d-52a47a522019",
   "metadata": {},
   "source": [
    "# Output control"
   ]
  },
  {
   "cell_type": "code",
   "execution_count": null,
   "id": "02424cad-c713-48dd-9463-47c6630b5ff2",
   "metadata": {},
   "outputs": [],
   "source": [
    "# Same as for flow except the options are specific to soulte transport and the class is different\n",
    "oct = flopy.mf6.ModflowGwtoc(gwt,\n",
    "                       budget_filerecord=f\"{model_name2}.cbc\",\n",
    "                       concentration_filerecord=f\"{model_name2}.ucn\",\n",
    "                       concentrationprintrecord=[(\"COLUMNS\", 10, \"WIDTH\", 15, \"DIGITS\", 6, \"GENERAL\")],\n",
    "                       saverecord=[(\"CONCENTRATION\", \"ALL\")],\n",
    "                       printrecord=[(\"CONCENTRATION\", \"LAST\"), (\"BUDGET\", \"LAST\")],\n",
    "                       budgetcsv_filerecord=\"mytransbudget.csv\")"
   ]
  },
  {
   "cell_type": "markdown",
   "id": "c7a73095-eb07-4fd3-9956-787c46b2b4fe",
   "metadata": {},
   "source": [
    "# Density\n",
    "More than one species can contribute to the density calculation. So the inforamtion needed by the BUY package includes the transport model name and the name of the variable representing a solute concentration."
   ]
  },
  {
   "cell_type": "code",
   "execution_count": null,
   "id": "8e39f75a-ef00-4f5c-9507-f885a187c2c0",
   "metadata": {},
   "outputs": [],
   "source": [
    "pdata = [(0, 0.7, 0.0, \"trans\", \"concentration\")] \n",
    "# species number, slope of desnity-concentration line, concentration of the reference density, transport model name, variable name\n",
    "buy = flopy.mf6.ModflowGwfbuy(gwf, \n",
    "                        packagedata=pdata)"
   ]
  },
  {
   "cell_type": "markdown",
   "id": "9b0effd1-f994-4170-87a0-62027a21e7fc",
   "metadata": {},
   "source": [
    "# Exchange file that links flow and transport"
   ]
  },
  {
   "cell_type": "code",
   "execution_count": null,
   "id": "3ac6ffd9-bd73-43fa-bf7e-0dd2760b7315",
   "metadata": {},
   "outputs": [],
   "source": [
    "exch = flopy.mf6.ModflowGwfgwt(sim,                  # pass in the sim\n",
    "                               exgtype=\"GWF6-GWT6\",  # in this case it is GWF-GWT but we can also have GWF-GWF if linking flow models\n",
    "                               exgmnamea=gwf.name,   # the flow model name \n",
    "                               exgmnameb=gwt.name)   # the transport model name note the order."
   ]
  },
  {
   "cell_type": "code",
   "execution_count": null,
   "id": "a5166f5b-f384-460d-abce-e3d4125eb9f9",
   "metadata": {},
   "outputs": [],
   "source": [
    "sim.write_simulation()\n",
    "sim.run_simulation()"
   ]
  },
  {
   "cell_type": "markdown",
   "id": "1b4d9d58-cb78-4f35-b44e-60f0819c6f37",
   "metadata": {},
   "source": [
    "# Plotting heads and contours"
   ]
  },
  {
   "cell_type": "code",
   "execution_count": null,
   "id": "11b19334-78b1-4d49-8069-b4e93fd7591b",
   "metadata": {},
   "outputs": [],
   "source": [
    "# get the heads \n",
    "# load the heads file\n",
    "headfile = os.path.join(model_f,\"flow.hds\")\n",
    "hds = flopy.utils.binaryfile.HeadFile(headfile)\n",
    "\n",
    "last_step = hds.get_kstpkper()[-1] # how \n",
    "\n",
    "h = hds.get_data(last_step)\n",
    "# get the heads from the final step of the final stress period\n",
    "# get our contour levels using linspace\n",
    "levels = np.linspace(np.min(h),np.max(h),20) # we are setting 20 contours across the compete range of heads in the hds array forthe final step\n",
    "\n",
    "# same as before\n",
    "mg = gwf.modelgrid\n",
    "fig = plt.figure(figsize=(7,3)) # we are creating a figure object here so that we can dictate size\n",
    "ax = fig.add_subplot(1, 1, 1, aspect=\"equal\") # making sure our proportions are kept intact\n",
    "pxs = flopy.plot.PlotCrossSection(model=gwf, ax=ax, line={\"row\": 0})\n",
    "fa = pxs.plot_array(h) \n",
    "colorbar = plt.colorbar(fa, aspect=30, shrink= 0.8) # create a colorbar\n",
    "fc = pxs.contour_array(h,\n",
    "                       levels=levels,\n",
    "                       colors=\"w\",\n",
    "                       linewidths=1.0, \n",
    "                       linestyles=\"-\")\n",
    "plt.clabel(fc, fmt=\"%4.3f\", fontsize=7)\n",
    "ax.set_title('Heads density flow')\n",
    "ax.set_xlabel('Length')\n",
    "ax.set_ylabel('Height')\n",
    "plt.tight_layout()\n",
    "# lets save it to our plots folder\n",
    "figname = os.path.join(plots_f,'Henry_heads_density_flow.png') # note use of the plots folder path.\n",
    "# If you want to change the file format then change the extension from .png to pdf or just do both\n",
    "fig.savefig(figname,dpi=300)\n",
    "figname = os.path.join(plots_f,'Henry_heads_density_flow.pdf')\n",
    "fig.savefig(figname,dpi=300) "
   ]
  },
  {
   "cell_type": "markdown",
   "id": "e4184b0b-f386-407e-9cf8-ceda3dd1b02d",
   "metadata": {},
   "source": [
    "# Plotting concentrations instead\n",
    "So  far we've only extarcted hydraulic heads from binary output control files. The process is very similar. Here, we will highlight the changes you need to make to the approach for heads so that you can access concentrations instead."
   ]
  },
  {
   "cell_type": "code",
   "execution_count": null,
   "id": "4b3a6629-1f33-443b-810b-619216434ecc",
   "metadata": {},
   "outputs": [],
   "source": [
    "# get the concentrations \n",
    "# load the concentration file\n",
    "concfile = os.path.join(model_f,\"trans.ucn\") # here we are reading in the .ucn file instead of a .hds file\n",
    "conc = flopy.utils.binaryfile.HeadFile(concfile, text='conc') # the text=\"conc\" option is the key\n",
    "# Note we are still using a HeadsFile object but reading a concentration file, you must tell it to look for \"conc\" as the array of interest\n",
    "# The rest is basically the same as what we did before.\n",
    "\n",
    "last_step = conc.get_kstpkper()[-1] # Now change this to conc instead of hds\n",
    "\n",
    "c = conc.get_data(last_step)\n",
    "# get the concentration from the final step of the final stress period\n",
    "# get our contour levels using a range function\n",
    "levels = list(range(1,36,3)) # we plan to set contours across the range of concentrations from 1.0 to 35.0 with an interval of 3.0"
   ]
  },
  {
   "cell_type": "code",
   "execution_count": null,
   "id": "ae33b030-12f7-4c69-9cef-0b859fa50954",
   "metadata": {},
   "outputs": [],
   "source": [
    "# same as before\n",
    "mg = gwf.modelgrid\n",
    "fig = plt.figure(figsize=(7,3)) # we are creating a figure object here so that we can dictate size\n",
    "ax = fig.add_subplot(1, 1, 1, aspect=\"equal\") # making sure our proportions are kept intact\n",
    "pxs = flopy.plot.PlotCrossSection(model=gwf, ax=ax, line={\"row\": 0})\n",
    "fa = pxs.plot_array(c) \n",
    "colorbar = plt.colorbar(fa, aspect=30, shrink= 0.8) # create a colorbar\n",
    "fc = pxs.contour_array(c,\n",
    "                       levels=levels,\n",
    "                       colors=\"w\",\n",
    "                       linewidths=1.0, \n",
    "                       linestyles=\"-\")\n",
    "plt.clabel(fc, fmt=\"%4.3f\", fontsize=7)\n",
    "ax.set_title('Concentration density flow')\n",
    "ax.set_xlabel('Length')\n",
    "ax.set_ylabel('Height')\n",
    "plt.tight_layout()\n",
    "# lets save it to our plots folder\n",
    "figname = os.path.join(plots_f,'Henry_concentration_density_flow.png') # note use of the plots folder path.\n",
    "# If you want to change the file format then change the extension from .png to pdf or just do both\n",
    "fig.savefig(figname,dpi=300)\n",
    "figname = os.path.join(plots_f,'Henry_concentration_density_flow.pdf')\n",
    "fig.savefig(figname,dpi=300) "
   ]
  },
  {
   "cell_type": "markdown",
   "id": "39f17bd6-b702-450d-96f1-c01f69d38676",
   "metadata": {},
   "source": [
    "# Flow vectors\n",
    "Plotting flow vectors is useful in certain situations. In order to create the vectors flow compnents in each of the principle directions are required. These can be opbtained using the budget file. Note this si not the list budget but the actual budget or .cbb file which you configured in the OC package. The equivalent for solute is the .cbc file which we also configured in the OC package for the GWT model. The first three lines in the code block below show you how to get the component vectors by flagging the \"DATA-SPDIS\" arrays stroed in the budget file. SPDIS stands for specifc discharge and in this case we want the vector components for the last stress period. Those vector compnents are then passed to the plot_vector method to create the vectors on the cross sectional plot (or mapview). The vctors are \"thinned out\" by using the kstep and hstep options in the plot_vector method."
   ]
  },
  {
   "cell_type": "code",
   "execution_count": null,
   "id": "295db870-91a0-4ece-8df6-817c2727378f",
   "metadata": {},
   "outputs": [],
   "source": [
    "bud = gwf.output.budget()  # get the flow model budget\n",
    "spdis = bud.get_data(text='DATA-SPDIS')[-1]  # get the final time step\n",
    "qx, qy, qz = flopy.utils.postprocessing.get_specific_discharge(spdis, gwf) # get component discharges, we need these for vectors\n",
    "\n",
    "mg = gwf.modelgrid\n",
    "fig = plt.figure(figsize=(7,3)) # we are creating a figure object here so that we can dictate size\n",
    "ax = fig.add_subplot(1, 1, 1, aspect=\"equal\") # making sure our proportions are kept intact\n",
    "pxs = flopy.plot.PlotCrossSection(model=gwf, ax=ax, line={\"row\": 0})\n",
    "fa = pxs.plot_array(c) \n",
    "colorbar = plt.colorbar(fa, aspect=30, shrink= 0.8) # create a colorbar\n",
    "pxs.plot_vector(qx, qy, qz, color=\"white\", kstep = 2, hstep = 2) # use kstep and hstep to change the number of vectors being plotted\n",
    "plt.clabel(fc, fmt=\"%4.3f\", fontsize=7)\n",
    "ax.set_title('Concentration density flow vectors')\n",
    "ax.set_xlabel('Length')\n",
    "ax.set_ylabel('Height')\n",
    "plt.tight_layout()\n",
    "# lets save it to our plots folder\n",
    "figname = os.path.join(plots_f,'Henry_concentration_density_vectors.png') # note use of the plots folder path.\n",
    "# If you want to change the file format then change the extension from .png to pdf or just do both\n",
    "fig.savefig(figname,dpi=300)\n",
    "figname = os.path.join(plots_f,'Henry_concentration_density_vectors.pdf')\n",
    "fig.savefig(figname,dpi=300) "
   ]
  },
  {
   "cell_type": "markdown",
   "id": "1b31a084-d95f-4522-878b-5a716aa79b4f",
   "metadata": {},
   "source": [
    "# Check the budgets"
   ]
  },
  {
   "cell_type": "code",
   "execution_count": null,
   "id": "8700c611-c204-4b6e-a10c-66bdd8ccc141",
   "metadata": {},
   "outputs": [],
   "source": [
    "budcsv = gwf.output.budgetcsv() # accessing the budgetcsv object\n",
    "nams = budcsv.data.dtype.names # get the names\n",
    "in_nams = [x for x in nams if \"_IN\" in x] # get all the in names\n",
    "prefs = [x.rstrip(\"_IN\") for x in in_nams] # get the prefixes for all the in names\n",
    "out_nams = [x+\"_OUT\" for x in prefs] # get the out names by building them from the prefix names \n",
    "# Note the approach above ensures the order of the prefix, in and out remaine aligned which is needed for the next step.\n",
    "_ = {key:budcsv.data[i]-budcsv.data[o] for key,i,o in zip(prefs,in_nams,out_nams)} # a dictionary comprehension \n",
    "bal_df = pd.DataFrame.from_dict(_) # convert to a pandas dataframe for easy plots\n",
    "# now plot a specific stress period using Pandas dataframe plot methods\n",
    "fig = plt.figure(figsize=(3, 3))\n",
    "ax = fig.add_subplot(1, 1, 1)\n",
    "bal_df.iloc[-1, :].plot(kind=\"bar\", grid=True,ax=ax) # note using stress period number here instead of date\n",
    "plt.ylabel(\"$mL/s$\") # use LaTex style math formatting (model units were defined as cm and seconds)\n",
    "plt.title(\"Water Balance\")\n",
    "plt.tight_layout()"
   ]
  },
  {
   "cell_type": "code",
   "execution_count": null,
   "id": "50d62abc-a281-4784-b44f-36abcb266af1",
   "metadata": {},
   "outputs": [],
   "source": [
    "budcsv = gwt.output.budgetcsv() # accessing the solute budgetcsv object Note the model change from gwf to gwt\n",
    "nams = budcsv.data.dtype.names # get the names\n",
    "in_nams = [x for x in nams if \"_IN\" in x] # get all the in names\n",
    "prefs = [x.rstrip(\"_IN\") for x in in_nams] # get the prefixes for all the in names\n",
    "out_nams = [x+\"_OUT\" for x in prefs] # get the out names by building them from the prefix names \n",
    "# Note the approach above ensures the order of the prefix, in and out remaine aligned which is needed for the next step.\n",
    "_ = {key:budcsv.data[i]-budcsv.data[o] for key,i,o in zip(prefs,in_nams,out_nams)} # a dictionary comprehension \n",
    "bal_df = pd.DataFrame.from_dict(_) # convert to a pandas dataframe for easy plots\n",
    "# now plot a specific stress period using Pandas dataframe plot methods\n",
    "fig = plt.figure(figsize=(3, 3))\n",
    "ax = fig.add_subplot(1, 1, 1)\n",
    "bal_df.iloc[-1, :].plot(kind=\"bar\", grid=True,ax=ax) # note using stress period number here instead of date\n",
    "plt.ylabel(\"$g/s$\") # use LaTex style math formatting \n",
    "plt.title(\"Solute Balance\")\n",
    "plt.tight_layout()"
   ]
  },
  {
   "cell_type": "code",
   "execution_count": null,
   "id": "8d06ab06-d65a-427c-bbd9-f326cd3ac09e",
   "metadata": {},
   "outputs": [],
   "source": [
    "# the vertical lables are painful when really long so lets change them to something else\n",
    "bal_df.columns = [\"MST\",\"SSM_WEL\",\"SSM_GHB\",\"TOTAL\"]\n",
    "fig = plt.figure(figsize=(3, 3))\n",
    "ax = fig.add_subplot(1, 1, 1)\n",
    "bal_df.iloc[-1, :].plot(kind=\"bar\", grid=True,ax=ax) # note using stress period number here instead of date\n",
    "plt.ylabel(\"$g/s$\") # use LaTex style math formatting \n",
    "plt.title(\"Solute Balance\")\n",
    "plt.tight_layout()"
   ]
  },
  {
   "cell_type": "markdown",
   "id": "483ac7b3-43d8-4b38-b1a3-97a1cb80d749",
   "metadata": {},
   "source": [
    "# Create a plotting function\n",
    "If you wish to produce an animation of your simualtion then you generally use plots as frames which means converting your plotting code into a function that can be called during a loop of your specified periods and/or timesteps. The function below combines the retrieval of concentration information from the concfile object we created earlier with the same plotting approach used for concentration arrays and contours. Also worth pointing out is the format string used for naming each file created by the plotting function. The plot number is formatted using :03d which basically ensures that the number will be 3 digits with leading zeros, i.e., 001, 002, 003 etc."
   ]
  },
  {
   "cell_type": "code",
   "execution_count": null,
   "id": "57df1ab5-ccf4-4b50-9184-ef518ff119aa",
   "metadata": {},
   "outputs": [],
   "source": [
    "# plotting a time series of figures\n",
    "# first make our plot into a function\n",
    "def my_plot(num,timestep): # note that we want to loop through time periods so we will pass in the epriods that we want\n",
    "    c = conc.get_data(timestep) # get the concentrations fo rthat period\n",
    "    fig = plt.figure(figsize=(7,3)) # we are creating a figure object here so that we can dictate size\n",
    "    ax = fig.add_subplot(1, 1, 1, aspect=\"equal\") # making sure our proportions are kept intact\n",
    "    pxs = flopy.plot.PlotCrossSection(model=gwf, ax=ax, line={\"row\": 0})\n",
    "    fa = pxs.plot_array(c) \n",
    "    colorbar = plt.colorbar(fa, aspect=30, shrink= 0.8) # create a colorbar\n",
    "    fc = pxs.contour_array(c,\n",
    "                           levels=levels,\n",
    "                           colors=\"w\",\n",
    "                           linewidths=1.0, \n",
    "                           linestyles=\"-\")\n",
    "    plt.clabel(fc, fmt=\"%4.3f\", fontsize=7)\n",
    "    ax.set_title('Concentration density flow')\n",
    "    ax.set_xlabel('Length')\n",
    "    ax.set_ylabel('Height')\n",
    "    plt.tight_layout()\n",
    "    # lets save it to our plots folder\n",
    "    figname = os.path.join(plots_f,'Henry_concentration_density_flow.png') # note use of the plots folder path.\n",
    "    # If you want to change the file format then change the extension from .png to pdf or just do both\n",
    "    fig.savefig(figname,dpi=300)\n",
    "    figname = os.path.join(plots_f,f'conc_contours_{num:03d}.png') # note this is how we keep them sequential\n",
    "    fig.savefig(figname,dpi=300)\n",
    "    plt.close() # always a good idea when you create lots of plots\n",
    "\n",
    "for i,output in enumerate(hds.get_kstpkper()[::10]): # every 10th output given our model output timing\n",
    "    my_plot(i,output)\n",
    "\n",
    "# You can then use utilities like ffmpeg from command line to stitch frames into video\n",
    "# something like the line below works if ffmpeg is available in your system PATH\n",
    "# ffmpeg -y -i conc_contours_%03d.png -vf \"zoompan=d=5\" movie.webm\n",
    "# I'm still learning how to do this from Python."
   ]
  },
  {
   "cell_type": "markdown",
   "id": "7a1d3512-fc06-4dda-b42a-77dc0a61c879",
   "metadata": {},
   "source": [
    "# Using stress package concentrations\n",
    "Note that each transport model in MF6 can only specify one species. When we used auxiliary variables in the GHB and WEL packages we labled them as concentration. This serves as an identifier for the SSM package so that it knows which auxiliary variable is the solute species. Recall you can have as many auxiliary variables as you like in a stress package that supports them. When we use stress package concentration files you don't have to declare an auxiliary variable as an indicator because your are specifying the solute concentrations explicitly through the stress package cocentration file. We will demonstrate this by adding recharge and evapotranspiration across the top of the Henry Problem."
   ]
  },
  {
   "cell_type": "code",
   "execution_count": null,
   "id": "81757454-0073-40fa-9596-c8e3d198ed77",
   "metadata": {},
   "outputs": [],
   "source": [
    "evt = flopy.mf6.ModflowGwfevta(gwf,\n",
    "                               pname = \"evt\", # need this later\n",
    "                               surface = 1.0,\n",
    "                               rate = 0.1,\n",
    "                               depth = 0.5)\n",
    "\n",
    "rch = flopy.mf6.ModflowGwfrcha(gwf,\n",
    "                               pname = \"rch\",\n",
    "                               recharge=0.14256)"
   ]
  },
  {
   "cell_type": "markdown",
   "id": "27b41808-f006-4417-9686-1d7eeb7f6006",
   "metadata": {},
   "source": [
    "# Check the effect on the flow solution"
   ]
  },
  {
   "cell_type": "code",
   "execution_count": null,
   "id": "d3ff57af-4f04-47d6-997a-4212ed54f366",
   "metadata": {},
   "outputs": [],
   "source": [
    "sim.write_simulation()\n",
    "sim.run_simulation()"
   ]
  },
  {
   "cell_type": "code",
   "execution_count": null,
   "id": "9be5bd61-9da8-4ca6-8f7f-e5b4083db7c5",
   "metadata": {},
   "outputs": [],
   "source": [
    "# get the heads \n",
    "# load the heads file\n",
    "headfile = os.path.join(model_f,\"flow.hds\")\n",
    "hds = flopy.utils.binaryfile.HeadFile(headfile)\n",
    "\n",
    "last_step = hds.get_kstpkper()[-1] # how \n",
    "\n",
    "h = hds.get_data(last_step)\n",
    "# get the heads from the final step of the final stress period\n",
    "# get our contour levels using linspace\n",
    "levels = np.linspace(np.min(h),np.max(h),20) # we are setting 20 contours across the compete range of heads in the hds array forthe final step\n",
    "\n",
    "# same as before\n",
    "mg = gwf.modelgrid\n",
    "fig = plt.figure(figsize=(7,3)) # we are creating a figure object here so that we can dictate size\n",
    "ax = fig.add_subplot(1, 1, 1, aspect=\"equal\") # making sure our proportions are kept intact\n",
    "pxs = flopy.plot.PlotCrossSection(model=gwf, ax=ax, line={\"row\": 0})\n",
    "fa = pxs.plot_array(h) \n",
    "colorbar = plt.colorbar(fa, aspect=30, shrink= 0.8) # create a colorbar\n",
    "fc = pxs.contour_array(h,\n",
    "                       levels=levels,\n",
    "                       colors=\"w\",\n",
    "                       linewidths=1.0, \n",
    "                       linestyles=\"-\")\n",
    "plt.clabel(fc, fmt=\"%4.3f\", fontsize=7)\n",
    "ax.set_title('Heads density flow')\n",
    "ax.set_xlabel('Length')\n",
    "ax.set_ylabel('Height')\n",
    "plt.tight_layout()\n",
    "# lets save it to our plots folder\n",
    "figname = os.path.join(plots_f,'Henry_heads_ET_RCH.png') # note use of the plots folder path.\n",
    "# If you want to change the file format then change the extension from .png to pdf or just do both\n",
    "fig.savefig(figname,dpi=300)\n",
    "figname = os.path.join(plots_f,'Henry_heads_ET_RCH.pdf')\n",
    "fig.savefig(figname,dpi=300) "
   ]
  },
  {
   "cell_type": "code",
   "execution_count": null,
   "id": "1f581741-7f25-4d3c-b1f4-89d800c3c8ee",
   "metadata": {},
   "outputs": [],
   "source": [
    "budcsv = gwf.output.budgetcsv() # accessing the budgetcsv object\n",
    "nams = budcsv.data.dtype.names # get the names\n",
    "in_nams = [x for x in nams if \"_IN\" in x] # get all the in names\n",
    "prefs = [x.rstrip(\"_IN\") for x in in_nams] # get the prefixes for all the in names\n",
    "out_nams = [x+\"_OUT\" for x in prefs] # get the out names by building them from the prefix names \n",
    "# Note the approach above ensures the order of the prefix, in and out remaine aligned which is needed for the next step.\n",
    "_ = {key:budcsv.data[i]-budcsv.data[o] for key,i,o in zip(prefs,in_nams,out_nams)} # a dictionary comprehension \n",
    "bal_df = pd.DataFrame.from_dict(_) # convert to a pandas dataframe for easy plots\n",
    "# now plot a specific stress period using Pandas dataframe plot methods\n",
    "fig = plt.figure(figsize=(3, 3))\n",
    "ax = fig.add_subplot(1, 1, 1)\n",
    "bal_df.iloc[-1, :].plot(kind=\"bar\", grid=True,ax=ax) # note using stress period number here instead of date\n",
    "plt.ylabel(\"$ML/d$\") # use LaTex style math formatting \n",
    "plt.title(\"Water Balance\")\n",
    "plt.tight_layout()"
   ]
  },
  {
   "cell_type": "markdown",
   "id": "129d2c82-0c73-4ae3-9f5d-b2ff28970b1f",
   "metadata": {},
   "source": [
    "So we have water entering and exiting the system via recharge, which is what we wanted. Lets look at what the solute is doing."
   ]
  },
  {
   "cell_type": "code",
   "execution_count": null,
   "id": "bb71a46f-28d0-4a11-b4af-48094010f711",
   "metadata": {},
   "outputs": [],
   "source": [
    "budcsv = gwt.output.budgetcsv() # accessing the solute budgetcsv object Note the model change from gwf to gwt\n",
    "nams = budcsv.data.dtype.names # get the names\n",
    "in_nams = [x for x in nams if \"_IN\" in x] # get all the in names\n",
    "prefs = [x.rstrip(\"_IN\") for x in in_nams] # get the prefixes for all the in names\n",
    "out_nams = [x+\"_OUT\" for x in prefs] # get the out names by building them from the prefix names \n",
    "# Note the approach above ensures the order of the prefix, in and out remaine aligned which is needed for the next step.\n",
    "_ = {key:budcsv.data[i]-budcsv.data[o] for key,i,o in zip(prefs,in_nams,out_nams)} # a dictionary comprehension \n",
    "bal_df = pd.DataFrame.from_dict(_) # convert to a pandas dataframe for easy plots\n",
    "bal_df.columns = [\"MST\",\"SSM_WEL\",\"SSM_GHB\",\"SSM_RCH\",\"SSM_EVT\",\"TOTAL\"]\n",
    "# now plot a specific stress period using Pandas dataframe plot methods\n",
    "fig = plt.figure(figsize=(3, 3))\n",
    "ax = fig.add_subplot(1, 1, 1)\n",
    "bal_df.iloc[-1, :].plot(kind=\"bar\", grid=True,ax=ax) # note using stress period number here instead of date\n",
    "plt.ylabel(\"$g/s$\") # use LaTex style math formatting \n",
    "plt.title(\"Solute Balance\")\n",
    "plt.tight_layout()"
   ]
  },
  {
   "cell_type": "markdown",
   "id": "ea99fde7-fe90-40f3-b061-333e2d3409e2",
   "metadata": {},
   "source": [
    "Wait a minute! We have solute leaving the model via the ET package. The default behaviour of solute with stress packages is that flux leaves the system the it will do so with whatever concentration the model has calculated. This means if we want to evapo-concentrate via ET then we have to tell it to do so by forcing the flux out of the model to be zero. We can do this using the \"MIXED\" option for the solute behaviour setting. We will assign solute concentrations to the RCH and ET packages via stress package concentration files. These are configured below. The appraoch should be familair to you now where a dictionary is used to specify values for a specific period. We only have one preiod. Note that in this case we are using the the object class specific to arrays because we are using the array style RCH and ET packages. If we were using list style RCH and ET then this would be slightly different. "
   ]
  },
  {
   "cell_type": "code",
   "execution_count": null,
   "id": "7d86315a-ac7d-4153-9a0c-0dfae85b5f76",
   "metadata": {},
   "outputs": [],
   "source": [
    "spc_dict = {}\n",
    "spc_dict[0]=35.0 # conc of recharge in first stress period, i.e. we have a huge tidal surge :)\n",
    "\n",
    "spc1 = flopy.mf6.ModflowUtlspca(gwt,concentration=spc_dict,\n",
    "                         pname='spca1',\n",
    "                         filename=f\"{model_name2}_1spc.spca\")\n",
    "spc_dict = {}\n",
    "spc_dict[0]=0.0 # no concentration in ET, we will also use the MIXED behaviour \n",
    "# the MIXED behaviour option effectivley makes flow in and flow out have the same prescribed concentration\n",
    "spc2 = flopy.mf6.ModflowUtlspca(gwt,concentration=spc_dict,\n",
    "                         pname='spca2',\n",
    "                         filename=f\"{model_name2}_2spc.spca\")\n",
    "\n",
    "ssm =  flopy.mf6.ModflowGwtssm(gwt, \n",
    "                               sources=sourcerecarray,\n",
    "                              fileinput=(['rch',f\"{model_name2}_1spc.spca\"]))\n",
    "\n",
    "# At the time of development the fileinput option for the SSM object class would only accept a list with two items making it impossible to add the \n",
    "# \"MIXED\" option because that requires a three item list. The method used below is a workaround to get the settings correct.\n",
    "ssm.fileinput.append_list_as_record(['evt',f\"{model_name2}_2spc.spca\", 'MIXED']) \n",
    "# mixed for ET means flow leaving must have our prescribed concentration of zero, i.e., we will have evapoconcentration"
   ]
  },
  {
   "cell_type": "code",
   "execution_count": null,
   "id": "78bfcdd2-ef0d-4b73-913e-c8f13487db80",
   "metadata": {},
   "outputs": [],
   "source": [
    "sim.write_simulation()\n",
    "sim.run_simulation()"
   ]
  },
  {
   "cell_type": "code",
   "execution_count": null,
   "id": "dcfa9b17-1a3d-424e-ad03-72b25b9c06b0",
   "metadata": {},
   "outputs": [],
   "source": [
    "# get the concentrations \n",
    "# load the concentration file\n",
    "concfile = os.path.join(model_f,\"trans.ucn\")\n",
    "conc = flopy.utils.binaryfile.HeadFile(concfile, text='conc') \n",
    "# Note we are still using a HeadsFile object but reading a concentration file, you must tell it to look for \"conc\" as the array of interest\n",
    "\n",
    "last_step = conc.get_kstpkper()[-1] # Now change this to conc instead of hds\n",
    "\n",
    "c = conc.get_data(last_step)\n",
    "# get the concentration from the final step of the final stress period\n",
    "# get our contour levels using linspace\n",
    "levels = list(range(1,36,3)) # we are setting 35 contours across the compete range of heads in the hds array forthe final step\n",
    "\n",
    "bud = gwf.output.budget()  # get the flow model budget\n",
    "spdis = bud.get_data(text='DATA-SPDIS')[-1]  # get the final time step\n",
    "qx, qy, qz = flopy.utils.postprocessing.get_specific_discharge(spdis, gwf) # get component discharges, we need these for vectors\n",
    "\n",
    "mg = gwf.modelgrid\n",
    "fig = plt.figure(figsize=(7,3)) # we are creating a figure object here so that we can dictate size\n",
    "ax = fig.add_subplot(1, 1, 1, aspect=\"equal\") # making sure our proportions are kept intact\n",
    "pxs = flopy.plot.PlotCrossSection(model=gwf, ax=ax, line={\"row\": 0})\n",
    "fa = pxs.plot_array(c) \n",
    "colorbar = plt.colorbar(fa, aspect=30, shrink= 0.8) # create a colorbar\n",
    "pxs.plot_vector(qx, qy, qz, color=\"white\", kstep = 2, hstep = 2) # use kstep and hstep to change the number of vectors being plotted\n",
    "plt.clabel(fc, fmt=\"%4.3f\", fontsize=7)\n",
    "ax.set_title('Concentration density flow vectors')\n",
    "ax.set_xlabel('Length')\n",
    "ax.set_ylabel('Height')\n",
    "plt.tight_layout()\n",
    "# lets save it to our plots folder\n",
    "figname = os.path.join(plots_f,'Henry_concentration_density_ET_RCH.png') # note use of the plots folder path.\n",
    "# If you want to change the file format then change the extension from .png to pdf or just do both\n",
    "fig.savefig(figname,dpi=300)\n",
    "figname = os.path.join(plots_f,'Henry_concentration_density_ET_RCH.pdf')\n",
    "fig.savefig(figname,dpi=300) "
   ]
  },
  {
   "cell_type": "code",
   "execution_count": null,
   "id": "19498a74-c57a-49c3-91ec-72907447f656",
   "metadata": {},
   "outputs": [],
   "source": [
    "budcsv = gwt.output.budgetcsv() # accessing the solute budgetcsv object Note the model change from gwf to gwt\n",
    "nams = budcsv.data.dtype.names # get the names\n",
    "in_nams = [x for x in nams if \"_IN\" in x] # get all the in names\n",
    "prefs = [x.rstrip(\"_IN\") for x in in_nams] # get the prefixes for all the in names\n",
    "out_nams = [x+\"_OUT\" for x in prefs] # get the out names by building them from the prefix names \n",
    "# Note the approach above ensures the order of the prefix, in and out remaine aligned which is needed for the next step.\n",
    "_ = {key:budcsv.data[i]-budcsv.data[o] for key,i,o in zip(prefs,in_nams,out_nams)} # a dictionary comprehension \n",
    "bal_df = pd.DataFrame.from_dict(_) # convert to a pandas dataframe for easy plots\n",
    "bal_df.columns = [\"MST\",\"SSM_WEL\",\"SSM_GHB\",\"SSM_RCH\",\"SSM_EVT\",\"TOTAL\"]\n",
    "# now plot a specific stress period using Pandas dataframe plot methods\n",
    "fig = plt.figure(figsize=(3, 3))\n",
    "ax = fig.add_subplot(1, 1, 1)\n",
    "bal_df.iloc[-1, :].plot(kind=\"bar\", grid=True,ax=ax) # note using stress period number here instead of date\n",
    "plt.ylabel(\"$g/s$\") # use LaTex style math formatting \n",
    "plt.title(\"Solute Balance\")\n",
    "plt.tight_layout()"
   ]
  },
  {
   "cell_type": "markdown",
   "id": "22693b51-8b6b-4f7f-a816-98162eaafc0b",
   "metadata": {},
   "source": [
    "Now we have solute entering the model via the RCH package but none leaving the model via the ET package despite fluid fluxes being the same. Take some time to have a look at the mf6io.pdf document and the different files we created."
   ]
  },
  {
   "cell_type": "markdown",
   "id": "f1f92e5e-e80a-4681-984e-d40940918129",
   "metadata": {},
   "source": [
    "# Constant concentration package\n",
    "The SSM package solute boundary conditions are third-type boundaries where a solute concentration is assigned to a fluid flux. There are also solute boundary conditions that fix the concentration and another that increases or decreases solute concentration at a given rate. Both the boundaries have very similar input requirements to the analogoue of their flow boundary conditions, these being fixed head and fixed flux. We will demonstarte the fixed concentration boundary below by adding a block of model cells with a cocentration of 15.0. All of the solute boundaries can also feature a time series of concentration. The remainign options available with each solute boundary package are the same as what is available with the flow packages.   "
   ]
  },
  {
   "cell_type": "code",
   "execution_count": null,
   "id": "ceeb8424-900c-452b-9276-50d9ad9b08df",
   "metadata": {},
   "outputs": [],
   "source": [
    "# going to add in concentration for tailings using spit_nodes\n",
    "cnc_data = {}\n",
    "pdata = []\n",
    "for lay in range(20,23): # note this specific scenario considers concentration in layer 1.\n",
    "    for col in range(20,23):\n",
    "        pdata.append(((lay,0,col),15.0,'tailings')) # giving it a boundary name tailings\n",
    "cnc_data[0]=pdata # note this will apply until end of simulation\n",
    "cnc = flopy.mf6.ModflowGwtcnc(gwt,\n",
    "                              boundnames=True,\n",
    "                              save_flows=True,\n",
    "                              maxbound=len(pdata) ,\n",
    "                              stress_period_data = cnc_data,\n",
    "                              filename=\"{}_1.cnc\".format(model_name2),\n",
    "                              pname = 'cnc_1')"
   ]
  },
  {
   "cell_type": "code",
   "execution_count": null,
   "id": "d899ba18-be0f-45f0-9252-3db9ac0529dc",
   "metadata": {},
   "outputs": [],
   "source": [
    "sim.write_simulation()\n",
    "sim.run_simulation()"
   ]
  },
  {
   "cell_type": "code",
   "execution_count": null,
   "id": "9b5fae11-8157-4d24-b675-e9396ae21d63",
   "metadata": {},
   "outputs": [],
   "source": [
    "# get the concentrations \n",
    "# load the concentration file\n",
    "concfile = os.path.join(model_f,\"trans.ucn\")\n",
    "conc = flopy.utils.binaryfile.HeadFile(concfile, text='conc') \n",
    "# Note we are still using a HeadsFile object but reading a concentration file, you must tell it to look for \"conc\" as the array of interest\n",
    "\n",
    "last_step = conc.get_kstpkper()[-1] # Now change this to conc instead of hds\n",
    "\n",
    "c = conc.get_data(last_step)\n",
    "# get the concentration from the final step of the final stress period\n",
    "# get our contour levels using linspace\n",
    "levels = list(range(1,36,3)) # we are setting 35 contours across the compete range of heads in the hds array for the final step\n",
    "# same as before\n",
    "mg = gwf.modelgrid\n",
    "fig = plt.figure(figsize=(7,3)) # we are creating a figure object here so that we can dictate size\n",
    "ax = fig.add_subplot(1, 1, 1, aspect=\"equal\") # making sure our proportions are kept intact\n",
    "pxs = flopy.plot.PlotCrossSection(model=gwf, ax=ax, line={\"row\": 0})\n",
    "fa = pxs.plot_array(c) \n",
    "colorbar = plt.colorbar(fa, aspect=30, shrink= 0.8) # create a colorbar\n",
    "fc = pxs.contour_array(c,\n",
    "                       levels=levels,\n",
    "                       colors=\"w\",\n",
    "                       linewidths=1.0, \n",
    "                       linestyles=\"-\")\n",
    "plt.clabel(fc, fmt=\"%4.3f\", fontsize=7)\n",
    "ax.set_title('Concentration density flow')\n",
    "ax.set_xlabel('Length')\n",
    "ax.set_ylabel('Height')\n",
    "plt.tight_layout()\n",
    "# lets save it to our plots folder\n",
    "figname = os.path.join(plots_f,'Henry_concentration_density_CNC.png') # note use of the plots folder path.\n",
    "# If you want to change the file format then change the extension from .png to pdf or just do both\n",
    "fig.savefig(figname,dpi=300)\n",
    "figname = os.path.join(plots_f,'Henry_concentration_density_CNC.pdf')\n",
    "fig.savefig(figname,dpi=300) "
   ]
  },
  {
   "cell_type": "code",
   "execution_count": null,
   "id": "279c24dd-5b99-4b8d-ae96-617a8dbf3b9c",
   "metadata": {},
   "outputs": [],
   "source": [
    "budcsv = gwt.output.budgetcsv() # accessing the solute budgetcsv object Note the model change from gwf to gwt\n",
    "nams = budcsv.data.dtype.names # get the names\n",
    "in_nams = [x for x in nams if \"_IN\" in x] # get all the in names\n",
    "prefs = [x.rstrip(\"_IN\") for x in in_nams] # get the prefixes for all the in names\n",
    "out_nams = [x+\"_OUT\" for x in prefs] # get the out names by building them from the prefix names \n",
    "# Note the approach above ensures the order of the prefix, in and out remaine aligned which is needed for the next step.\n",
    "_ = {key:budcsv.data[i]-budcsv.data[o] for key,i,o in zip(prefs,in_nams,out_nams)} # a dictionary comprehension \n",
    "bal_df = pd.DataFrame.from_dict(_) # convert to a pandas dataframe for easy plots\n",
    "bal_df.columns = [\"MST\",\"SSM_WEL\",\"SSM_GHB\",\"SSM_RCH\",\"SSM_EVT\",\"CNC\",\"TOTAL\"]\n",
    "# now plot a specific stress period using Pandas dataframe plot methods\n",
    "fig = plt.figure(figsize=(3, 3))\n",
    "ax = fig.add_subplot(1, 1, 1)\n",
    "bal_df.iloc[-1, :].plot(kind=\"bar\", grid=True,ax=ax) # note using stress period number here instead of date\n",
    "plt.ylabel(\"$g/s$\") # use LaTex style math formatting \n",
    "plt.title(\"Solute Balance\")\n",
    "plt.tight_layout()"
   ]
  },
  {
   "cell_type": "markdown",
   "id": "78d8672e-370a-4532-b4f2-d4009325386d",
   "metadata": {},
   "source": [
    "# Mass Source Loading package\n",
    "The mass source loading package is used to simulate a constant addition (or removal) of solute to (from) the model. The package input in this case is identical to what we did with the constant concentration package except we will use different model cells for the boundary. We will add solute at a rate of 1.0 mg/s to model cells near the top of the model above the seawater interface."
   ]
  },
  {
   "cell_type": "code",
   "execution_count": null,
   "id": "76dd614b-a588-4dcd-b1d3-e5c387e27218",
   "metadata": {},
   "outputs": [],
   "source": [
    "# going to add solute at \n",
    "src_data = {}\n",
    "pdata = []\n",
    "for lay in range(0,2): # note this specific scenario considers concentration in layer 1.\n",
    "    for col in range(50,60):\n",
    "        pdata.append(((lay,0,col),1.0,'waste'))\n",
    "src_data[0]=pdata # note this will apply until end of simulation\n",
    "src = flopy.mf6.ModflowGwtsrc(gwt,\n",
    "                              boundnames=True,\n",
    "                              save_flows=True,\n",
    "                              maxbound=len(pdata) ,\n",
    "                              stress_period_data = src_data,\n",
    "                              filename=\"{}_1.src\".format(model_name2),\n",
    "                              pname = 'src_1')"
   ]
  },
  {
   "cell_type": "code",
   "execution_count": null,
   "id": "279c0bdd-3efb-4a33-85f0-591700baeae7",
   "metadata": {},
   "outputs": [],
   "source": [
    "sim.write_simulation()\n",
    "sim.run_simulation()"
   ]
  },
  {
   "cell_type": "code",
   "execution_count": null,
   "id": "896ac111-93f7-4bfb-9481-9fe43bf56ded",
   "metadata": {},
   "outputs": [],
   "source": [
    "# get the concentrations \n",
    "# load the concentration file\n",
    "concfile = os.path.join(model_f,\"trans.ucn\")\n",
    "conc = flopy.utils.binaryfile.HeadFile(concfile, text='conc') \n",
    "# Note we are still using a HeadsFile object but reading a concentration file, you must tell it to look for \"conc\" as the array of interest\n",
    "\n",
    "last_step = conc.get_kstpkper()[-1] # Now change this to conc instead of hds\n",
    "\n",
    "c = conc.get_data(last_step)\n",
    "# get the concentration from the final step of the final stress period\n",
    "# get our contour levels using linspace\n",
    "levels = list(range(1,36,3)) # we are setting 35 contours across the compete range of heads in the hds array forthe final step\n",
    "# same as before\n",
    "mg = gwf.modelgrid\n",
    "fig = plt.figure(figsize=(7,3)) # we are creating a figure object here so that we can dictate size\n",
    "ax = fig.add_subplot(1, 1, 1, aspect=\"equal\") # making sure our proportions are kept intact\n",
    "pxs = flopy.plot.PlotCrossSection(model=gwf, ax=ax, line={\"row\": 0})\n",
    "fa = pxs.plot_array(c) \n",
    "colorbar = plt.colorbar(fa, aspect=30, shrink= 0.8) # create a colorbar\n",
    "fc = pxs.contour_array(c,\n",
    "                       levels=levels,\n",
    "                       colors=\"w\",\n",
    "                       linewidths=1.0, \n",
    "                       linestyles=\"-\")\n",
    "plt.clabel(fc, fmt=\"%4.3f\", fontsize=7)\n",
    "ax.set_title('Concentration density flow')\n",
    "ax.set_xlabel('Length')\n",
    "ax.set_ylabel('Height')\n",
    "plt.tight_layout()\n",
    "# lets save it to our plots folder\n",
    "figname = os.path.join(plots_f,'The_works.png') # note use of the plots folder path.\n",
    "# If you want to change the file format then change the extension from .png to pdf or just do both\n",
    "fig.savefig(figname,dpi=300)\n",
    "figname = os.path.join(plots_f,'The_works.pdf')\n",
    "fig.savefig(figname,dpi=300) "
   ]
  },
  {
   "cell_type": "code",
   "execution_count": null,
   "id": "b022dabe-714d-4c85-acc8-4bca3958dfc8",
   "metadata": {},
   "outputs": [],
   "source": [
    "budcsv = gwt.output.budgetcsv() # accessing the solute budgetcsv object Note the model change from gwf to gwt\n",
    "nams = budcsv.data.dtype.names # get the names\n",
    "in_nams = [x for x in nams if \"_IN\" in x] # get all the in names\n",
    "prefs = [x.rstrip(\"_IN\") for x in in_nams] # get the prefixes for all the in names\n",
    "out_nams = [x+\"_OUT\" for x in prefs] # get the out names by building them from the prefix names \n",
    "# Note the approach above ensures the order of the prefix, in and out remaine aligned which is needed for the next step.\n",
    "_ = {key:budcsv.data[i]-budcsv.data[o] for key,i,o in zip(prefs,in_nams,out_nams)} # a dictionary comprehension \n",
    "bal_df = pd.DataFrame.from_dict(_) # convert to a pandas dataframe for easy plots\n",
    "bal_df.columns = [\"MST\",\"SSM_WEL\",\"SSM_GHB\",\"SSM_RCH\",\"SSM_EVT\",\"CNC\",\"SRC\",\"TOTAL\"]\n",
    "# now plot a specific stress period using Pandas dataframe plot methods\n",
    "fig = plt.figure(figsize=(3, 3))\n",
    "ax = fig.add_subplot(1, 1, 1)\n",
    "bal_df.iloc[-1, :].plot(kind=\"bar\", grid=True,ax=ax) # note using stress period number here instead of date\n",
    "plt.ylabel(\"$g/s$\") # use LaTex style math formatting \n",
    "plt.title(\"Solute Balance\")\n",
    "plt.tight_layout()"
   ]
  },
  {
   "cell_type": "markdown",
   "id": "e7b58ac5-29a4-4b57-b8aa-7a30deab4353",
   "metadata": {},
   "source": [
    "# Thats all folks\r\n",
    "That covers most of the commonly used solute transport packages. Advanced stress packages have there own transport variants of their flow packages which must be used if simulating transport with an advanced stress package.There are also packages that facilitate dual and or tripple porosity solute behaviour. At present there is no package for reactive transport but this is planned for future development.  Hope you enjoyed this session and we'll see you for the next session which will cover the use of ZoneBudget and particle tracking with a few simple examples.\r\n"
   ]
  },
  {
   "cell_type": "code",
   "execution_count": null,
   "id": "c515c434-bf0f-4160-8adb-ce41b04ff280",
   "metadata": {},
   "outputs": [],
   "source": []
  },
  {
   "cell_type": "code",
   "execution_count": null,
   "id": "e9409321-59f6-4a2f-802b-4ae2e6ab1abe",
   "metadata": {},
   "outputs": [],
   "source": []
  },
  {
   "cell_type": "code",
   "execution_count": null,
   "id": "1829a8ba-c982-4b89-8390-daec2479c526",
   "metadata": {},
   "outputs": [],
   "source": []
  },
  {
   "cell_type": "code",
   "execution_count": null,
   "id": "94350aa0-7c5d-4c8e-9216-82ffc1c6d5de",
   "metadata": {},
   "outputs": [],
   "source": []
  }
 ],
 "metadata": {
  "kernelspec": {
   "display_name": "Python 3 (ipykernel)",
   "language": "python",
   "name": "python3"
  },
  "language_info": {
   "codemirror_mode": {
    "name": "ipython",
    "version": 3
   },
   "file_extension": ".py",
   "mimetype": "text/x-python",
   "name": "python",
   "nbconvert_exporter": "python",
   "pygments_lexer": "ipython3",
   "version": "3.10.12"
  }
 },
 "nbformat": 4,
 "nbformat_minor": 5
}
