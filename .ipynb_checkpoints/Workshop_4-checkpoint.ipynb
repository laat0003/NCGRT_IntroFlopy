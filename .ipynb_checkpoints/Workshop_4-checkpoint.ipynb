{
 "cells": [
  {
   "cell_type": "code",
   "execution_count": null,
   "id": "1a62930b-69a4-4bd4-a6c7-0b2c4d308e31",
   "metadata": {},
   "outputs": [],
   "source": []
  },
  {
   "cell_type": "markdown",
   "id": "86fd784f-cdc7-487a-ad46-957e13bc0eca",
   "metadata": {},
   "source": [
    "# Workshop 4\n",
    "Hi and welcome to the fourth workshop. In this session we will be focusing on creating input packages that use array style input. We've covered some array style input previously when building our grids so hopefully this will be a nice extension. Two boundary conditions, the ET and recharge package allow for both list and array cofiguration. Because MF6 allows for multiple instances of the same type of stress package to be included in a model you can have both an array style recharge package combined with a list one if you need that functionality. The different property packages also use array style input. These include hydraulic conductivity with the NPF package, storage with the STO package, skeletal storage, compaction and subsidence with the CSUB package, the initial conditions IC package and many groundwater transport packages use array style input. Many array style input packages allow you to forego providing an array if values are consistent across the entire array or can also be Thankfully, once you've setup a few of these packages the appraoch will become familiar and you should be able to use the same methods for all."
   ]
  },
  {
   "cell_type": "code",
   "execution_count": null,
   "id": "72b591b8-a371-40f5-be30-62aad33be05b",
   "metadata": {},
   "outputs": [],
   "source": []
  }
 ],
 "metadata": {
  "kernelspec": {
   "display_name": "Python 3 (ipykernel)",
   "language": "python",
   "name": "python3"
  },
  "language_info": {
   "codemirror_mode": {
    "name": "ipython",
    "version": 3
   },
   "file_extension": ".py",
   "mimetype": "text/x-python",
   "name": "python",
   "nbconvert_exporter": "python",
   "pygments_lexer": "ipython3",
   "version": "3.10.12"
  }
 },
 "nbformat": 4,
 "nbformat_minor": 5
}
