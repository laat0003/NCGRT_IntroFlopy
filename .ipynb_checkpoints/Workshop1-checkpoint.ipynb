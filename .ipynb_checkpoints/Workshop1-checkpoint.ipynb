{
 "cells": [
  {
   "cell_type": "markdown",
   "id": "fc452c50-6413-4a9b-b915-99ce12d9617b",
   "metadata": {},
   "source": [
    "# Workshop 1\n",
    "Hi and welcome to the first of a series of workshops on using MODFLOW-6 with Flopy.\n",
    "\n",
    "## This workshop agenda\n",
    "1. Introductions and outline (10 minutes)\n",
    "2. Setup, environment configuration and downloads (10 minutes, wishful)\n",
    "3. Flopy Github and MF6 Github (10 minutes)\n",
    "4. Simulations and models (10 minutes)\n",
    "5. Setting up your first simulation - the mfsim.nam file (10 minutes)\n",
    "6. Setting up a model - the model.nam file (10 minutes)\n",
    "7. Temporal discretisation - the tdis package (20 minutes)\n",
    "8. Spatial discretisation - DIS, DISV and DISU packages (40 minutes)\n",
    "\n",
    "    a.2D (Dupuit-Forcheimer)\n",
    "\n",
    "    b.2D -Xsection\n",
    "\n",
    "    c.3D\n"
   ]
  },
  {
   "cell_type": "markdown",
   "id": "e862a81b-c204-4acf-a4c2-5f4c09864267",
   "metadata": {},
   "source": [
    "# Imports\n",
    "These are someof the most common libraries that i use when working on building a model with flopy. You will notice that some libraries are imported with an alias.Hopefully you are all familiar with the reasons for this. If not don't worry it will become clearer later. I find it useful to always check which version of the library you are using incase you get any issues with errors that may be specific to the version of the libarray that you are using."
   ]
  },
  {
   "cell_type": "code",
   "execution_count": 17,
   "id": "6d7c2d5f-9ec4-4bf7-bd09-5881293bbca7",
   "metadata": {},
   "outputs": [
    {
     "name": "stdout",
     "output_type": "stream",
     "text": [
      "Pandas version = 2.0.3\n",
      "Numpy version = 1.25.2\n",
      "GeoPandas version = 0.13.2\n",
      "Flopy version = 3.4.1\n",
      "Pyemu version = 1.3.2\n"
     ]
    }
   ],
   "source": [
    "import os\n",
    "import sys\n",
    "import shutil\n",
    "import pandas as pd\n",
    "import numpy as np\n",
    "import geopandas as gpd\n",
    "import matplotlib.pyplot as plt\n",
    "import flopy\n",
    "import pyemu\n",
    "\n",
    "print(f\"Pandas version = {pd.__version__}\")\n",
    "print(f\"Numpy version = {np.__version__}\")\n",
    "print(f\"GeoPandas version = {gpd.__version__}\")\n",
    "print(f\"Flopy version = {flopy.__version__}\")\n",
    "print(f\"Pyemu version = {pyemu.__version__}\")"
   ]
  },
  {
   "cell_type": "markdown",
   "id": "22294fb4-424b-4803-b546-a035503bf096",
   "metadata": {},
   "source": [
    "# Setting up some folders to dump things in later\n",
    "We will be creating files and perhaps using files from other utilities so it is nice to have things organised. You can do this however you want but as a simple example you can follow what I do below. Lets first take a look at where we are in on the computer by using the os library."
   ]
  },
  {
   "cell_type": "code",
   "execution_count": 18,
   "id": "5a37b4b2-d7d9-42ce-8f37-e1e1a64f55b8",
   "metadata": {},
   "outputs": [
    {
     "data": {
      "text/plain": [
       "'c:\\\\Working\\\\NCGRT_workshops'"
      ]
     },
     "execution_count": 18,
     "metadata": {},
     "output_type": "execute_result"
    }
   ],
   "source": [
    "os.getcwd()"
   ]
  },
  {
   "cell_type": "markdown",
   "id": "a24be431-1c9f-46d0-aaf8-605d193d5357",
   "metadata": {},
   "source": [
    "The path above is where we are working right now. Lets make a new folder specific to this workshop."
   ]
  },
  {
   "cell_type": "code",
   "execution_count": 19,
   "id": "cbae53c1-d936-4e6b-9cdc-52570e829bb3",
   "metadata": {},
   "outputs": [],
   "source": [
    "ws1 = os.path.join('workshop_1') # here we are making a path not creating the folder\n",
    "if os.path.exists(ws1): # here we are asking if the path exists on the computer. \n",
    "    pass # if it does exist do nothing\n",
    "else:\n",
    "    os.mkdir(ws1) # if it doesn't exist then make the folder"
   ]
  },
  {
   "cell_type": "markdown",
   "id": "153a0689-1d9c-46a2-a73f-2968913c2096",
   "metadata": {},
   "source": [
    "Lets make a few extra paths to folders that we will use later. Notice how the workshop_1 folder path (which is ws1) is now the first in the join chain. This means that the paths we are making will be sub-directories of the workshop_1 folder."
   ]
  },
  {
   "cell_type": "code",
   "execution_count": 20,
   "id": "2f8a654d-3be9-4dda-8bb5-6545b4ef5770",
   "metadata": {},
   "outputs": [],
   "source": [
    "gis_f = os.path.join(ws1,'GIS') # creating a sub-directory path for our gis input/output\n",
    "model_f = os.path.join(ws1,'model') # creating a sub-directory path for our model input/output\n",
    "plots_f = os.path.join(ws1,'plots') # creating a sub-directory path for our plots"
   ]
  },
  {
   "cell_type": "markdown",
   "id": "878f2ba5-c21b-4db4-8431-7ab38361df5f",
   "metadata": {},
   "source": [
    "Now we will make a few sub-directories inside our workshop folder by using a for loop from a list of strings called subdirectory_list. Once you execute the code below check you floder for the subdirectories."
   ]
  },
  {
   "cell_type": "code",
   "execution_count": 21,
   "id": "e4dc1031-859e-4c00-b6f3-82bef183db4f",
   "metadata": {},
   "outputs": [],
   "source": [
    "subdirectory_pathlist = [gis_f,model_f,plots_f] # this is our list of sub-directory paths, each one is a path string\n",
    "for path in subdirectory_pathlist: # for each path in the list above\n",
    "    if os.path.exists(path): # check if the folder already exists\n",
    "        pass # if it does exist then do nothing\n",
    "    else:\n",
    "        os.mkdir(path) # otherwise make the folder"
   ]
  },
  {
   "cell_type": "markdown",
   "id": "d5eb4063-bc9d-4597-a59e-7c9a7182e1b1",
   "metadata": {},
   "source": [
    "# Setting up a MF6 simulation\n",
    "The simulation is required for all MF6 modelling work. What you are creating here is the mfsim.nam file. This is the file at the highest level when it comes to all modelling work in you specfic project using mf6. The mfsim.nam file is what the MF6 executable will look for as soon as you try to run a model in you project folder."
   ]
  },
  {
   "cell_type": "code",
   "execution_count": 22,
   "id": "bdfd06ea-3fc4-4a6d-a513-77952bc3b97b",
   "metadata": {},
   "outputs": [],
   "source": [
    "sim_name = \"MySim\" # give your simulation a name, usually I use a project name but this is entirley up to you\n",
    "sim = flopy.mf6.MFSimulation(sim_name=sim_name, \n",
    "                             exe_name=\"mf6\", # this is a path to your exe for mf6, if it is available system wide then all you need is \"mf6\"\n",
    "                             verbosity_level=1, # this is optional but can be handy\n",
    "                             sim_ws=model_f) # this one is mandatory to make sure that the model files are created in the folder we want"
   ]
  },
  {
   "cell_type": "markdown",
   "id": "f996ccf7-6cbf-4351-82be-b12756afd606",
   "metadata": {},
   "source": [
    "Now we can't write the mfsim.nam file yet until we create a few other packages. The minimum package set required before you can write a simulation is\n",
    "the simulation or SIM package, the time discretization or TDIS package, the solver or IMS package. But we can have a look at the package object just by calling it. These are all simulation level packages. By that Imean that they are specifc to a simulation as opposed to a package that is specific to a model. Recall that a simualtion can have multiple models."
   ]
  },
  {
   "cell_type": "code",
   "execution_count": 23,
   "id": "b70b4257-fbe9-4985-872b-f483340b2833",
   "metadata": {},
   "outputs": [],
   "source": [
    "import ws1_model"
   ]
  },
  {
   "cell_type": "code",
   "execution_count": 24,
   "id": "72492a9d-2967-479f-b2d3-4d228c4e6a7f",
   "metadata": {},
   "outputs": [
    {
     "name": "stdout",
     "output_type": "stream",
     "text": [
      "FloPy is using the following executable to run the model: ..\\..\\..\\..\\mffiles\\mf6.exe\n",
      "                                   MODFLOW 6\n",
      "                U.S. GEOLOGICAL SURVEY MODULAR HYDROLOGIC MODEL\n",
      "                            VERSION 6.4.2 06/28/2023\n",
      "\n",
      "   MODFLOW 6 compiled Jul 05 2023 20:31:54 with Intel(R) Fortran Intel(R) 64\n",
      "   Compiler Classic for applications running on Intel(R) 64, Version 2021.7.0\n",
      "                             Build 20220726_000000\n",
      "\n",
      "This software has been approved for release by the U.S. Geological \n",
      "Survey (USGS). Although the software has been subjected to rigorous \n",
      "review, the USGS reserves the right to update the software as needed \n",
      "pursuant to further analysis and review. No warranty, expressed or \n",
      "implied, is made by the USGS or the U.S. Government as to the \n",
      "functionality of the software and related material nor shall the \n",
      "fact of release constitute any such warranty. Furthermore, the \n",
      "software is released on condition that neither the USGS nor the U.S. \n",
      "Government shall be held liable for any damages resulting from its \n",
      "authorized or unauthorized use. Also refer to the USGS Water \n",
      "Resources Software User Rights Notice for complete use, copyright, \n",
      "and distribution information.\n",
      "\n",
      " \n",
      " Run start date and time (yyyy/mm/dd hh:mm:ss): 2023/09/13 20:09:33\n",
      " \n",
      " Writing simulation list file: mfsim.lst\n",
      " Using Simulation name file: mfsim.nam\n",
      " \n",
      "\n",
      "ERROR REPORT:\n",
      "\n",
      "  1. Error: Required block \"TIMING\" not found. Found block \"EXCHANGES\"\n",
      "     instead.\n",
      "\n",
      "UNIT ERROR REPORT:\n",
      "\n",
      "  1. Error occurred while reading file\n",
      "     'c:\\Working\\NCGRT_workshops\\workshop_1\\model\\mfsim.nam'\n"
     ]
    },
    {
     "data": {
      "text/plain": [
       "(False, [])"
      ]
     },
     "execution_count": 24,
     "metadata": {},
     "output_type": "execute_result"
    }
   ],
   "source": [
    "sim.write_simulation()"
   ]
  },
  {
   "cell_type": "code",
   "execution_count": null,
   "id": "49e13774-bd06-44c6-ba85-f81d69cdd2f1",
   "metadata": {},
   "outputs": [],
   "source": []
  }
 ],
 "metadata": {
  "kernelspec": {
   "display_name": "Python 3 (ipykernel)",
   "language": "python",
   "name": "python3"
  },
  "language_info": {
   "codemirror_mode": {
    "name": "ipython",
    "version": 3
   },
   "file_extension": ".py",
   "mimetype": "text/x-python",
   "name": "python",
   "nbconvert_exporter": "python",
   "pygments_lexer": "ipython3",
   "version": "3.10.12"
  }
 },
 "nbformat": 4,
 "nbformat_minor": 5
}
