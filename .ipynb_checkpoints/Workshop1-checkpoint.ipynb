{
 "cells": [
  {
   "cell_type": "markdown",
   "id": "fc452c50-6413-4a9b-b915-99ce12d9617b",
   "metadata": {},
   "source": [
    "# Workshop 1\n",
    "Hi and welcome to the first of a series of workshops on using MODFLOW-6 with Flopy.\n",
    "\n",
    "## This workshop agenda\n",
    "1. Introductions and outline (10 minutes)\n",
    "2. Setup, environment configuration and downloads (10 minutes, wishful)\n",
    "3. Flopy Github and MF6 Github (10 minutes)\n",
    "4. Simulations and models (10 minutes)\n",
    "5. Setting up your first simulation - the mfsim.nam file (10 minutes)\n",
    "6. Setting up a model - the model.nam file (10 minutes)\n",
    "7. Temporal discretisation - the tdis package (20 minutes)\n",
    "8. Spatial discretisation - DIS, DISV and DISU packages (40 minutes)\n",
    "\n",
    "    a.2D (Dupuit-Forcheimer)\n",
    "\n",
    "    b.2D -Xsection\n",
    "\n",
    "    c.3D\n"
   ]
  },
  {
   "cell_type": "markdown",
   "id": "14a6b715-7f3d-48b1-873c-7d717a5384c5",
   "metadata": {},
   "source": [
    "# Imports\n",
    "These are someof the most common libraries that i use when working on building a model with flopy. You will notice that some libraries are imported with an alias. Hopefully you are all familiar with the reasons for this. If not don't worry it will become clearer later. I find it useful to always check which version of the library you are using in case you get any issues with errors that may be specific to the version of the library that you are using."
   ]
  },
  {
   "cell_type": "code",
   "execution_count": 1,
   "id": "6d7c2d5f-9ec4-4bf7-bd09-5881293bbca7",
   "metadata": {},
   "outputs": [
    {
     "name": "stdout",
     "output_type": "stream",
     "text": [
      "Pandas version = 2.0.3\n",
      "Numpy version = 1.25.2\n",
      "GeoPandas version = 0.13.2\n",
      "Flopy version = 3.4.1\n",
      "Pyemu version = 1.3.2\n"
     ]
    }
   ],
   "source": [
    "import os\n",
    "import sys\n",
    "import shutil\n",
    "import pandas as pd\n",
    "import numpy as np\n",
    "import geopandas as gpd\n",
    "import matplotlib.pyplot as plt\n",
    "import flopy\n",
    "import pyemu\n",
    "\n",
    "print(f\"Pandas version = {pd.__version__}\")\n",
    "print(f\"Numpy version = {np.__version__}\")\n",
    "print(f\"GeoPandas version = {gpd.__version__}\")\n",
    "print(f\"Flopy version = {flopy.__version__}\")\n",
    "print(f\"Pyemu version = {pyemu.__version__}\")"
   ]
  },
  {
   "cell_type": "markdown",
   "id": "c25ffcbe-c95d-46aa-8ccd-90ca7480edc2",
   "metadata": {},
   "source": [
    "# Setting up some folders to dump things in later\n",
    "We will be creating files and perhaps using files from other utilities so it is nice to have things organised. You can do this however you want but as a simple example you can follow what I do below. Lets first take a look at where we are on the computer by using the os library."
   ]
  },
  {
   "cell_type": "code",
   "execution_count": 2,
   "id": "5a37b4b2-d7d9-42ce-8f37-e1e1a64f55b8",
   "metadata": {},
   "outputs": [
    {
     "data": {
      "text/plain": [
       "'c:\\\\Working\\\\NCGRT_IntroFlopy'"
      ]
     },
     "execution_count": 2,
     "metadata": {},
     "output_type": "execute_result"
    }
   ],
   "source": [
    "os.getcwd()"
   ]
  },
  {
   "cell_type": "markdown",
   "id": "a24be431-1c9f-46d0-aaf8-605d193d5357",
   "metadata": {},
   "source": [
    "The path above is where we are working right now. Lets make a new folder specific to this workshop."
   ]
  },
  {
   "cell_type": "code",
   "execution_count": 3,
   "id": "cbae53c1-d936-4e6b-9cdc-52570e829bb3",
   "metadata": {},
   "outputs": [],
   "source": [
    "ws1 = os.path.join('workshop_1') # here we are making a path not creating the folder\n",
    "if os.path.exists(ws1): # here we are asking if the path exists on the computer. \n",
    "    pass # if it does exist, do nothing\n",
    "else:\n",
    "    os.mkdir(ws1) # if it doesn't exist then make the folder"
   ]
  },
  {
   "cell_type": "markdown",
   "id": "ad12760f-27e9-41c0-ac81-e1292f033f19",
   "metadata": {},
   "source": [
    "Lets make a few extra paths to folders that we will use later. Notice how the workshop_1 folder path (which is ws1) is now the first entry in the join chain. This means that the paths we are making will be sub-directories of the workshop_1 folder."
   ]
  },
  {
   "cell_type": "code",
   "execution_count": 4,
   "id": "2f8a654d-3be9-4dda-8bb5-6545b4ef5770",
   "metadata": {},
   "outputs": [],
   "source": [
    "gis_f = os.path.join(ws1,'GIS') # creating a sub-directory path for our gis input/output\n",
    "model_f = os.path.join(ws1,'model') # creating a sub-directory path for our model input/output\n",
    "plots_f = os.path.join(ws1,'plots') # creating a sub-directory path for our plots"
   ]
  },
  {
   "cell_type": "markdown",
   "id": "22facd22-9633-41f3-a7fd-060e993f1bcb",
   "metadata": {},
   "source": [
    "Now we will make a few sub-directories inside our workshop folder by using a for loop from a list of strings called subdirectory_list. Once you execute the code below check you folder for the subdirectories."
   ]
  },
  {
   "cell_type": "code",
   "execution_count": 5,
   "id": "e4dc1031-859e-4c00-b6f3-82bef183db4f",
   "metadata": {},
   "outputs": [],
   "source": [
    "subdirectory_pathlist = [gis_f,model_f,plots_f] # this is our list of sub-directory paths, each one is a path string\n",
    "for path in subdirectory_pathlist: # for each path in the list above\n",
    "    if os.path.exists(path): # check if the folder already exists\n",
    "        pass # if it does exist then do nothing\n",
    "    else:\n",
    "        os.mkdir(path) # otherwise make the folder"
   ]
  },
  {
   "cell_type": "markdown",
   "id": "a3474ed7-c5e2-46be-b51d-5c7bc6c51c94",
   "metadata": {},
   "source": [
    "# Setting up a MF6 simulation\n",
    "The simulation namefiel is required for all MF6 modelling work. What you are creating next is the mfsim.nam file. This is the file at the highest level when it comes to all modelling work in you specfic project using mf6. The mfsim.nam file is what the MF6 executable will look for as soon as you try to run a model in you project folder."
   ]
  },
  {
   "cell_type": "code",
   "execution_count": 6,
   "id": "bdfd06ea-3fc4-4a6d-a513-77952bc3b97b",
   "metadata": {},
   "outputs": [],
   "source": [
    "sim_name = \"MySim\" # give your simulation a name, usually I use a project name but this is entirley up to you\n",
    "sim = flopy.mf6.MFSimulation(sim_name=sim_name, \n",
    "                             exe_name=\"mf6\", # this is a path to your exe for mf6, if it is available system wide then all you need is \"mf6\"\n",
    "                             verbosity_level=1, # this is optional but can be handy\n",
    "                             sim_ws=model_f) # this one is mandatory if you want to make sure that the model files are created in the folder we want"
   ]
  },
  {
   "cell_type": "markdown",
   "id": "0c9852bb-410a-43dc-b930-ba66d5a6a2b6",
   "metadata": {},
   "source": [
    "Lets see if we can write the mfsim.nam file using Flopy's package write function."
   ]
  },
  {
   "cell_type": "code",
   "execution_count": 7,
   "id": "1602822b-e141-4d1f-857d-b7e83471d37a",
   "metadata": {},
   "outputs": [
    {
     "name": "stdout",
     "output_type": "stream",
     "text": [
      "writing simulation...\n",
      "  writing simulation name file...\n",
      "  writing simulation tdis package...\n"
     ]
    },
    {
     "ename": "AttributeError",
     "evalue": "'NoneType' object has no attribute 'write'",
     "output_type": "error",
     "traceback": [
      "\u001b[1;31m---------------------------------------------------------------------------\u001b[0m",
      "\u001b[1;31mAttributeError\u001b[0m                            Traceback (most recent call last)",
      "Cell \u001b[1;32mIn[7], line 1\u001b[0m\n\u001b[1;32m----> 1\u001b[0m \u001b[43msim\u001b[49m\u001b[38;5;241;43m.\u001b[39;49m\u001b[43mwrite_simulation\u001b[49m\u001b[43m(\u001b[49m\u001b[43m)\u001b[49m\n",
      "File \u001b[1;32mC:\\ProgramData\\miniconda3\\envs\\model_env\\lib\\site-packages\\flopy\\mf6\\modflow\\mfsimulation.py:1503\u001b[0m, in \u001b[0;36mMFSimulation.write_simulation\u001b[1;34m(self, ext_file_action, silent)\u001b[0m\n\u001b[0;32m   1498\u001b[0m \u001b[38;5;28;01mif\u001b[39;00m (\n\u001b[0;32m   1499\u001b[0m     \u001b[38;5;28mself\u001b[39m\u001b[38;5;241m.\u001b[39msimulation_data\u001b[38;5;241m.\u001b[39mverbosity_level\u001b[38;5;241m.\u001b[39mvalue\n\u001b[0;32m   1500\u001b[0m     \u001b[38;5;241m>\u001b[39m\u001b[38;5;241m=\u001b[39m VerbosityLevel\u001b[38;5;241m.\u001b[39mnormal\u001b[38;5;241m.\u001b[39mvalue\n\u001b[0;32m   1501\u001b[0m ):\n\u001b[0;32m   1502\u001b[0m     \u001b[38;5;28mprint\u001b[39m(\u001b[38;5;124m\"\u001b[39m\u001b[38;5;124m  writing simulation tdis package...\u001b[39m\u001b[38;5;124m\"\u001b[39m)\n\u001b[1;32m-> 1503\u001b[0m \u001b[38;5;28;43mself\u001b[39;49m\u001b[38;5;241;43m.\u001b[39;49m\u001b[43m_tdis_file\u001b[49m\u001b[38;5;241;43m.\u001b[39;49m\u001b[43mwrite\u001b[49m(ext_file_action\u001b[38;5;241m=\u001b[39mext_file_action)\n\u001b[0;32m   1505\u001b[0m \u001b[38;5;66;03m# write solution files\u001b[39;00m\n\u001b[0;32m   1506\u001b[0m \u001b[38;5;28;01mfor\u001b[39;00m solution_file \u001b[38;5;129;01min\u001b[39;00m \u001b[38;5;28mself\u001b[39m\u001b[38;5;241m.\u001b[39m_solution_files\u001b[38;5;241m.\u001b[39mvalues():\n",
      "\u001b[1;31mAttributeError\u001b[0m: 'NoneType' object has no attribute 'write'"
     ]
    }
   ],
   "source": [
    "sim.write_simulation()"
   ]
  },
  {
   "cell_type": "markdown",
   "id": "3f42cdf8-cf15-4eb2-9d14-ece08f81a8f9",
   "metadata": {},
   "source": [
    "Hmm, looks like it failed trying to find the tdis package object but it did succeed in writing the mfsim.nam file before failing. The write_simualtion() method expects a certain number of package objects to be present or it will fail. We'll discuss this more later but for now let's take a quick peek at the mfsim.nam file. You can execute the code below to view the contents of the file or alternativley open the file in its folder with your favourite text editor. Do you know where to look for the file?"
   ]
  },
  {
   "cell_type": "code",
   "execution_count": 8,
   "id": "d1d59e5c-7760-44fb-aa15-a559c22ee8b9",
   "metadata": {},
   "outputs": [
    {
     "name": "stdout",
     "output_type": "stream",
     "text": [
      "# File generated by Flopy version 3.4.1 on 09/15/2023 at 20:20:41.\n",
      "BEGIN options\n",
      "END options\n",
      "\n",
      "BEGIN exchanges\n",
      "END exchanges\n",
      "\n"
     ]
    }
   ],
   "source": [
    "_ = [print(line.rstrip()) for line in open(os.path.join(model_f,\"mfsim.nam\"))]"
   ]
  },
  {
   "cell_type": "markdown",
   "id": "4c949753-33a3-4ca3-8591-f2b67d1ae846",
   "metadata": {},
   "source": [
    "Open the mf6io.pdf document to see what else could be in this file if we did things a bit differently.\n",
    "We will discuss what the other sections are in the document and whether you add them explicitly to the sim object of if Flopy will handle that for you."
   ]
  },
  {
   "cell_type": "markdown",
   "id": "e6595a5f-6cfe-410c-a53c-5398140fa2ff",
   "metadata": {},
   "source": [
    "Things to think about.\n",
    "\n",
    "Can I remake the object? Can a simulation have more than one simulation object? Are there any conflicts with options? What happens if enter something incorrectly? Try to remake the sim object with all options turned on."
   ]
  },
  {
   "cell_type": "code",
   "execution_count": 16,
   "id": "289ea2cf-f338-43db-bbe4-c5aa0c62e15a",
   "metadata": {},
   "outputs": [],
   "source": [
    "sim = flopy.mf6.MFSimulation(sim_name=sim_name, \n",
    "                             exe_name=\"mf6\", # this is a path to your exe for mf6, if it is available system wide then all you need is \"mf6\"\n",
    "                             verbosity_level=1, # this is optional but can be handy\n",
    "                             sim_ws=model_f, # this one is mandatory if you want to make sure that the model files are created in the folder we want\n",
    "                             continue_=True,\n",
    "                             nocheck=True,\n",
    "                             lazy_io=True,\n",
    "                             memory_print_option=\"ALL\",\n",
    "                             write_headers=False) "
   ]
  },
  {
   "cell_type": "code",
   "execution_count": 17,
   "id": "b6b2421c-f931-46ab-adf1-289ecf965d04",
   "metadata": {},
   "outputs": [
    {
     "name": "stdout",
     "output_type": "stream",
     "text": [
      "writing simulation...\n",
      "  writing simulation name file...\n",
      "  writing simulation tdis package...\n"
     ]
    },
    {
     "ename": "AttributeError",
     "evalue": "'NoneType' object has no attribute 'write'",
     "output_type": "error",
     "traceback": [
      "\u001b[1;31m---------------------------------------------------------------------------\u001b[0m",
      "\u001b[1;31mAttributeError\u001b[0m                            Traceback (most recent call last)",
      "Cell \u001b[1;32mIn[17], line 1\u001b[0m\n\u001b[1;32m----> 1\u001b[0m \u001b[43msim\u001b[49m\u001b[38;5;241;43m.\u001b[39;49m\u001b[43mwrite_simulation\u001b[49m\u001b[43m(\u001b[49m\u001b[43m)\u001b[49m\n",
      "File \u001b[1;32mC:\\ProgramData\\miniconda3\\envs\\model_env\\lib\\site-packages\\flopy\\mf6\\modflow\\mfsimulation.py:1503\u001b[0m, in \u001b[0;36mMFSimulation.write_simulation\u001b[1;34m(self, ext_file_action, silent)\u001b[0m\n\u001b[0;32m   1498\u001b[0m \u001b[38;5;28;01mif\u001b[39;00m (\n\u001b[0;32m   1499\u001b[0m     \u001b[38;5;28mself\u001b[39m\u001b[38;5;241m.\u001b[39msimulation_data\u001b[38;5;241m.\u001b[39mverbosity_level\u001b[38;5;241m.\u001b[39mvalue\n\u001b[0;32m   1500\u001b[0m     \u001b[38;5;241m>\u001b[39m\u001b[38;5;241m=\u001b[39m VerbosityLevel\u001b[38;5;241m.\u001b[39mnormal\u001b[38;5;241m.\u001b[39mvalue\n\u001b[0;32m   1501\u001b[0m ):\n\u001b[0;32m   1502\u001b[0m     \u001b[38;5;28mprint\u001b[39m(\u001b[38;5;124m\"\u001b[39m\u001b[38;5;124m  writing simulation tdis package...\u001b[39m\u001b[38;5;124m\"\u001b[39m)\n\u001b[1;32m-> 1503\u001b[0m \u001b[38;5;28;43mself\u001b[39;49m\u001b[38;5;241;43m.\u001b[39;49m\u001b[43m_tdis_file\u001b[49m\u001b[38;5;241;43m.\u001b[39;49m\u001b[43mwrite\u001b[49m(ext_file_action\u001b[38;5;241m=\u001b[39mext_file_action)\n\u001b[0;32m   1505\u001b[0m \u001b[38;5;66;03m# write solution files\u001b[39;00m\n\u001b[0;32m   1506\u001b[0m \u001b[38;5;28;01mfor\u001b[39;00m solution_file \u001b[38;5;129;01min\u001b[39;00m \u001b[38;5;28mself\u001b[39m\u001b[38;5;241m.\u001b[39m_solution_files\u001b[38;5;241m.\u001b[39mvalues():\n",
      "\u001b[1;31mAttributeError\u001b[0m: 'NoneType' object has no attribute 'write'"
     ]
    }
   ],
   "source": [
    "sim.write_simulation()"
   ]
  },
  {
   "cell_type": "code",
   "execution_count": 18,
   "id": "fdebd91d-269a-44a6-9235-1182ac74f83a",
   "metadata": {},
   "outputs": [
    {
     "name": "stdout",
     "output_type": "stream",
     "text": [
      "BEGIN options\n",
      "  CONTINUE\n",
      "  NOCHECK\n",
      "  MEMORY_PRINT_OPTION  all\n",
      "END options\n",
      "\n",
      "BEGIN exchanges\n",
      "END exchanges\n",
      "\n"
     ]
    }
   ],
   "source": [
    "_ = [print(line.rstrip()) for line in open(os.path.join(model_f,\"mfsim.nam\"))]"
   ]
  },
  {
   "cell_type": "markdown",
   "id": "6cca8bf3-a60e-460d-9018-7aa5b9e44132",
   "metadata": {},
   "source": [
    "Wait a minute what about maxerrors?"
   ]
  },
  {
   "cell_type": "code",
   "execution_count": 44,
   "id": "765f470f-e40f-4ba4-b83f-6976e90baadd",
   "metadata": {},
   "outputs": [
    {
     "data": {
      "text/plain": [
       "{('continue',): <flopy.mf6.data.mfstructure.MFDataStructure at 0x1d037e80040>,\n",
       " ('nocheck',): <flopy.mf6.data.mfstructure.MFDataStructure at 0x1d037e0f850>,\n",
       " ('memory_print_option',): <flopy.mf6.data.mfstructure.MFDataStructure at 0x1d037e0ffa0>,\n",
       " ('maxerrors',): <flopy.mf6.data.mfstructure.MFDataStructure at 0x1d037ca35b0>,\n",
       " ('print_input',): <flopy.mf6.data.mfstructure.MFDataStructure at 0x1d037d15060>}"
      ]
     },
     "execution_count": 44,
     "metadata": {},
     "output_type": "execute_result"
    }
   ],
   "source": [
    "sim.package_filename_dict['mfsim.nam'].blocks['options'].datasets_keyword"
   ]
  },
  {
   "cell_type": "markdown",
   "id": "a8b56478-2d2d-41a7-ad37-1adfbfc018bb",
   "metadata": {},
   "source": [
    "Hmm, it looks like it should be there."
   ]
  },
  {
   "cell_type": "code",
   "execution_count": 49,
   "id": "b6cae287-9e86-4cab-8781-b13ef45381bd",
   "metadata": {},
   "outputs": [
    {
     "ename": "TypeError",
     "evalue": "MFSimulation.__init__() got an unexpected keyword argument 'maxerrors'",
     "output_type": "error",
     "traceback": [
      "\u001b[1;31m---------------------------------------------------------------------------\u001b[0m",
      "\u001b[1;31mTypeError\u001b[0m                                 Traceback (most recent call last)",
      "Cell \u001b[1;32mIn[49], line 1\u001b[0m\n\u001b[1;32m----> 1\u001b[0m sim \u001b[38;5;241m=\u001b[39m \u001b[43mflopy\u001b[49m\u001b[38;5;241;43m.\u001b[39;49m\u001b[43mmf6\u001b[49m\u001b[38;5;241;43m.\u001b[39;49m\u001b[43mMFSimulation\u001b[49m\u001b[43m(\u001b[49m\u001b[43msim_name\u001b[49m\u001b[38;5;241;43m=\u001b[39;49m\u001b[43msim_name\u001b[49m\u001b[43m,\u001b[49m\u001b[43m \u001b[49m\n\u001b[0;32m      2\u001b[0m \u001b[43m                             \u001b[49m\u001b[43mexe_name\u001b[49m\u001b[38;5;241;43m=\u001b[39;49m\u001b[38;5;124;43m\"\u001b[39;49m\u001b[38;5;124;43mmf6\u001b[39;49m\u001b[38;5;124;43m\"\u001b[39;49m\u001b[43m,\u001b[49m\u001b[43m \u001b[49m\u001b[38;5;66;43;03m# this is a path to your exe for mf6, if it is available system wide then all you need is \"mf6\"\u001b[39;49;00m\n\u001b[0;32m      3\u001b[0m \u001b[43m                             \u001b[49m\u001b[43mverbosity_level\u001b[49m\u001b[38;5;241;43m=\u001b[39;49m\u001b[38;5;241;43m1\u001b[39;49m\u001b[43m,\u001b[49m\u001b[43m \u001b[49m\u001b[38;5;66;43;03m# this is optional but can be handy\u001b[39;49;00m\n\u001b[0;32m      4\u001b[0m \u001b[43m                             \u001b[49m\u001b[43msim_ws\u001b[49m\u001b[38;5;241;43m=\u001b[39;49m\u001b[43mmodel_f\u001b[49m\u001b[43m,\u001b[49m\u001b[43m \u001b[49m\u001b[38;5;66;43;03m# this one is mandatory if you want to make sure that the model files are created in the folder we want\u001b[39;49;00m\n\u001b[0;32m      5\u001b[0m \u001b[43m                             \u001b[49m\u001b[43mcontinue_\u001b[49m\u001b[38;5;241;43m=\u001b[39;49m\u001b[38;5;28;43;01mTrue\u001b[39;49;00m\u001b[43m,\u001b[49m\n\u001b[0;32m      6\u001b[0m \u001b[43m                             \u001b[49m\u001b[43mnocheck\u001b[49m\u001b[38;5;241;43m=\u001b[39;49m\u001b[38;5;28;43;01mFalse\u001b[39;49;00m\u001b[43m,\u001b[49m\n\u001b[0;32m      7\u001b[0m \u001b[43m                             \u001b[49m\u001b[43mlazy_io\u001b[49m\u001b[38;5;241;43m=\u001b[39;49m\u001b[38;5;28;43;01mTrue\u001b[39;49;00m\u001b[43m,\u001b[49m\n\u001b[0;32m      8\u001b[0m \u001b[43m                             \u001b[49m\u001b[43mmemory_print_option\u001b[49m\u001b[38;5;241;43m=\u001b[39;49m\u001b[38;5;124;43m\"\u001b[39;49m\u001b[38;5;124;43mALL\u001b[39;49m\u001b[38;5;124;43m\"\u001b[39;49m\u001b[43m,\u001b[49m\n\u001b[0;32m      9\u001b[0m \u001b[43m                             \u001b[49m\u001b[43mwrite_headers\u001b[49m\u001b[38;5;241;43m=\u001b[39;49m\u001b[38;5;28;43;01mFalse\u001b[39;49;00m\u001b[43m,\u001b[49m\n\u001b[0;32m     10\u001b[0m \u001b[43m                             \u001b[49m\u001b[43mmaxerrors\u001b[49m\u001b[38;5;241;43m=\u001b[39;49m\u001b[38;5;241;43m20\u001b[39;49m\u001b[43m)\u001b[49m \n",
      "\u001b[1;31mTypeError\u001b[0m: MFSimulation.__init__() got an unexpected keyword argument 'maxerrors'"
     ]
    }
   ],
   "source": [
    "sim = flopy.mf6.MFSimulation(sim_name=sim_name, \n",
    "                             exe_name=\"mf6\", # this is a path to your exe for mf6, if it is available system wide then all you need is \"mf6\"\n",
    "                             verbosity_level=1, # this is optional but can be handy\n",
    "                             sim_ws=model_f, # this one is mandatory if you want to make sure that the model files are created in the folder we want\n",
    "                             continue_=True,\n",
    "                             nocheck=False,\n",
    "                             lazy_io=True,\n",
    "                             memory_print_option=\"ALL\",\n",
    "                             write_headers=False,\n",
    "                             maxerrors=20) "
   ]
  },
  {
   "cell_type": "markdown",
   "id": "3a53144a-89ce-4fd4-9505-1f22dec05760",
   "metadata": {},
   "source": [
    "Out of options. Time to go to GitHub or dig into the source code."
   ]
  },
  {
   "cell_type": "code",
   "execution_count": 7,
   "id": "b70b4257-fbe9-4985-872b-f483340b2833",
   "metadata": {},
   "outputs": [
    {
     "data": {
      "text/plain": [
       "()"
      ]
     },
     "execution_count": 7,
     "metadata": {},
     "output_type": "execute_result"
    }
   ],
   "source": [
    "from helpers import ws1_mod\n",
    "ws1_mod(sim)"
   ]
  },
  {
   "cell_type": "code",
   "execution_count": 8,
   "id": "72492a9d-2967-479f-b2d3-4d228c4e6a7f",
   "metadata": {},
   "outputs": [
    {
     "name": "stdout",
     "output_type": "stream",
     "text": [
      "writing simulation...\n",
      "  writing simulation name file...\n",
      "  writing simulation tdis package...\n",
      "  writing solution package ims_-1...\n",
      "  writing model MyModel...\n",
      "    writing model name file...\n",
      "    writing package dis...\n",
      "    writing package ic...\n",
      "    writing package npf...\n",
      "    writing package chd_0...\n",
      "INFORMATION: maxbound in ('gwf6', 'chd', 'dimensions') changed to 2 based on size of stress_period_data\n",
      "    writing package oc...\n"
     ]
    }
   ],
   "source": [
    "sim.write_simulation()"
   ]
  },
  {
   "cell_type": "code",
   "execution_count": 9,
   "id": "49e13774-bd06-44c6-ba85-f81d69cdd2f1",
   "metadata": {},
   "outputs": [
    {
     "data": {
      "text/plain": [
       "sim_name = MySim\n",
       "sim_path = c:\\Working\\NCGRT_workshops\\workshop_1\\model\n",
       "exe_name = mf6\n",
       "\n",
       "###################\n",
       "Package mfsim.nam\n",
       "###################\n",
       "\n",
       "package_name = mfsim.nam\n",
       "filename = mfsim.nam\n",
       "package_type = nam\n",
       "model_or_simulation_package = simulation\n",
       "simulation_name = MySim\n",
       "\n",
       "\n",
       "###################\n",
       "Package MySim.tdis\n",
       "###################\n",
       "\n",
       "package_name = MySim.tdis\n",
       "filename = MySim.tdis\n",
       "package_type = tdis\n",
       "model_or_simulation_package = simulation\n",
       "simulation_name = MySim\n",
       "\n",
       "\n",
       "###################\n",
       "Package ims_-1\n",
       "###################\n",
       "\n",
       "package_name = ims_-1\n",
       "filename = MySim.ims\n",
       "package_type = ims\n",
       "model_or_simulation_package = simulation\n",
       "simulation_name = MySim\n",
       "\n",
       "\n",
       "@@@@@@@@@@@@@@@@@@@@\n",
       "Model MyModel\n",
       "@@@@@@@@@@@@@@@@@@@@\n",
       "\n",
       "name = MyModel\n",
       "model_type = gwf6\n",
       "version = mf6\n",
       "model_relative_path = .\n",
       "\n",
       "###################\n",
       "Package dis\n",
       "###################\n",
       "\n",
       "package_name = dis\n",
       "filename = MyModel.dis\n",
       "package_type = dis\n",
       "model_or_simulation_package = model\n",
       "model_name = MyModel\n",
       "\n",
       "\n",
       "###################\n",
       "Package ic\n",
       "###################\n",
       "\n",
       "package_name = ic\n",
       "filename = MyModel.ic\n",
       "package_type = ic\n",
       "model_or_simulation_package = model\n",
       "model_name = MyModel\n",
       "\n",
       "\n",
       "###################\n",
       "Package npf\n",
       "###################\n",
       "\n",
       "package_name = npf\n",
       "filename = MyModel.npf\n",
       "package_type = npf\n",
       "model_or_simulation_package = model\n",
       "model_name = MyModel\n",
       "\n",
       "\n",
       "###################\n",
       "Package chd_0\n",
       "###################\n",
       "\n",
       "package_name = chd_0\n",
       "filename = MyModel.chd\n",
       "package_type = chd\n",
       "model_or_simulation_package = model\n",
       "model_name = MyModel\n",
       "\n",
       "\n",
       "###################\n",
       "Package oc\n",
       "###################\n",
       "\n",
       "package_name = oc\n",
       "filename = MyModel.oc\n",
       "package_type = oc\n",
       "model_or_simulation_package = model\n",
       "model_name = MyModel\n",
       "\n",
       "\n"
      ]
     },
     "execution_count": 9,
     "metadata": {},
     "output_type": "execute_result"
    }
   ],
   "source": []
  },
  {
   "cell_type": "code",
   "execution_count": null,
   "id": "fe8ac413-3373-4851-84dc-ebbd5acd0ad4",
   "metadata": {},
   "outputs": [],
   "source": []
  }
 ],
 "metadata": {
  "kernelspec": {
   "display_name": "Python 3 (ipykernel)",
   "language": "python",
   "name": "python3"
  },
  "language_info": {
   "codemirror_mode": {
    "name": "ipython",
    "version": 3
   },
   "file_extension": ".py",
   "mimetype": "text/x-python",
   "name": "python",
   "nbconvert_exporter": "python",
   "pygments_lexer": "ipython3",
   "version": "3.10.12"
  }
 },
 "nbformat": 4,
 "nbformat_minor": 5
}
