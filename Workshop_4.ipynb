{
 "cells": [
  {
   "cell_type": "code",
   "execution_count": null,
   "id": "1a62930b-69a4-4bd4-a6c7-0b2c4d308e31",
   "metadata": {},
   "outputs": [],
   "source": []
  },
  {
   "cell_type": "markdown",
   "id": "86fd784f-cdc7-487a-ad46-957e13bc0eca",
   "metadata": {},
   "source": [
    "# Workshop 4\n",
    "Hi and welcome to the fourth workshop. In this session we will be focusing on creating input packages that use array style input. We've covered some array style input previously when building our grids so hopefully this will be a nice extension. Two boundary conditions, the ET and recharge package allow for both list and array cofiguration. Because MF6 allows for multiple instances of the same type of stress package to be included in a model you can have both an array style recharge package combined with a list one if you need that functionality. The different property packages also use array style input. These include hydraulic conductivity with the NPF package, storage with the STO package, skeletal storage, compaction and subsidence with the CSUB package, the initial conditions IC package and many groundwater transport packages use array style input. Many array style input packages allow you to forego providing an array if values are consistent across the entire array or can also be Thankfully, once you've setup a few of these packages the appraoch will become familiar and you should be able to use the same methods for all."
   ]
  },
  {
   "cell_type": "markdown",
   "id": "fe7c3abd-b61c-4853-a79f-4ac1b4fe6f8c",
   "metadata": {},
   "source": [
    "# Imports\n",
    "These should need no explanation by now"
   ]
  },
  {
   "cell_type": "code",
   "execution_count": 2,
   "id": "a6a96aab-c3cd-4e74-b86e-fc47bcdfad44",
   "metadata": {},
   "outputs": [
    {
     "name": "stdout",
     "output_type": "stream",
     "text": [
      "Pandas version = 2.0.3\n",
      "Numpy version = 1.25.2\n",
      "Flopy version = 3.4.1\n",
      "Matplotlib version = 3.7.2\n"
     ]
    }
   ],
   "source": [
    "import os\n",
    "import sys\n",
    "import shutil\n",
    "import platform\n",
    "import pandas as pd\n",
    "import numpy as np\n",
    "import matplotlib\n",
    "import matplotlib.pyplot as plt\n",
    "import flopy\n",
    "\n",
    "print(f\"Pandas version = {pd.__version__}\")\n",
    "print(f\"Numpy version = {np.__version__}\")\n",
    "print(f\"Flopy version = {flopy.__version__}\")\n",
    "print(f\"Matplotlib version = {matplotlib.__version__}\")"
   ]
  },
  {
   "cell_type": "markdown",
   "id": "216f3e3c-5eba-4e82-b4b7-d4128a5160ab",
   "metadata": {},
   "source": [
    "# Folder setup\n",
    "Again nothing here you haven't seen before."
   ]
  },
  {
   "cell_type": "code",
   "execution_count": 4,
   "id": "075afe21-7100-4a6c-96c1-f1ba2b5dbc35",
   "metadata": {},
   "outputs": [],
   "source": [
    "ws4 = os.path.join('workshop_4') # here we are making a path not creating the folder\n",
    "gis_f = os.path.join(ws4,'GIS') # creating a sub-directory path for our gis input/output\n",
    "model_f = os.path.join(ws4,'model') # creating a sub-directory path for our model input/output\n",
    "plots_f = os.path.join(ws4,'plots') # creating a sub-directory path for our plots\n",
    "for path in [ws4,gis_f,model_f,plots_f]:\n",
    "    if os.path.exists(path): # here we are asking if the path exists on the computer. \n",
    "        shutil.rmtree(path)# if it does exist, delete it and all the files in it\n",
    "        os.mkdir(path) # then remake it\n",
    "    else:\n",
    "        os.mkdir(path) # if it doesn't exist then make the folder"
   ]
  },
  {
   "cell_type": "code",
   "execution_count": null,
   "id": "cafe48e0-363a-4d1d-84e8-666ea342fff8",
   "metadata": {},
   "outputs": [],
   "source": []
  }
 ],
 "metadata": {
  "kernelspec": {
   "display_name": "Python 3 (ipykernel)",
   "language": "python",
   "name": "python3"
  },
  "language_info": {
   "codemirror_mode": {
    "name": "ipython",
    "version": 3
   },
   "file_extension": ".py",
   "mimetype": "text/x-python",
   "name": "python",
   "nbconvert_exporter": "python",
   "pygments_lexer": "ipython3",
   "version": "3.10.12"
  }
 },
 "nbformat": 4,
 "nbformat_minor": 5
}
