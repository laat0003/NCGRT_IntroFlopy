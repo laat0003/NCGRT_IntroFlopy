{
 "cells": [
  {
   "cell_type": "markdown",
   "id": "1343339a-a845-4b32-b903-9010f915aeef",
   "metadata": {},
   "source": [
    "# Solute transport and variable-density modelling\r\n",
    "Hi and welcome to workshop six. Fitting all the possible things you can do with solute transport in MF6 in a single session is impossible so we will cover the most commonly applied packages and how to set them up. There is nothing new with regards to how to configure the input data for each package so we will also reference the mf6io.pdf continuously through out the session. This should aid your understanding by filling in the gaps with what won't be demonstrated in here. We will start with the same workshop setup we have been using in each workshop thus far. Then we will construct the Henry Problem, which is a benchmark variable-density problem in groundwater modelling. This will serve as our demonstration model for the complete workshop.\r\n"
   ]
  },
  {
   "cell_type": "code",
   "execution_count": null,
   "id": "d71c303b-563a-4ed5-9e27-5d489c6752e7",
   "metadata": {},
   "outputs": [],
   "source": [
    "import os\n",
    "import sys\n",
    "import shutil\n",
    "import platform\n",
    "import pandas as pd\n",
    "import numpy as np\n",
    "import matplotlib\n",
    "import matplotlib.pyplot as plt\n",
    "import flopy\n",
    "\n",
    "print(f\"Pandas version = {pd.__version__}\")\n",
    "print(f\"Numpy version = {np.__version__}\")\n",
    "print(f\"Flopy version = {flopy.__version__}\")\n",
    "print(f\"Matplotlib version = {matplotlib.__version__}\")"
   ]
  },
  {
   "cell_type": "code",
   "execution_count": null,
   "id": "5d837f4e-5438-481d-bcf2-ae734ed3391e",
   "metadata": {},
   "outputs": [],
   "source": [
    "ws6 = os.path.join('workshop_6') # here we are making a path not creating the folder\n",
    "gis_f = os.path.join(ws6,'GIS') # creating a sub-directory path for our gis input/output\n",
    "model_f = os.path.join(ws6,'model') # creating a sub-directory path for our model input/output\n",
    "plots_f = os.path.join(ws6,'plots') # creating a sub-directory path for our plots\n",
    "for path in [ws6,gis_f,model_f,plots_f]:\n",
    "    if os.path.exists(path): # here we are asking if the path exists on the computer. \n",
    "        shutil.rmtree(path)# if it does exist, delete it and all the files in it\n",
    "        os.mkdir(path) # then remake it\n",
    "    else:\n",
    "        os.mkdir(path) # if it doesn't exist then make the folder"
   ]
  },
  {
   "cell_type": "markdown",
   "id": "b2565dde-5b1b-439a-be20-846951eaffc3",
   "metadata": {},
   "source": [
    "# The Henry Problem"
   ]
  },
  {
   "cell_type": "code",
   "execution_count": null,
   "id": "39c8b4ec-6ecd-4945-9016-5a7355e1832e",
   "metadata": {},
   "outputs": [],
   "source": [
    "# setup a simulation\n",
    "simulation_name = 'MySim' # setting a name for our simulation\n",
    "sim = flopy.mf6.MFSimulation(sim_name=simulation_name, sim_ws=model_f, exe_name='mf6') # for a no frills mfsim.nam file\n",
    "\n",
    "# setup a tdis\n",
    "pdata = [(0.5,500,1.0)] # one stress period with 500 time steps\n",
    "tdis = flopy.mf6.ModflowTdis(sim,\n",
    "                             time_units=\"seconds\",\n",
    "                             nper=len(pdata),\n",
    "                             perioddata=pdata) # for the MySim.tdis file, recall this sets a single steady-state stress period"
   ]
  },
  {
   "cell_type": "code",
   "execution_count": null,
   "id": "a6f3a159-f669-485c-881a-be48c0d89940",
   "metadata": {},
   "outputs": [],
   "source": [
    "# setup a flow model\n",
    "model_name = 'flow' # setting a name for our model\n",
    "gwf = flopy.mf6.ModflowGwf(sim, modelname=model_name, save_flows=True) # for the flow.nam file"
   ]
  },
  {
   "cell_type": "markdown",
   "id": "79cc6ace-dcd8-4ee2-b44f-e315a0438538",
   "metadata": {},
   "source": [
    "# Multiple IMS instances\r\n",
    "The use of a flow-transport combined model requires multiple IMS instances still assigned to the same simulation but registered to different models. The first IMS instance will be automatically registered to the flow model. When we create the transport model will need another but registered to the transport model specifically What is used in the following code block is very similar to the \"SIMPLE\" configuration of solver settings..\r\n"
   ]
  },
  {
   "cell_type": "code",
   "execution_count": null,
   "id": "7ba402e4-669d-45bb-adb6-194f2a2e9718",
   "metadata": {},
   "outputs": [],
   "source": [
    "ims = flopy.mf6.ModflowIms(sim,\n",
    "                           filename=f\"{model_name}.ims\", # note specifying filename to align with model not default which aligns with simulation\n",
    "                           print_option=\"ALL\",\n",
    "                           outer_dvclose=1e-10,\n",
    "                           outer_maximum=100,\n",
    "                           inner_maximum=300,\n",
    "                           inner_dvclose=1e-10,\n",
    "                           rcloserecord=1e-6,\n",
    "                           linear_acceleration=\"BICGSTAB\", # note the other option here is the \"CG\" for conjugate gradient\n",
    "                           relaxation_factor=0.97) # used by LU preconditioner - can help convergence # for the MySim.ims file, recall this sets up IMS as 'SIMPLE'"
   ]
  },
  {
   "cell_type": "code",
   "execution_count": null,
   "id": "04895267-2e0d-4ae0-8a4e-420a57aab50f",
   "metadata": {},
   "outputs": [],
   "source": [
    "\n",
    "# A cross sectional model so only one row\n",
    "nlay = 40  # Number of layers\n",
    "nrow = 1  # Number of rows\n",
    "ncol = 80  # Number of columns\n",
    "system_length = 2.0  # Length of system ($m$)\n",
    "delr = 0.025  # Column width ($m$)\n",
    "delc = 1.0  # Row width ($m$)\n",
    "delv = 0.025  # Layer thickness\n",
    "top = 1.0  # Top of the model ($m$)\n",
    "botm = [top - k * delv for k in range(1, nlay + 1)] # list comprehension to get bottom elevations ($m$)\n",
    "\n",
    "dis = flopy.mf6.ModflowGwfdis(gwf,\n",
    "                        length_units=\"cm\",\n",
    "                        nlay=nlay,\n",
    "                        nrow=nrow,\n",
    "                        ncol=ncol,\n",
    "                        delr=delr,\n",
    "                        delc=delc,\n",
    "                        top=top,\n",
    "                        botm=botm)\n",
    "\n",
    "npf = flopy.mf6.ModflowGwfnpf(gwf,\n",
    "                        save_specific_discharge=True, # saves x,y,z components of flow so that you can plot flow vectors\n",
    "                        icelltype=0, # confined system\n",
    "                        k=864.0) # Hydraulic conductivity ($m d^{-1}$)\n",
    "\n",
    "ic = flopy.mf6.ModflowGwfic(gwf, strt=1.0) # the actual example has this as the concentartion\n",
    "\n",
    "oc = flopy.mf6.ModflowGwfoc(gwf,\n",
    "                       head_filerecord=f\"{model_name}.hds\",\n",
    "                       budget_filerecord=f\"{model_name}.cbb\",\n",
    "                       saverecord=[(\"HEAD\", \"ALL\"), (\"BUDGET\", \"ALL\")])\n",
    "\n",
    "# get a modelgrid object and plot the grid\n",
    "mg = gwf.modelgrid\n",
    "fig = plt.figure(figsize=(7,3)) # we are creating a figure object here so that we can dictate size\n",
    "ax = fig.add_subplot(1, 1, 1, aspect=\"equal\") # making sure our proportions are kept intact\n",
    "pxs = flopy.plot.PlotCrossSection(model=gwf, ax=ax, line={\"row\": 0})\n",
    "pxs.plot_grid()\n",
    "ax.set_title('DIS Model Grid')\n",
    "ax.set_xlabel('Length')\n",
    "ax.set_ylabel('Height')\n",
    "plt.tight_layout()\n",
    "# lets save it to our plots folder\n",
    "figname = os.path.join(plots_f,'DIS_model_grid.png') # note use of the plots folder path.\n",
    "# If you want to change the file format then change the extension from .png to pdf or just do both\n",
    "fig.savefig(figname,dpi=300)\n",
    "figname = os.path.join(plots_f,'DIS_model_grid.pdf')\n",
    "fig.savefig(figname,dpi=300) "
   ]
  },
  {
   "cell_type": "code",
   "execution_count": null,
   "id": "555fb80d-1ece-4a21-a243-a8a9ec4723af",
   "metadata": {},
   "outputs": [],
   "source": [
    "botm"
   ]
  },
  {
   "cell_type": "markdown",
   "id": "8d9c7a6d-2775-4472-b079-55020a2bb339",
   "metadata": {},
   "source": [
    "# Setting the ocean boundary\r\n",
    "This is where things will start to change a bit from what we did previously with flow only models. The setup of these boundary conditions represents one of the ways you can setup concentrations in MF6, which is via the auxiliary variables for the stress packages. Here we will use a general head boundary to represent a hydrostatic ocean with a salinity of 35.0 mg/l or 35 kg / 1000 L\r\n"
   ]
  },
  {
   "cell_type": "code",
   "execution_count": null,
   "id": "0bc6c2ff-b4ec-483c-8f03-9b340065a284",
   "metadata": {},
   "outputs": [],
   "source": [
    "ghbcond = 864.0 * delv * delc / (0.5 * delr) # KA/(L*0.5) # why not KA/L\n",
    "ghbspd = [[(k, 0, ncol - 1), top, ghbcond, 35.0] for k in range(nlay)] # 35.0 is an auxiliary variable - care to guess why we use 35.0\n",
    "# so wich side of the model is the ocean?\n",
    "ghb = flopy.mf6.ModflowGwfghb(gwf,\n",
    "                        stress_period_data=ghbspd,\n",
    "                        pname=\"GHB\",               # note the package names are needed later for the transport model linkage\n",
    "                        auxiliary=\"CONCENTRATION\") # note the use of an auxiliary variable for the SSM package - the name can be anything but we will need to use it later"
   ]
  },
  {
   "cell_type": "markdown",
   "id": "16507116-000f-4432-86ee-4a4882424513",
   "metadata": {},
   "source": [
    "# Setting discharge to the ocean\n",
    "The flux from the land to the ocean will be fresh and accordingly be assigned a concentration of zero."
   ]
  },
  {
   "cell_type": "code",
   "execution_count": null,
   "id": "421dbef9-92c5-40c1-96ea-998b004b4dd1",
   "metadata": {},
   "outputs": [],
   "source": [
    "inflow =5.7024\n",
    "# inflow = 2.851\n",
    "\n",
    "welspd = [[(k, 0, 0), inflow / nlay, 0.0] for k in range(nlay)]\n",
    "wel = flopy.mf6.ModflowGwfwel(gwf,\n",
    "                        stress_period_data=welspd,\n",
    "                              pname=\"WEL\",         # note the package names are needed later for the transport model linkage\n",
    "                        auxiliary=\"CONCENTRATION\") # note we use the same name here indicating that the auxiliary variable referes to the same species\n",
    "# what do you think would happen if we used a different variable name? Will flopy still build the package? Will the model still run?"
   ]
  },
  {
   "cell_type": "markdown",
   "id": "e5556bff-34dd-4537-b088-f685bc918451",
   "metadata": {},
   "source": [
    "# Take a look"
   ]
  },
  {
   "cell_type": "code",
   "execution_count": null,
   "id": "39909a37-7699-4a38-a259-eddafdb2d537",
   "metadata": {},
   "outputs": [],
   "source": [
    "# get a modelgrid object and plot the grid\n",
    "mg = gwf.modelgrid\n",
    "fig = plt.figure(figsize=(7,3)) # we are creating a figure object here so that we can dictate size\n",
    "ax = fig.add_subplot(1, 1, 1, aspect=\"equal\") # making sure our proportions are kept intact\n",
    "pxs = flopy.plot.PlotCrossSection(model=gwf, ax=ax, line={\"row\": 0})\n",
    "pxs.plot_grid()\n",
    "pxs.plot_bc(package=wel, color='blue')\n",
    "pxs.plot_bc(package=ghb, color='red')\n",
    "ax.set_title('Model Bounadries')\n",
    "ax.set_xlabel('Length')\n",
    "ax.set_ylabel('Height')\n",
    "plt.tight_layout()\n",
    "# lets save it to our plots folder\n",
    "figname = os.path.join(plots_f,'Model_flow_bounds.png') # note use of the plots folder path.\n",
    "# If you want to change the file format then change the extension from .png to pdf or just do both\n",
    "fig.savefig(figname,dpi=300)\n",
    "figname = os.path.join(plots_f,'Model_flow_bounds.pdf')\n",
    "fig.savefig(figname,dpi=300) "
   ]
  },
  {
   "cell_type": "code",
   "execution_count": null,
   "id": "575c83c6-1279-4ce9-88ef-39dbd9688a59",
   "metadata": {},
   "outputs": [],
   "source": [
    "sim.write_simulation()"
   ]
  },
  {
   "cell_type": "code",
   "execution_count": null,
   "id": "f39a0b59-fdb4-4008-90b2-5efc43294ad0",
   "metadata": {},
   "outputs": [],
   "source": [
    "sim.run_simulation()\n",
    "# have we simulated any transport?"
   ]
  },
  {
   "cell_type": "markdown",
   "id": "b0f7430b-49ec-4558-8f8f-8eb4bdefb5fd",
   "metadata": {},
   "source": [
    "# Checking the flow only simulation"
   ]
  },
  {
   "cell_type": "code",
   "execution_count": null,
   "id": "0a0f7ef8-4e48-4d4f-bc05-b3398be5b5bb",
   "metadata": {},
   "outputs": [],
   "source": [
    "# get the heads \n",
    "# load the heads file\n",
    "headfile = os.path.join(model_f,\"flow.hds\")\n",
    "hds = flopy.utils.binaryfile.HeadFile(headfile)\n",
    "\n",
    "last_step = hds.get_kstpkper()[-1] # how \n",
    "\n",
    "h = hds.get_data(last_step)\n",
    "# get the heads from the final step of the final stress period\n",
    "# get our contour levels using linspace\n",
    "levels = np.linspace(np.min(h),np.max(h),20) # we are setting 20 contours across the compete range of heads in the hds array forthe final step\n",
    "\n",
    "# same as before\n",
    "mg = gwf.modelgrid\n",
    "fig = plt.figure(figsize=(7,3)) # we are creating a figure object here so that we can dictate size\n",
    "ax = fig.add_subplot(1, 1, 1, aspect=\"equal\") # making sure our proportions are kept intact\n",
    "pxs = flopy.plot.PlotCrossSection(model=gwf, ax=ax, line={\"row\": 0})\n",
    "fa = pxs.plot_array(h) \n",
    "colorbar = plt.colorbar(fa, aspect=30, shrink= 0.8) # create a colorbar\n",
    "fc = pxs.contour_array(h,\n",
    "                       levels=levels,\n",
    "                       colors=\"w\",\n",
    "                       linewidths=1.0, \n",
    "                       linestyles=\"-\")\n",
    "plt.clabel(fc, fmt=\"%4.3f\", fontsize=7)\n",
    "ax.set_title('Heads flow only')\n",
    "ax.set_xlabel('Length')\n",
    "ax.set_ylabel('Height')\n",
    "plt.tight_layout()\n",
    "# lets save it to our plots folder\n",
    "figname = os.path.join(plots_f,'Henry_heads_flow_only.png') # note use of the plots folder path.\n",
    "# If you want to change the file format then change the extension from .png to pdf or just do both\n",
    "fig.savefig(figname,dpi=300)\n",
    "figname = os.path.join(plots_f,'Henry_heads_flow_only.pdf')\n",
    "fig.savefig(figname,dpi=300) "
   ]
  },
  {
   "cell_type": "markdown",
   "id": "ad3ed80f-c35f-42ab-b880-f5762cb38a2c",
   "metadata": {},
   "source": [
    "# Starting to construct the transport model\r\n",
    "One thing that will become obvious is that the flow and transport models share a lot of the same setup, with transport variants of the same packages. This includes the model object, ims object, and the tdis object.\r\n"
   ]
  },
  {
   "cell_type": "code",
   "execution_count": null,
   "id": "a6f69d0a-f8e2-44cd-9f46-956e7c520c1c",
   "metadata": {},
   "outputs": [],
   "source": [
    "# virtually identical to the flow model object and includes the same option settings \n",
    "# EXCEPT for the object name and class (ModflowGwt)\n",
    "model_name2 = \"trans\"\n",
    "gwt = flopy.mf6.ModflowGwt(sim, modelname=model_name2) # note we pass in the same sim object"
   ]
  },
  {
   "cell_type": "code",
   "execution_count": null,
   "id": "a5ea232f-d5d6-4024-8993-e15a6354f94f",
   "metadata": {},
   "outputs": [],
   "source": [
    "# what does sime look like now\n",
    "sim"
   ]
  },
  {
   "cell_type": "code",
   "execution_count": null,
   "id": "3d0a2439-aceb-475b-8291-2b9c1b51a789",
   "metadata": {},
   "outputs": [],
   "source": [
    "# Same for the IMS no change needed here \n",
    "# EXCEPT for the object name, note class the same here\n",
    "imsgwt = flopy.mf6.ModflowIms(sim,\n",
    "                           filename=f\"{model_name2}.ims\",\n",
    "                           print_option=\"ALL\",\n",
    "                           outer_dvclose=1e-10,\n",
    "                           outer_maximum=100,\n",
    "                           inner_maximum=300,\n",
    "                           inner_dvclose=1e-10,\n",
    "                           rcloserecord=1e-6,\n",
    "                           linear_acceleration=\"BICGSTAB\", # note the other option here is the \"CG\" for conjugate gradient\n",
    "                           relaxation_factor=0.97) # used by LU preconditioner - can help convergence # for the MySim.ims file, recall this sets up IMS as 'SIMPLE'\n",
    "\n",
    "# register register ims package package to the transport model\n",
    "sim.register_ims_package(imsgwt, [gwt.name])"
   ]
  },
  {
   "cell_type": "code",
   "execution_count": null,
   "id": "73025fb7-1b45-448f-b9b3-07ea0a796f7d",
   "metadata": {},
   "outputs": [],
   "source": [
    "# virtually identical to the flow model object and includes the same option settings \n",
    "# EXCEPT for the object name and class (ModflowGwtdis)\n",
    "# note also that we pass in the # pass in the transport model\n",
    "tdist = flopy.mf6.ModflowGwtdis(\n",
    "        gwt,                        \n",
    "        length_units=\"cm\",\n",
    "        nlay=nlay,\n",
    "        nrow=nrow,\n",
    "        ncol=ncol,\n",
    "        delr=delr,\n",
    "        delc=delc,\n",
    "        top=top,\n",
    "        botm=botm)"
   ]
  },
  {
   "cell_type": "markdown",
   "id": "adbb7934-ef36-4008-a2c5-f8c70aa4444c",
   "metadata": {},
   "source": [
    "# Mobile storage and mass transfer (porosity, sorption and decay)\n",
    "All transport models require porosity information so you will always have the is package in your transport model."
   ]
  },
  {
   "cell_type": "code",
   "execution_count": null,
   "id": "1cb2d7bd-21f7-4098-80da-e9282fc3e1e3",
   "metadata": {},
   "outputs": [],
   "source": [
    "# depending on the model this can have way more settings but they are all either string, boolean or float(array).\n",
    "# Check the mf6io.pdf document for the format of this pacakge - only one of these packages can be specified per transport model - but how many transport models can we have? \n",
    "por = flopy.mf6.ModflowGwtmst(gwt, \n",
    "                              porosity=0.35) #  we could also have passed in an array"
   ]
  },
  {
   "cell_type": "markdown",
   "id": "0984be9b-a9f5-4bb7-967b-a4b58c8c7ca4",
   "metadata": {},
   "source": [
    "# Initial concentrations"
   ]
  },
  {
   "cell_type": "code",
   "execution_count": null,
   "id": "e3b39453-c68f-4d38-900c-1b34c489b84b",
   "metadata": {},
   "outputs": [],
   "source": [
    "# inital concentrations\n",
    "ict = flopy.mf6.ModflowGwtic(gwt, \n",
    "                             strt=35.0) # means we start with an aquifer full of seawater -  we could also have passed in an array"
   ]
  },
  {
   "cell_type": "markdown",
   "id": "f3951810-a7c5-4c2b-a0ac-58c870001a79",
   "metadata": {},
   "source": [
    "# Advection"
   ]
  },
  {
   "cell_type": "code",
   "execution_count": null,
   "id": "366ee571-ced4-4841-acdc-65d53971a61e",
   "metadata": {},
   "outputs": [],
   "source": [
    "# the mumerical scheme used to calculate advective transport\n",
    "# check what the other options are.\n",
    "#We will discuss this package in more detail using the MF6io.pdf document.\n",
    "adv = flopy.mf6.ModflowGwtadv(gwt, \n",
    "                              scheme=\"UPSTREAM\")"
   ]
  },
  {
   "cell_type": "markdown",
   "id": "06202fb3-e463-45cc-a3df-94d59324feef",
   "metadata": {},
   "source": [
    "# Dispersion and diffusion\n",
    "We will discuss this package in more detail using the MF6io.pdf document."
   ]
  },
  {
   "cell_type": "code",
   "execution_count": null,
   "id": "ecf47dc1-bfc5-4d34-ac21-cec97e522e1c",
   "metadata": {},
   "outputs": [],
   "source": [
    "# Note the Henry problem does not use dispersion, which would add lots more input\n",
    "# Check the mf6io.pdf document for the format of this pacakge\n",
    "dsp = flopy.mf6.ModflowGwtdsp(gwt, \n",
    "                              diffc=0.57024) # value specific to the Henry Problem"
   ]
  },
  {
   "cell_type": "markdown",
   "id": "f31766f4-8cde-474c-b3fa-aad10f2ba290",
   "metadata": {},
   "source": [
    "# Sink Source Mixing \n",
    "This is where the link between the flow models auxiliary variables and the transport model happens. Note this is specific to this type of bounday condition wherein a concentration is assigned to a flux entering the model and the the model will calculate the concentrations exiting he model. This is sometimes referred to as a \"third type\" soulte boundary. Does it account for dispersive and diffusive flux out of the model? To establish the link with the auxiliary variables in the flow model you have to provide the package and auxilairy variable information. "
   ]
  },
  {
   "cell_type": "code",
   "execution_count": null,
   "id": "2c460be2-ba70-433d-8de5-09f9fac8c000",
   "metadata": {},
   "outputs": [],
   "source": [
    "# We start by creating a list of sources defined by string tuples\n",
    "sourcerecarray = [\n",
    "        (\"GHB\", \"AUX\", \"CONCENTRATION\"), # package name, source type, variable name in the package\n",
    "        (\"WEL\", \"AUX\", \"CONCENTRATION\"), # What other source types are there? Why do they exist? Read the mf6io.pdf document\n",
    "    ]\n",
    "# now w e build the package and pass in the sources\n",
    "ssm =  flopy.mf6.ModflowGwtssm(gwt, \n",
    "                               sources=sourcerecarray)\n",
    "# what happens if I also had recharge in the model but didn't assign it an auxliary variable? Will that cause an error? \n",
    "# any source or sink in the flow modle that isn't listed is assumed to have zero solute concentration flux in \n",
    "# and model calculated concentration flux out"
   ]
  },
  {
   "cell_type": "markdown",
   "id": "b56ff485-4ecd-411b-928d-52a47a522019",
   "metadata": {},
   "source": [
    "# Output control"
   ]
  },
  {
   "cell_type": "code",
   "execution_count": null,
   "id": "02424cad-c713-48dd-9463-47c6630b5ff2",
   "metadata": {},
   "outputs": [],
   "source": [
    "# Same as for flow except the options are specific to soulte transport and the class is different\n",
    "oct = flopy.mf6.ModflowGwtoc(gwt,\n",
    "                       budget_filerecord=f\"{model_name2}.cbc\",\n",
    "                       concentration_filerecord=f\"{model_name2}.ucn\",\n",
    "                       concentrationprintrecord=[(\"COLUMNS\", 10, \"WIDTH\", 15, \"DIGITS\", 6, \"GENERAL\")],\n",
    "                       saverecord=[(\"CONCENTRATION\", \"ALL\")],\n",
    "                       printrecord=[(\"CONCENTRATION\", \"LAST\"), (\"BUDGET\", \"LAST\")])"
   ]
  },
  {
   "cell_type": "markdown",
   "id": "c7a73095-eb07-4fd3-9956-787c46b2b4fe",
   "metadata": {},
   "source": [
    "# Density\n",
    "More than one species can contribute to the density calculation. So the inforamtion needed by the BUY package includes the transport model name and the name of the variable representing a solute concentration."
   ]
  },
  {
   "cell_type": "code",
   "execution_count": null,
   "id": "8e39f75a-ef00-4f5c-9507-f885a187c2c0",
   "metadata": {},
   "outputs": [],
   "source": [
    "pd = [(0, 0.7, 0.0, \"trans\", \"concentration\")] \n",
    "# species number, slope of desnity-concentration line, concentration of the reference density, transport model name, variable name\n",
    "buy = flopy.mf6.ModflowGwfbuy(gwf, \n",
    "                        packagedata=pd)"
   ]
  },
  {
   "cell_type": "markdown",
   "id": "9b0effd1-f994-4170-87a0-62027a21e7fc",
   "metadata": {},
   "source": [
    "# Exchange file that links flow and transport"
   ]
  },
  {
   "cell_type": "code",
   "execution_count": null,
   "id": "3ac6ffd9-bd73-43fa-bf7e-0dd2760b7315",
   "metadata": {},
   "outputs": [],
   "source": [
    "exch = flopy.mf6.ModflowGwfgwt(sim,                  # pass in the sim\n",
    "                               exgtype=\"GWF6-GWT6\",  # in this case it is GWF-GWT but we can also have GWF-GWF if linking flow models\n",
    "                               exgmnamea=gwf.name,   # the flow model name \n",
    "                               exgmnameb=gwt.name)   # the transport model name note the order."
   ]
  },
  {
   "cell_type": "code",
   "execution_count": null,
   "id": "a5166f5b-f384-460d-abce-e3d4125eb9f9",
   "metadata": {},
   "outputs": [],
   "source": [
    "sim.write_simulation()\n",
    "sim.run_simulation()"
   ]
  },
  {
   "cell_type": "code",
   "execution_count": null,
   "id": "11b19334-78b1-4d49-8069-b4e93fd7591b",
   "metadata": {},
   "outputs": [],
   "source": [
    "# get the heads \n",
    "# load the heads file\n",
    "headfile = os.path.join(model_f,\"flow.hds\")\n",
    "hds = flopy.utils.binaryfile.HeadFile(headfile)\n",
    "\n",
    "last_step = hds.get_kstpkper()[-1] # how \n",
    "\n",
    "h = hds.get_data(last_step)\n",
    "# get the heads from the final step of the final stress period\n",
    "# get our contour levels using linspace\n",
    "levels = np.linspace(np.min(h),np.max(h),20) # we are setting 20 contours across the compete range of heads in the hds array forthe final step\n",
    "\n",
    "# same as before\n",
    "mg = gwf.modelgrid\n",
    "fig = plt.figure(figsize=(7,3)) # we are creating a figure object here so that we can dictate size\n",
    "ax = fig.add_subplot(1, 1, 1, aspect=\"equal\") # making sure our proportions are kept intact\n",
    "pxs = flopy.plot.PlotCrossSection(model=gwf, ax=ax, line={\"row\": 0})\n",
    "fa = pxs.plot_array(h) \n",
    "colorbar = plt.colorbar(fa, aspect=30, shrink= 0.8) # create a colorbar\n",
    "fc = pxs.contour_array(h,\n",
    "                       levels=levels,\n",
    "                       colors=\"w\",\n",
    "                       linewidths=1.0, \n",
    "                       linestyles=\"-\")\n",
    "plt.clabel(fc, fmt=\"%4.3f\", fontsize=7)\n",
    "ax.set_title('Heads density flow')\n",
    "ax.set_xlabel('Length')\n",
    "ax.set_ylabel('Height')\n",
    "plt.tight_layout()\n",
    "# lets save it to our plots folder\n",
    "figname = os.path.join(plots_f,'Henry_heads_density_flow.png') # note use of the plots folder path.\n",
    "# If you want to change the file format then change the extension from .png to pdf or just do both\n",
    "fig.savefig(figname,dpi=300)\n",
    "figname = os.path.join(plots_f,'Henry_heads_density_flow.pdf')\n",
    "fig.savefig(figname,dpi=300) "
   ]
  },
  {
   "cell_type": "code",
   "execution_count": null,
   "id": "4b3a6629-1f33-443b-810b-619216434ecc",
   "metadata": {},
   "outputs": [],
   "source": [
    "# get the concentrations \n",
    "# load the concentration file\n",
    "concfile = os.path.join(model_f,\"trans.ucn\")\n",
    "conc = flopy.utils.binaryfile.HeadFile(concfile, text='conc') \n",
    "# Note we are still using a HeadsFile object but reading a concentration file, you must tell it to look for \"conc\" as the array of interest\n",
    "\n",
    "last_step = conc.get_kstpkper()[-1] # Now change this to conc instead of hds\n",
    "\n",
    "c = conc.get_data(last_step)\n",
    "# get the concentration from the final step of the final stress period\n",
    "# get our contour levels using linspace\n",
    "levels = list(range(1,36,3)) # we are setting 35 contours across the compete range of heads in the hds array forthe final step"
   ]
  },
  {
   "cell_type": "code",
   "execution_count": null,
   "id": "ae33b030-12f7-4c69-9cef-0b859fa50954",
   "metadata": {},
   "outputs": [],
   "source": [
    "# same as before\n",
    "mg = gwf.modelgrid\n",
    "fig = plt.figure(figsize=(7,3)) # we are creating a figure object here so that we can dictate size\n",
    "ax = fig.add_subplot(1, 1, 1, aspect=\"equal\") # making sure our proportions are kept intact\n",
    "pxs = flopy.plot.PlotCrossSection(model=gwf, ax=ax, line={\"row\": 0})\n",
    "fa = pxs.plot_array(c) \n",
    "colorbar = plt.colorbar(fa, aspect=30, shrink= 0.8) # create a colorbar\n",
    "fc = pxs.contour_array(c,\n",
    "                       levels=levels,\n",
    "                       colors=\"w\",\n",
    "                       linewidths=1.0, \n",
    "                       linestyles=\"-\")\n",
    "plt.clabel(fc, fmt=\"%4.3f\", fontsize=7)\n",
    "ax.set_title('Concentration density flow')\n",
    "ax.set_xlabel('Length')\n",
    "ax.set_ylabel('Height')\n",
    "plt.tight_layout()\n",
    "# lets save it to our plots folder\n",
    "figname = os.path.join(plots_f,'Henry_concentration_density_flow.png') # note use of the plots folder path.\n",
    "# If you want to change the file format then change the extension from .png to pdf or just do both\n",
    "fig.savefig(figname,dpi=300)\n",
    "figname = os.path.join(plots_f,'Henry_concentration_density_flow.pdf')\n",
    "fig.savefig(figname,dpi=300) "
   ]
  },
  {
   "cell_type": "markdown",
   "id": "5f3669c8-0e67-4bac-a1e1-9c2fb0c486ee",
   "metadata": {},
   "source": [
    "# Flow vectors"
   ]
  },
  {
   "cell_type": "code",
   "execution_count": null,
   "id": "295db870-91a0-4ece-8df6-817c2727378f",
   "metadata": {},
   "outputs": [],
   "source": [
    "bud = gwf.output.budget()  # get the flow model budget\n",
    "spdis = bud.get_data(text='DATA-SPDIS')[-1]  # get the final time step\n",
    "qx, qy, qz = flopy.utils.postprocessing.get_specific_discharge(spdis, gwf) # get component discharges, we need these for vectors\n",
    "\n",
    "mg = gwf.modelgrid\n",
    "fig = plt.figure(figsize=(7,3)) # we are creating a figure object here so that we can dictate size\n",
    "ax = fig.add_subplot(1, 1, 1, aspect=\"equal\") # making sure our proportions are kept intact\n",
    "pxs = flopy.plot.PlotCrossSection(model=gwf, ax=ax, line={\"row\": 0})\n",
    "fa = pxs.plot_array(c) \n",
    "colorbar = plt.colorbar(fa, aspect=30, shrink= 0.8) # create a colorbar\n",
    "pxs.plot_vector(qx, qy, qz, color=\"white\", kstep = 2, hstep = 2) # use kstep and hstep to change the number of vectors being plotted\n",
    "plt.clabel(fc, fmt=\"%4.3f\", fontsize=7)\n",
    "ax.set_title('Concentration density flow vectors')\n",
    "ax.set_xlabel('Length')\n",
    "ax.set_ylabel('Height')\n",
    "plt.tight_layout()\n",
    "# lets save it to our plots folder\n",
    "figname = os.path.join(plots_f,'Henry_concentration_density_vectors.png') # note use of the plots folder path.\n",
    "# If you want to change the file format then change the extension from .png to pdf or just do both\n",
    "fig.savefig(figname,dpi=300)\n",
    "figname = os.path.join(plots_f,'Henry_concentration_density_vectors.pdf')\n",
    "fig.savefig(figname,dpi=300) "
   ]
  },
  {
   "cell_type": "code",
   "execution_count": null,
   "id": "57df1ab5-ccf4-4b50-9184-ef518ff119aa",
   "metadata": {},
   "outputs": [],
   "source": [
    "# plotting a time series of figures\n",
    "# first make our plot into a function\n",
    "def my_plot(num,timestep):\n",
    "    c = conc.get_data(timestep)\n",
    "    fig = plt.figure(figsize=(7,3)) # we are creating a figure object here so that we can dictate size\n",
    "    ax = fig.add_subplot(1, 1, 1, aspect=\"equal\") # making sure our proportions are kept intact\n",
    "    pxs = flopy.plot.PlotCrossSection(model=gwf, ax=ax, line={\"row\": 0})\n",
    "    fa = pxs.plot_array(c) \n",
    "    colorbar = plt.colorbar(fa, aspect=30, shrink= 0.8) # create a colorbar\n",
    "    fc = pxs.contour_array(c,\n",
    "                           levels=levels,\n",
    "                           colors=\"w\",\n",
    "                           linewidths=1.0, \n",
    "                           linestyles=\"-\")\n",
    "    plt.clabel(fc, fmt=\"%4.3f\", fontsize=7)\n",
    "    ax.set_title('Concentration density flow')\n",
    "    ax.set_xlabel('Length')\n",
    "    ax.set_ylabel('Height')\n",
    "    plt.tight_layout()\n",
    "    # lets save it to our plots folder\n",
    "    figname = os.path.join(plots_f,'Henry_concentration_density_flow.png') # note use of the plots folder path.\n",
    "    # If you want to change the file format then change the extension from .png to pdf or just do both\n",
    "    fig.savefig(figname,dpi=300)\n",
    "    figname = os.path.join(plots_f,f'conc_contours_{num:03d}.png') # note this is how we keep them sequential\n",
    "    fig.savefig(figname,dpi=300)\n",
    "    plt.close() # always a good idea when you create lots of plots\n",
    "\n",
    "for i,output in enumerate(hds.get_kstpkper()[::10]): # every 10th output given our model output timing\n",
    "    my_plot(i,output)\n",
    "\n",
    "# Will then use ffmpeg from command line to stitch frames into video\n",
    "# still trying to figure out how to best use it from python"
   ]
  },
  {
   "cell_type": "markdown",
   "id": "07a0727e-5533-4c4c-8a68-849824893136",
   "metadata": {},
   "source": [
    "# Using stress package concentrations"
   ]
  },
  {
   "cell_type": "code",
   "execution_count": null,
   "id": "e03be65a-e007-4bde-9f3e-cc3ce2f3fd7b",
   "metadata": {},
   "outputs": [],
   "source": [
    "gwf.remove_package(\"evt\")\n",
    "gwf.remove_package(\"rch\")"
   ]
  },
  {
   "cell_type": "code",
   "execution_count": null,
   "id": "81757454-0073-40fa-9596-c8e3d198ed77",
   "metadata": {},
   "outputs": [],
   "source": [
    "evt = flopy.mf6.ModflowGwfevta(gwf,\n",
    "                               pname = \"evt\", # need this later\n",
    "                               auxiliary=\"concentration\",\n",
    "                               surface = 1.0,\n",
    "                               rate = 0.1,\n",
    "                               depth = 0.5)\n",
    "\n",
    "rch = flopy.mf6.ModflowGwfrcha(gwf,\n",
    "                               pname = \"rch\",\n",
    "                               auxiliary=\"concentration\",\n",
    "                               recharge=0.14256)"
   ]
  },
  {
   "cell_type": "code",
   "execution_count": null,
   "id": "d3ff57af-4f04-47d6-997a-4212ed54f366",
   "metadata": {},
   "outputs": [],
   "source": [
    "sim.write_simulation()\n",
    "sim.run_simulation()"
   ]
  },
  {
   "cell_type": "code",
   "execution_count": null,
   "id": "9be5bd61-9da8-4ca6-8f7f-e5b4083db7c5",
   "metadata": {},
   "outputs": [],
   "source": [
    "# get the concentrations \n",
    "# load the concentration file\n",
    "concfile = os.path.join(model_f,\"trans.ucn\")\n",
    "conc = flopy.utils.binaryfile.HeadFile(concfile, text='conc') \n",
    "# Note we are still using a HeadsFile object but reading a concentration file, you must tell it to look for \"conc\" as the array of interest\n",
    "\n",
    "last_step = conc.get_kstpkper()[-1] # Now change this to conc instead of hds\n",
    "\n",
    "c = conc.get_data(last_step)\n",
    "# get the concentration from the final step of the final stress period\n",
    "# get our contour levels using linspace\n",
    "levels = list(range(1,36,3)) # we are setting 35 contours across the compete range of heads in the hds array forthe final step\n",
    "# same as before\n",
    "mg = gwf.modelgrid\n",
    "fig = plt.figure(figsize=(7,3)) # we are creating a figure object here so that we can dictate size\n",
    "ax = fig.add_subplot(1, 1, 1, aspect=\"equal\") # making sure our proportions are kept intact\n",
    "pxs = flopy.plot.PlotCrossSection(model=gwf, ax=ax, line={\"row\": 0})\n",
    "fa = pxs.plot_array(c) \n",
    "colorbar = plt.colorbar(fa, aspect=30, shrink= 0.8) # create a colorbar\n",
    "fc = pxs.contour_array(c,\n",
    "                       levels=levels,\n",
    "                       colors=\"w\",\n",
    "                       linewidths=1.0, \n",
    "                       linestyles=\"-\")\n",
    "plt.clabel(fc, fmt=\"%4.3f\", fontsize=7)\n",
    "ax.set_title('Concentration density flow')\n",
    "ax.set_xlabel('Length')\n",
    "ax.set_ylabel('Height')\n",
    "plt.tight_layout()\n",
    "# lets save it to our plots folder\n",
    "figname = os.path.join(plots_f,'Henry_concentration_density_ET_RCH.png') # note use of the plots folder path.\n",
    "# If you want to change the file format then change the extension from .png to pdf or just do both\n",
    "fig.savefig(figname,dpi=300)\n",
    "figname = os.path.join(plots_f,'Henry_concentration_density_ET_RCH.pdf')\n",
    "fig.savefig(figname,dpi=300) "
   ]
  },
  {
   "cell_type": "code",
   "execution_count": null,
   "id": "7d86315a-ac7d-4153-9a0c-0dfae85b5f76",
   "metadata": {},
   "outputs": [],
   "source": [
    "spc_dict = {}\n",
    "spc_dict[0]=35.0 # no conc in first stress period\n",
    "\n",
    "spc1 = flopy.mf6.ModflowUtlspca(gwt,concentration=spc_dict,\n",
    "                         pname='spca1',\n",
    "                         filename=f\"{model_name2}_1spc.spca\")\n",
    "spc_dict = {}\n",
    "spc_dict[0]=0.0\n",
    "spc2 = flopy.mf6.ModflowUtlspca(gwt,concentration=spc_dict,\n",
    "                         pname='spca2',\n",
    "                         filename=f\"{model_name2}_2spc.spca\")\n",
    "\n",
    "ssm =  flopy.mf6.ModflowGwtssm(gwt, \n",
    "                               sources=sourcerecarray,\n",
    "                              fileinput=(['rch',f\"{model_name2}_1spc.spca\"]))\n",
    "ssm.fileinput.append_list_as_record(['evt',f\"{model_name2}_2spc.spca\", 'MIXED']) # mixed means that we will have evapoconcentration"
   ]
  },
  {
   "cell_type": "code",
   "execution_count": null,
   "id": "78bfcdd2-ef0d-4b73-913e-c8f13487db80",
   "metadata": {},
   "outputs": [],
   "source": [
    "sim.write_simulation()\n",
    "sim.run_simulation()"
   ]
  },
  {
   "cell_type": "code",
   "execution_count": null,
   "id": "dcfa9b17-1a3d-424e-ad03-72b25b9c06b0",
   "metadata": {},
   "outputs": [],
   "source": [
    "# get the concentrations \n",
    "# load the concentration file\n",
    "concfile = os.path.join(model_f,\"trans.ucn\")\n",
    "conc = flopy.utils.binaryfile.HeadFile(concfile, text='conc') \n",
    "# Note we are still using a HeadsFile object but reading a concentration file, you must tell it to look for \"conc\" as the array of interest\n",
    "\n",
    "last_step = conc.get_kstpkper()[-1] # Now change this to conc instead of hds\n",
    "\n",
    "c = conc.get_data(last_step)\n",
    "# get the concentration from the final step of the final stress period\n",
    "# get our contour levels using linspace\n",
    "levels = list(range(1,36,3)) # we are setting 35 contours across the compete range of heads in the hds array forthe final step\n",
    "\n",
    "bud = gwf.output.budget()  # get the flow model budget\n",
    "spdis = bud.get_data(text='DATA-SPDIS')[-1]  # get the final time step\n",
    "qx, qy, qz = flopy.utils.postprocessing.get_specific_discharge(spdis, gwf) # get component discharges, we need these for vectors\n",
    "\n",
    "mg = gwf.modelgrid\n",
    "fig = plt.figure(figsize=(7,3)) # we are creating a figure object here so that we can dictate size\n",
    "ax = fig.add_subplot(1, 1, 1, aspect=\"equal\") # making sure our proportions are kept intact\n",
    "pxs = flopy.plot.PlotCrossSection(model=gwf, ax=ax, line={\"row\": 0})\n",
    "fa = pxs.plot_array(c) \n",
    "colorbar = plt.colorbar(fa, aspect=30, shrink= 0.8) # create a colorbar\n",
    "pxs.plot_vector(qx, qy, qz, color=\"white\", kstep = 2, hstep = 2) # use kstep and hstep to change the number of vectors being plotted\n",
    "plt.clabel(fc, fmt=\"%4.3f\", fontsize=7)\n",
    "ax.set_title('Concentration density flow vectors')\n",
    "ax.set_xlabel('Length')\n",
    "ax.set_ylabel('Height')\n",
    "plt.tight_layout()\n",
    "# lets save it to our plots folder\n",
    "figname = os.path.join(plots_f,'Henry_concentration_density_ET_RCH.png') # note use of the plots folder path.\n",
    "# If you want to change the file format then change the extension from .png to pdf or just do both\n",
    "fig.savefig(figname,dpi=300)\n",
    "figname = os.path.join(plots_f,'Henry_concentration_density_ET_RCH.pdf')\n",
    "fig.savefig(figname,dpi=300) "
   ]
  },
  {
   "cell_type": "markdown",
   "id": "d52c7e88-6146-496d-b2d5-ab9dab1dbf51",
   "metadata": {},
   "source": [
    "# Constant concentration package"
   ]
  },
  {
   "cell_type": "code",
   "execution_count": null,
   "id": "ceeb8424-900c-452b-9276-50d9ad9b08df",
   "metadata": {},
   "outputs": [],
   "source": [
    "# going to add in concentration for tailings using spit_nodes\n",
    "cnc_data = {}\n",
    "pdata = []\n",
    "for lay in range(20,31): # note this specific scenario considers concentration in layer 1.\n",
    "    for col in range(20,31):\n",
    "        pdata.append(((lay,0,col),27.0,'tailings'))\n",
    "cnc_data[0]=pdata # note this will apply until end of simulation\n",
    "cnc = flopy.mf6.ModflowGwtcnc(gwt,\n",
    "                              boundnames=True,\n",
    "                              save_flows=True,\n",
    "                              maxbound=len(pdata) ,\n",
    "                              stress_period_data = cnc_data,\n",
    "                              filename=\"{}_1.cnc\".format(model_name2),\n",
    "                              pname = 'cnc_1')"
   ]
  },
  {
   "cell_type": "code",
   "execution_count": null,
   "id": "d899ba18-be0f-45f0-9252-3db9ac0529dc",
   "metadata": {},
   "outputs": [],
   "source": [
    "sim.write_simulation()\n",
    "sim.run_simulation()"
   ]
  },
  {
   "cell_type": "code",
   "execution_count": null,
   "id": "9b5fae11-8157-4d24-b675-e9396ae21d63",
   "metadata": {},
   "outputs": [],
   "source": [
    "# get the concentrations \n",
    "# load the concentration file\n",
    "concfile = os.path.join(model_f,\"trans.ucn\")\n",
    "conc = flopy.utils.binaryfile.HeadFile(concfile, text='conc') \n",
    "# Note we are still using a HeadsFile object but reading a concentration file, you must tell it to look for \"conc\" as the array of interest\n",
    "\n",
    "last_step = conc.get_kstpkper()[-1] # Now change this to conc instead of hds\n",
    "\n",
    "c = conc.get_data(last_step)\n",
    "# get the concentration from the final step of the final stress period\n",
    "# get our contour levels using linspace\n",
    "levels = list(range(1,36,3)) # we are setting 35 contours across the compete range of heads in the hds array forthe final step\n",
    "# same as before\n",
    "mg = gwf.modelgrid\n",
    "fig = plt.figure(figsize=(7,3)) # we are creating a figure object here so that we can dictate size\n",
    "ax = fig.add_subplot(1, 1, 1, aspect=\"equal\") # making sure our proportions are kept intact\n",
    "pxs = flopy.plot.PlotCrossSection(model=gwf, ax=ax, line={\"row\": 0})\n",
    "fa = pxs.plot_array(c) \n",
    "colorbar = plt.colorbar(fa, aspect=30, shrink= 0.8) # create a colorbar\n",
    "fc = pxs.contour_array(c,\n",
    "                       levels=levels,\n",
    "                       colors=\"w\",\n",
    "                       linewidths=1.0, \n",
    "                       linestyles=\"-\")\n",
    "plt.clabel(fc, fmt=\"%4.3f\", fontsize=7)\n",
    "ax.set_title('Concentration density flow')\n",
    "ax.set_xlabel('Length')\n",
    "ax.set_ylabel('Height')\n",
    "plt.tight_layout()\n",
    "# lets save it to our plots folder\n",
    "figname = os.path.join(plots_f,'Henry_concentration_density_CNC.png') # note use of the plots folder path.\n",
    "# If you want to change the file format then change the extension from .png to pdf or just do both\n",
    "fig.savefig(figname,dpi=300)\n",
    "figname = os.path.join(plots_f,'Henry_concentration_density_CNC.pdf')\n",
    "fig.savefig(figname,dpi=300) "
   ]
  },
  {
   "cell_type": "markdown",
   "id": "faccbd99-5547-4e1a-9c2a-6ee46c36ab3d",
   "metadata": {},
   "source": [
    "# Mass Source Loading package"
   ]
  },
  {
   "cell_type": "code",
   "execution_count": null,
   "id": "76dd614b-a588-4dcd-b1d3-e5c387e27218",
   "metadata": {},
   "outputs": [],
   "source": [
    "# going to add in concentration for tailings using spit_nodes\n",
    "src_data = {}\n",
    "pdata = []\n",
    "for lay in range(0,2): # note this specific scenario considers concentration in layer 1.\n",
    "    for col in range(50,60):\n",
    "        pdata.append(((lay,0,col),1.0,'waste'))\n",
    "src_data[0]=pdata # note this will apply until end of simulation\n",
    "src = flopy.mf6.ModflowGwtsrc(gwt,\n",
    "                              boundnames=True,\n",
    "                              save_flows=True,\n",
    "                              maxbound=len(pdata) ,\n",
    "                              stress_period_data = src_data,\n",
    "                              filename=\"{}_1.src\".format(model_name2),\n",
    "                              pname = 'src_1')"
   ]
  },
  {
   "cell_type": "code",
   "execution_count": null,
   "id": "279c0bdd-3efb-4a33-85f0-591700baeae7",
   "metadata": {},
   "outputs": [],
   "source": [
    "sim.write_simulation()\n",
    "sim.run_simulation()"
   ]
  },
  {
   "cell_type": "code",
   "execution_count": null,
   "id": "896ac111-93f7-4bfb-9481-9fe43bf56ded",
   "metadata": {},
   "outputs": [],
   "source": [
    "# get the concentrations \n",
    "# load the concentration file\n",
    "concfile = os.path.join(model_f,\"trans.ucn\")\n",
    "conc = flopy.utils.binaryfile.HeadFile(concfile, text='conc') \n",
    "# Note we are still using a HeadsFile object but reading a concentration file, you must tell it to look for \"conc\" as the array of interest\n",
    "\n",
    "last_step = conc.get_kstpkper()[-1] # Now change this to conc instead of hds\n",
    "\n",
    "c = conc.get_data(last_step)\n",
    "# get the concentration from the final step of the final stress period\n",
    "# get our contour levels using linspace\n",
    "levels = list(range(1,36,3)) # we are setting 35 contours across the compete range of heads in the hds array forthe final step\n",
    "# same as before\n",
    "mg = gwf.modelgrid\n",
    "fig = plt.figure(figsize=(7,3)) # we are creating a figure object here so that we can dictate size\n",
    "ax = fig.add_subplot(1, 1, 1, aspect=\"equal\") # making sure our proportions are kept intact\n",
    "pxs = flopy.plot.PlotCrossSection(model=gwf, ax=ax, line={\"row\": 0})\n",
    "fa = pxs.plot_array(c) \n",
    "colorbar = plt.colorbar(fa, aspect=30, shrink= 0.8) # create a colorbar\n",
    "fc = pxs.contour_array(c,\n",
    "                       levels=levels,\n",
    "                       colors=\"w\",\n",
    "                       linewidths=1.0, \n",
    "                       linestyles=\"-\")\n",
    "plt.clabel(fc, fmt=\"%4.3f\", fontsize=7)\n",
    "ax.set_title('Concentration density flow')\n",
    "ax.set_xlabel('Length')\n",
    "ax.set_ylabel('Height')\n",
    "plt.tight_layout()\n",
    "# lets save it to our plots folder\n",
    "figname = os.path.join(plots_f,'The_works.png') # note use of the plots folder path.\n",
    "# If you want to change the file format then change the extension from .png to pdf or just do both\n",
    "fig.savefig(figname,dpi=300)\n",
    "figname = os.path.join(plots_f,'The_works.pdf')\n",
    "fig.savefig(figname,dpi=300) "
   ]
  },
  {
   "cell_type": "markdown",
   "id": "f6e0d6b9-3cb8-4bc5-ba62-e362bd52a554",
   "metadata": {},
   "source": [
    "# Thats all folks\r\n",
    "That covers most of the commonly used solute transport packages. Advanced stress packages have there own transport variants of their flow packages which must be used if simulating transport with an advanced stress package. Hope you enjoyed this session and we'll see you for the next session which will cover the use of ZoneBudget and particle tracking with a few simple examples.\r\n"
   ]
  },
  {
   "cell_type": "code",
   "execution_count": null,
   "id": "c515c434-bf0f-4160-8adb-ce41b04ff280",
   "metadata": {},
   "outputs": [],
   "source": []
  },
  {
   "cell_type": "code",
   "execution_count": null,
   "id": "e9409321-59f6-4a2f-802b-4ae2e6ab1abe",
   "metadata": {},
   "outputs": [],
   "source": []
  },
  {
   "cell_type": "code",
   "execution_count": null,
   "id": "1829a8ba-c982-4b89-8390-daec2479c526",
   "metadata": {},
   "outputs": [],
   "source": []
  },
  {
   "cell_type": "code",
   "execution_count": null,
   "id": "94350aa0-7c5d-4c8e-9216-82ffc1c6d5de",
   "metadata": {},
   "outputs": [],
   "source": []
  }
 ],
 "metadata": {
  "kernelspec": {
   "display_name": "Python 3 (ipykernel)",
   "language": "python",
   "name": "python3"
  },
  "language_info": {
   "codemirror_mode": {
    "name": "ipython",
    "version": 3
   },
   "file_extension": ".py",
   "mimetype": "text/x-python",
   "name": "python",
   "nbconvert_exporter": "python",
   "pygments_lexer": "ipython3",
   "version": "3.10.12"
  }
 },
 "nbformat": 4,
 "nbformat_minor": 5
}
